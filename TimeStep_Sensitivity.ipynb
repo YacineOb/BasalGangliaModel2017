{
 "cells": [
  {
   "cell_type": "raw",
   "metadata": {
    "collapsed": true,
    "deletable": true,
    "editable": true
   },
   "source": [
    "import os\n",
    "import time\n",
    "import numpy as np\n",
    "from matplotlib import pyplot as plt\n",
    "from matplotlib.ticker import FormatStrFormatter\n",
    "from math import exp, cos, sin, tan,pi\n",
    "from tqdm import tqdm"
   ]
  },
  {
   "cell_type": "markdown",
   "metadata": {
    "deletable": true,
    "editable": true
   },
   "source": [
    "# Loading Data: Fixed point"
   ]
  },
  {
   "cell_type": "code",
   "execution_count": null,
   "metadata": {
    "collapsed": true,
    "deletable": true,
    "editable": true
   },
   "outputs": [],
   "source": [
    "## ============================================ Fixed point comparison ======================================\n",
    "\n",
    "# Time_step=0.1 ms\n",
    "a00001=np.load('DataStep/FP/0.0001/GpeMsn_Activities.npy')\n",
    "b00001=np.load('DataStep/FP/0.0001/MsnFsi_Activities.npy')\n",
    "c00001=np.load('DataStep/FP/0.0001/FsiGpe_Activities.npy')\n",
    "\n",
    "x00001=np.load('DataStep/FP/0.0001/Msn_Inputs.npy')\n",
    "y00001=np.load('DataStep/FP/0.0001/Gpe_Inputs.npy')\n",
    "z00001=np.load('DataStep/FP/0.0001/Fsi_Inputs.npy')\n",
    "\n",
    "\n",
    "# Time_step=0.5 ms\n",
    "a00005=np.load('DataStep/FP/0.0005/GpeMsn_Activities.npy')\n",
    "b00005=np.load('DataStep/FP/0.0005/MsnFsi_Activities.npy')\n",
    "c00005=np.load('DataStep/FP/0.0005/FsiGpe_Activities.npy')\n",
    "\n",
    "x00005=np.load('DataStep/FP/0.0005/Msn_Inputs.npy')\n",
    "y00005=np.load('DataStep/FP/0.0005/Gpe_Inputs.npy')\n",
    "z00005=np.load('DataStep/FP/0.0005/Fsi_Inputs.npy')\n",
    "\n",
    "\n",
    "# Time_step=0.01 ms\n",
    "a000001=np.load('DataStep/FP/0.00001/GpeMsn_Activities.npy')\n",
    "b000001=np.load('DataStep/FP/0.00001/MsnFsi_Activities.npy')\n",
    "c000001=np.load('DataStep/FP/0.00001/FsiGpe_Activities.npy')\n",
    "\n",
    "x000001=np.load('DataStep/FP/0.00001/Msn_Inputs.npy')\n",
    "y000001=np.load('DataStep/FP/0.00001/Gpe_Inputs.npy')\n",
    "z000001=np.load('DataStep/FP/0.00001/Fsi_Inputs.npy')\n",
    "\n",
    "\n",
    "# Time_step=0.05 ms\n",
    "a000005=np.load('DataStep/FP/0.00005/GpeMsn_Activities.npy')\n",
    "b000005=np.load('DataStep/FP/0.00005/MsnFsi_Activities.npy')\n",
    "c000005=np.load('DataStep/FP/0.00005/FsiGpe_Activities.npy')\n",
    "\n",
    "x000005=np.load('DataStep/FP/0.00005/Msn_Inputs.npy')\n",
    "y000005=np.load('DataStep/FP/0.00005/Gpe_Inputs.npy')\n",
    "z000005=np.load('DataStep/FP/0.00005/Fsi_Inputs.npy')"
   ]
  },
  {
   "cell_type": "markdown",
   "metadata": {
    "deletable": true,
    "editable": true
   },
   "source": [
    "# Plotting difference"
   ]
  },
  {
   "cell_type": "code",
   "execution_count": null,
   "metadata": {
    "collapsed": true,
    "deletable": true,
    "editable": true
   },
   "outputs": [],
   "source": [
    "## ============================================ Fixed point comparison ======================================\n",
    "div=5\n",
    "lon=(len(x000001)/div)    \n",
    "M=3\n",
    "nstep=np.arange(0,lon,1)\n",
    "t1='0.01'\n",
    "t2='0.05'\n",
    "A=(b000001[::div] - b000005)\n",
    "X=(y000001[::div] - y000005)\n",
    "Mo=(b000001[::div] - M)\n",
    "title='MsnFsi001005'\n",
    "\n",
    "\n",
    "\n",
    "\n",
    "fig, axes = plt.subplots(1, 3, figsize=(18, 5))\n",
    "fig.suptitle(\"Error distance: MsnFsi\",y=1.05, fontsize=20)\n",
    "\n",
    "axes[0].plot(nstep,A)\n",
    "axes[0].set_title(\"Error distance w/ Activities - FP - dt: {} VS {} ms\".format(t1,t2))\n",
    "axes[0].set_xlabel(\"Number of steps in 1 second \")\n",
    "axes[0].set_ylabel(\"Error distance (spk/s)\")\n",
    "for tick in axes[0].get_xticklabels():\n",
    "    tick.set_rotation(20)\n",
    "    \n",
    "axes[1].plot(nstep,X)\n",
    "axes[1].set_title(\"Error distance w/ Inputs - FP - dt: {} VS {} ms\".format(t1,t2))\n",
    "axes[1].set_xlabel(\"Number of steps in 1 second \")\n",
    "axes[1].set_ylabel(\"Error distance (spk/s)\")\n",
    "for tick in axes[1].get_xticklabels():\n",
    "    tick.set_rotation(20)\n",
    "    \n",
    "axes[2].plot(nstep,Mo,label='M = '+str(M)+' spk/s')\n",
    "axes[2].set_title(\"Error distance w/ Resting state - FP - dt: {} VS {}\".format(t1,'M'))\n",
    "axes[2].legend(bbox_to_anchor=(1.05, 1), loc=2, borderaxespad=0,prop={'size':15})\n",
    "axes[2].set_xlabel(\"Number of steps in 1 second \")\n",
    "axes[2].set_ylabel(\"Error distance (spk/s)\")\n",
    "for tick in axes[2].get_xticklabels():\n",
    "    tick.set_rotation(20)\n",
    "\n",
    "\n",
    "plt.savefig('DataStep/FP/{}.png'.format(title),dpi=300,bbox_inches='tight') \n",
    "np.save('DataStep/FP/A_{}.npy'.format(title), A)\n",
    "np.save('DataStep/FP/I_{}.npy'.format(title), X)\n",
    "np.save('DataStep/FP/M_{}.npy'.format(title), Mo) \n",
    "np.save('DataStep/FP/nstep_{}.npy'.format(title), nstep)\n",
    "\n",
    "plt.show()\n"
   ]
  },
  {
   "cell_type": "markdown",
   "metadata": {
    "deletable": true,
    "editable": true
   },
   "source": [
    "# Loading Data: Oscillation state"
   ]
  },
  {
   "cell_type": "code",
   "execution_count": null,
   "metadata": {
    "collapsed": true,
    "deletable": true,
    "editable": true
   },
   "outputs": [],
   "source": [
    "## ============================================ Oscillations comparison ======================================\n",
    "\n",
    "# Time_step=0.1 ms\n",
    "a00001=np.load('DataStep/OSC/0.0001/GpeMsn_Activities.npy')\n",
    "#b00001=np.load('DataStep/OSC/0.0001/MsnFsi_Activities.npy')\n",
    "#c00001=np.load('DataStep/OSC/0.0001/FsiGpe_Activities.npy')\n",
    "x00001=np.load('DataStep/OSC/0.0001/Msn_Inputs.npy')\n",
    "#y00001=np.load('DataStep/OSC/0.0001/Gpe_Inputs.npy')\n",
    "#z00001=np.load('DataStep/OSC/0.0001/Fsi_Inputs.npy')\n",
    "\n",
    "\n",
    "# Time_step=0.5 ms\n",
    "a00005=np.load('DataStep/OSC/0.0005/GpeMsn_Activities.npy')\n",
    "#b00005=np.load('DataStep/OSC/0.0005/MsnFsi_Activities.npy')\n",
    "#c00005=np.load('DataStep/OSC/0.0005/FsiGpe_Activities.npy')\n",
    "x00005=np.load('DataStep/OSC/0.0005/Msn_Inputs.npy')\n",
    "#y00005=np.load('DataStep/OSC/0.0005/Gpe_Inputs.npy')\n",
    "#z00005=np.load('DataStep/OSC/0.0005/Fsi_Inputs.npy')\n",
    "\n",
    "\n",
    "# Time_step=0.01 ms\n",
    "a000001=np.load('DataStep/OSC/0.00001/GpeMsn_Activities.npy')\n",
    "#b000001=np.load('DataStep/OSC/0.00001/MsnFsi_Activities.npy')\n",
    "#c000001=np.load('DataStep/OSC/0.00001/FsiGpe_Activities.npy')\n",
    "x000001=np.load('DataStep/OSC/0.00001/Msn_Inputs.npy')\n",
    "#y000001=np.load('DataStep/OSC/0.00001/Gpe_Inputs.npy')\n",
    "#z000001=np.load('DataStep/OSC/0.00001/Fsi_Inputs.npy')\n",
    "\n",
    "\n",
    "# Time_step=0.05 ms\n",
    "a000005=np.load('DataStep/OSC/0.00005/GpeMsn_Activities.npy')\n",
    "#b000005=np.load('DataStep/OSC/0.00005/MsnFsi_Activities.npy')\n",
    "#c000005=np.load('DataStep/OSC/0.00005/FsiGpe_Activities.npy')\n",
    "x000005=np.load('DataStep/OSC/0.00005/Msn_Inputs.npy')\n",
    "#y000005=np.load('DataStep/OSC/0.00005/Gpe_Inputs.npy')\n",
    "#z000005=np.load('DataStep/OSC/0.00005/Fsi_Inputs.npy')"
   ]
  },
  {
   "cell_type": "markdown",
   "metadata": {
    "deletable": true,
    "editable": true
   },
   "source": [
    "# Plotting difference"
   ]
  },
  {
   "cell_type": "code",
   "execution_count": null,
   "metadata": {
    "collapsed": true,
    "deletable": true,
    "editable": true
   },
   "outputs": [],
   "source": [
    "## ============================================ Osci. State comparison ======================================\n",
    "\n",
    "div=1\n",
    "lon=(len(x000001)/div)    \n",
    "M=2\n",
    "nstep=np.arange(0,lon,1)\n",
    "t1='0.01'\n",
    "t2='0.01'\n",
    "A=(a000001[::div] - a000001)\n",
    "X=(x000001[::div] - x000001)\n",
    "Mo=(a000001[::div] - M)\n",
    "title='GpeMsn001001'\n",
    "\n",
    "\n",
    "\n",
    "\n",
    "fig, axes = plt.subplots(1, 3, figsize=(18, 5))\n",
    "fig.suptitle(\"Error distance: GpeMSN\",y=1.05, fontsize=20)\n",
    "\n",
    "axes[0].plot(nstep,A)\n",
    "axes[0].set_title(\"Error distance w/ Activities - FP - dt: {} VS {} ms\".format(t1,t2))\n",
    "axes[0].set_xlabel(\"Number of steps in 1 second \")\n",
    "axes[0].set_ylabel(\"Error distance (spk/s)\")\n",
    "for tick in axes[0].get_xticklabels():\n",
    "    tick.set_rotation(20)\n",
    "    \n",
    "axes[1].plot(nstep,X)\n",
    "axes[1].set_title(\"Error distance w/ Inputs - FP - dt: {} VS {} ms\".format(t1,t2))\n",
    "axes[1].set_xlabel(\"Number of steps in 1 second \")\n",
    "axes[1].set_ylabel(\"Error distance (spk/s)\")\n",
    "for tick in axes[1].get_xticklabels():\n",
    "    tick.set_rotation(20)\n",
    "    \n",
    "axes[2].plot(nstep,Mo,label='M = '+str(M)+' spk/s')\n",
    "axes[2].set_title(\"Error distance w/ Resting state - FP - dt: {} VS {}\".format(t1,'M'))\n",
    "axes[2].legend(bbox_to_anchor=(1.05, 1), loc=2, borderaxespad=0,prop={'size':15})\n",
    "axes[2].set_xlabel(\"Number of steps in 1 second \")\n",
    "axes[2].set_ylabel(\"Error distance (spk/s)\")\n",
    "for tick in axes[2].get_xticklabels():\n",
    "    tick.set_rotation(20)\n",
    "\n",
    "\n",
    "plt.savefig('DataStep/OSC/{}.png'.format(title),dpi=300,bbox_inches='tight') \n",
    "np.save('DataStep/OSC/A_{}.npy'.format(title), A)\n",
    "np.save('DataStep/OSC/I_{}.npy'.format(title), X)\n",
    "np.save('DataStep/OSC/M_{}.npy'.format(title), Mo) \n",
    "np.save('DataStep/OSC/nstep_{}.npy'.format(title), nstep)\n",
    "\n",
    "plt.show()"
   ]
  }
 ],
 "metadata": {
  "kernelspec": {
   "display_name": "Python 3",
   "language": "python",
   "name": "python3"
  },
  "language_info": {
   "codemirror_mode": {
    "name": "ipython",
    "version": 3
   },
   "file_extension": ".py",
   "mimetype": "text/x-python",
   "name": "python",
   "nbconvert_exporter": "python",
   "pygments_lexer": "ipython3",
   "version": "3.5.2"
  }
 },
 "nbformat": 4,
 "nbformat_minor": 2
}
