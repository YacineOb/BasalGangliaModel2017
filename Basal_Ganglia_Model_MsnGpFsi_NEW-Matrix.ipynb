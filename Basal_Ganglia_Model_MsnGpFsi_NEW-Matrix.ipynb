{
 "cells": [
  {
   "cell_type": "markdown",
   "metadata": {
    "collapsed": true,
    "deletable": true,
    "editable": true
   },
   "source": [
    "# ✔\t - Import modules -"
   ]
  },
  {
   "cell_type": "code",
   "execution_count": 1,
   "metadata": {
    "collapsed": true,
    "deletable": true,
    "editable": true
   },
   "outputs": [],
   "source": [
    "import os\n",
    "import time\n",
    "import numpy as np\n",
    "import random\n",
    "from matplotlib import pyplot as plt\n",
    "from math import exp\n",
    "\n",
    "import json"
   ]
  },
  {
   "cell_type": "markdown",
   "metadata": {
    "deletable": true,
    "editable": true
   },
   "source": [
    "# ✔\t - Function definition -"
   ]
  },
  {
   "cell_type": "markdown",
   "metadata": {
    "collapsed": true,
    "deletable": true,
    "editable": true
   },
   "source": [
    "# ✘ Corrected Input function"
   ]
  },
  {
   "cell_type": "code",
   "execution_count": 2,
   "metadata": {
    "collapsed": true,
    "deletable": true,
    "editable": true
   },
   "outputs": [],
   "source": [
    "# Function returning the corrected Input\n",
    "def Ic(Input=0, threshold=0):\n",
    "    if Input - threshold <= 0:\n",
    "        return 0\n",
    "    else:\n",
    "        return (Input - threshold)"
   ]
  },
  {
   "cell_type": "markdown",
   "metadata": {
    "collapsed": true,
    "deletable": true,
    "editable": true
   },
   "source": [
    "# ✘ Noise Function"
   ]
  },
  {
   "cell_type": "code",
   "execution_count": 3,
   "metadata": {
    "collapsed": true,
    "deletable": true,
    "editable": true
   },
   "outputs": [],
   "source": [
    "# White Gaussian Noise\n",
    "def WGnoise(size=1):\n",
    "    n = np.random.normal(0, 1, size=size)    #<==== en fonction du sigma!!!!!!!!!!!!!!!!!!!\n",
    "    return n "
   ]
  },
  {
   "cell_type": "markdown",
   "metadata": {
    "collapsed": true,
    "deletable": true,
    "editable": true
   },
   "source": [
    "# ✘ Activity at time t-Delta (delay) function"
   ]
  },
  {
   "cell_type": "code",
   "execution_count": 4,
   "metadata": {
    "collapsed": true,
    "deletable": true,
    "editable": true
   },
   "outputs": [],
   "source": [
    "# function to get the index \"-delay/dt\" in the list representing m(t-Delta)\n",
    "def mdelta(synapse_value, delay, t, dt,i):\n",
    "    if t < delay:  # if the delay is the time is too small, we take m(t-delta)=0\n",
    "        return 0\n",
    "    else:  # if the time is above or equal to the delay, we can find the m(t-delta)\n",
    "        return synapse_value[int(-delay / dt)][i]"
   ]
  },
  {
   "cell_type": "markdown",
   "metadata": {
    "deletable": true,
    "editable": true
   },
   "source": [
    "# ✘ Plotting functions (Inputs & activities) and save data function"
   ]
  },
  {
   "cell_type": "code",
   "execution_count": 5,
   "metadata": {
    "collapsed": false,
    "deletable": true,
    "editable": true
   },
   "outputs": [],
   "source": [
    "def plottingI(k):\n",
    "    valueGpe=[0]*n_period\n",
    "    valueFsi=[0]*n_period\n",
    "    valueMsn=[0]*n_period\n",
    "    for stc in structures:\n",
    "        for t in range(1,n_period):\n",
    "        \n",
    "            valueGpe[t]=I['Gpe'][t][k]\n",
    "            valueFsi[t]=I['Fsi'][t][k]\n",
    "            valueMsn[t]=I['Msn'][t][k]\n",
    "        \n",
    "    fig = plt.figure(figsize=(9,5))\n",
    "    ax=fig.add_subplot(111)\n",
    "    ax.plot(time_value, valueGpe, label='Msn')\n",
    "    ax.plot(time_value, valueFsi, label='Gpe')\n",
    "    ax.plot(time_value, valueMsn, label='Fsi')\n",
    "    ax.set_title('Input over time: NEURON'+ str(k+1))\n",
    "    ax.set_ylabel('Input')\n",
    "    ax.set_xlabel('time')\n",
    "    ax.grid()\n",
    "    ax.legend(bbox_to_anchor=(1.05, 1), loc=2, borderaxespad=0)"
   ]
  },
  {
   "cell_type": "code",
   "execution_count": 6,
   "metadata": {
    "collapsed": false,
    "deletable": true,
    "editable": true
   },
   "outputs": [],
   "source": [
    "def plottingA(k):\n",
    "    valueGpeMsn=[0]*n_period\n",
    "    valueFsiGpe=[0]*n_period\n",
    "    valueMsnFsi=[0]*n_period\n",
    "    for con in connections:\n",
    "        for t in range(1,n_period):\n",
    "        \n",
    "            valueGpeMsn[t]=m['GpeMsn'][t][k]\n",
    "            valueFsiGpe[t]=m['FsiGpe'][t][k]\n",
    "            valueMsnFsi[t]=m['MsnFsi'][t][k]\n",
    "        \n",
    "    fig = plt.figure(figsize=(9,5))\n",
    "    ax=fig.add_subplot(111)\n",
    "    ax.plot(time_value, valueGpeMsn, label='Msn')\n",
    "    ax.plot(time_value, valueFsiGpe, label='Gpe')\n",
    "    ax.plot(time_value, valueMsnFsi, label='Fsi')\n",
    "    ax.set_title('Activity over time: NEURON'+ str(k+1))\n",
    "    ax.set_ylabel('Activity')\n",
    "    ax.set_xlabel('time')\n",
    "    ax.grid()\n",
    "    ax.legend(bbox_to_anchor=(1.05, 1), loc=2, borderaxespad=0) "
   ]
  },
  {
   "cell_type": "code",
   "execution_count": 7,
   "metadata": {
    "collapsed": true,
    "deletable": true,
    "editable": true
   },
   "outputs": [],
   "source": [
    "def data_dir(dir=\"os.getcwd()\"):\n",
    "    directory = os.path.dirname(dir)\n",
    "    if not os.path.exists(os.getcwd()+str('/Data')):\n",
    "        os.makedirs(os.getcwd()+str('/Data'))"
   ]
  },
  {
   "cell_type": "code",
   "execution_count": 8,
   "metadata": {
    "collapsed": false,
    "deletable": true,
    "editable": true
   },
   "outputs": [],
   "source": [
    "def trial_dir(dir=\"os.getcwd()/Data\"):\n",
    "    directory = os.path.dirname(dir)\n",
    "    if not os.path.exists('Data/'+str(timestr)):\n",
    "        os.makedirs('Data/'+str(timestr))"
   ]
  },
  {
   "cell_type": "markdown",
   "metadata": {
    "collapsed": true,
    "deletable": true,
    "editable": true
   },
   "source": [
    "# ✔\t - Initial parameters - "
   ]
  },
  {
   "cell_type": "code",
   "execution_count": 9,
   "metadata": {
    "collapsed": true,
    "deletable": true,
    "editable": true
   },
   "outputs": [],
   "source": [
    "# Population size\n",
    "n = 1000\n",
    "\n",
    "# Default Time beginning (second)\n",
    "t = 0\n",
    "\n",
    "# Default trial duration (second)\n",
    "duration = 1.00   \n",
    "\n",
    "# Default Time resolution (second)\n",
    "dt = 0.0001  # 0.0001\n",
    "\n",
    "# Period occuring \n",
    "n_period = int(duration // dt) + 1\n",
    "\n",
    "# Initialization of the random generator (reproductibility !)\n",
    "np.random.seed(1)"
   ]
  },
  {
   "cell_type": "code",
   "execution_count": 10,
   "metadata": {
    "collapsed": false,
    "deletable": true,
    "editable": true
   },
   "outputs": [],
   "source": [
    "time_value = np.arange(0, duration, dt) # creat the timescale, depending on the duration and step dt, for plotting"
   ]
  },
  {
   "cell_type": "code",
   "execution_count": 11,
   "metadata": {
    "collapsed": true,
    "deletable": true,
    "editable": true
   },
   "outputs": [],
   "source": [
    "connections = [\"GpeMsn\", \"FsiGpe\", \"MsnFsi\"] #\"MsnMsn\", \"FsiFsi\", \"GpeGpe\"]\n",
    "structures = [\"Msn\", \"Fsi\", \"Gpe\"]"
   ]
  },
  {
   "cell_type": "code",
   "execution_count": 12,
   "metadata": {
    "collapsed": false,
    "deletable": true,
    "editable": true
   },
   "outputs": [],
   "source": [
    " # need IN VIVO Values + calculate them depending on the weight\n",
    "h = {  \n",
    "    \"Msn\": -51.90,   # Mahon et al., 2006. RAT (In Vitro)\n",
    "    \"Fsi\": -47.30,   # Koos & Teper, 1999. RAT (In Vitro)\n",
    "    \"Gpe\": -55.10,   # Abdi, Mallet et al., 2015. RAT (In Vitro)\n",
    "\n",
    "}\n",
    "\n",
    " # Weights (connextions pre->post ; notation: PostPre)\n",
    "G = {\n",
    "    \"GpeMsn\": 0.50,\n",
    "    \"FsiGpe\": 0.50,\n",
    "    \"MsnFsi\": 0.50,\n",
    "    #\"MsnMsn\": 1.00,\n",
    "    #\"FsiFsi\": 1.00,\n",
    "    #\"GpeGpe\": 1.00\n",
    "}\n",
    "\n",
    " # tau:\n",
    "tau = {\n",
    "    \"GpeMsn\": 0.0200,\n",
    "    \"FsiGpe\": 0.0200,\n",
    "    \"MsnFsi\": 0.0200, #0.0150 Koos & Tepper, 1999 : (in vitro - rat)\n",
    "    # \"MsnMsn\": 1.00,\n",
    "    #\"FsiFsi\": 1.00,\n",
    "   # \"GpeGpe\": 1.00\n",
    "}\n",
    "\n",
    " # Delays:\n",
    "D = {\n",
    "    \"GpeMsn\": 0.0070, # Jaeger & Kita, 2011 ; (in vivo-rat & monkey)\n",
    "    \"FsiGpe\": 0.0010, # Jaeger & Kita, 2011 ; (in vivo-rat & monkey)\n",
    "    \"MsnFsi\": 0.0057, # Koos & Tepper, 1999 : (in vitro - rat)\n",
    "    #\"MsnMsn\": 1.00,\n",
    "    #\"FsiFsi\": 1.00,\n",
    "   # \"GpeGpe\": 1.00  # Jaeger & Kita, 2011 ; (in vivo-rat & monkey)\n",
    "}\n",
    "\n",
    "\n",
    " # Noise level (sigma)\n",
    "N = {\n",
    "    \"Msn\": 0.00,   \n",
    "    \"Fsi\": 0.00,   \n",
    "    \"Gpe\": 0.00\n",
    "}"
   ]
  },
  {
   "cell_type": "code",
   "execution_count": 13,
   "metadata": {
    "collapsed": false,
    "deletable": true,
    "editable": true
   },
   "outputs": [],
   "source": [
    "# creation of array of n neurons to store m, dm and connectivity probability(0 or 1)\n",
    "\n",
    "m, dm, J = dict(), dict(), dict()\n",
    "\n",
    "for con in connections:   # created an array of 'nperiod' array(to store the value trought the time) with n zeroes\n",
    "    m[con] = [[0 for x in range(n)] for y in range(n_period)]\n",
    "    dm[con] = [[0 for x in range(n)] for y in range(n_period)]\n",
    "    \n",
    "    \n",
    "for con in connections:\n",
    "    if con  == 'GpeMsn':\n",
    "        Co=1.000\n",
    "    elif con == 'MsnFsi':\n",
    "        Co=1.000\n",
    "    elif con == 'FsiGpe':\n",
    "        Co=1.000\n",
    "    J[con] = np.reshape([[np.random.choice(2,n, p=[(1-Co),Co])] for y in range(n)],(n,n))\n",
    "    #print([con],J[con])"
   ]
  },
  {
   "cell_type": "code",
   "execution_count": 14,
   "metadata": {
    "collapsed": false,
    "deletable": true,
    "editable": true
   },
   "outputs": [],
   "source": [
    "# inputs\n",
    "I = dict()\n",
    "for stc in structures: # create an array of 'nperiod' array(to store the value trought the time) with n zeroes\n",
    "    I[stc] = [[0 for x in range(n)] for y in range(n_period)]"
   ]
  },
  {
   "cell_type": "code",
   "execution_count": null,
   "metadata": {
    "collapsed": true,
    "deletable": true,
    "editable": true
   },
   "outputs": [],
   "source": [
    "input_mapping = {\n",
    "    \"Msn\": \"MsnFsi\",\n",
    "    \"Gpe\": \"GpeMsn\",\n",
    "    \"Fsi\": \"FsiGpe\"\n",
    "}\n",
    "\n",
    "activities_mapping = {\n",
    "    \"GpeMsn\": \"Msn\",\n",
    "    \"FsiGpe\": \"Gpe\",\n",
    "    \"MsnFsi\": \"Fsi\"\n",
    "\n",
    "}"
   ]
  },
  {
   "cell_type": "markdown",
   "metadata": {
    "collapsed": true,
    "deletable": true,
    "editable": true
   },
   "source": [
    "# ✔\t - Simulation Core -"
   ]
  },
  {
   "cell_type": "code",
   "execution_count": null,
   "metadata": {
    "collapsed": false,
    "deletable": true,
    "editable": true
   },
   "outputs": [],
   "source": [
    "for t in range(1, n_period):\n",
    "    \n",
    "    for stc in structures:\n",
    "        for i in range(n):\n",
    "            if stc == \"Msn\" or \"Gpe\" or \"Fsi\":\n",
    "                con = input_mapping[stc]\n",
    "                I[stc][t][i] = - sum([G[con] * x * (mdelta(m[con][:t + 1], D[con], time_value[t], dt,i)) for x in J[con][i]]) + WGnoise()\n",
    "            else:\n",
    "                pass\n",
    "\n",
    "\n",
    "\n",
    "    for con in connections:\n",
    "        for i in range(n):\n",
    "            # Update of activities\n",
    "            stc = activities_mapping[con]\n",
    "            dm[con][t][i] = dt * (- m[con][t][i] + Ic(I[stc][t][i], h[stc])) / tau[con] #+ float(noise(1, N[stc]))\n",
    "        if t < n_period-1:\n",
    "            m[con][t+1]=[x+y for x, y in zip(m[con][t],dm[con][t])]\n",
    "        else:\n",
    "            pass"
   ]
  },
  {
   "cell_type": "markdown",
   "metadata": {
    "collapsed": true,
    "deletable": true,
    "editable": true
   },
   "source": [
    "# ✔\t - Result Plots & Save data -"
   ]
  },
  {
   "cell_type": "code",
   "execution_count": null,
   "metadata": {
    "collapsed": false,
    "deletable": true,
    "editable": true
   },
   "outputs": [],
   "source": [
    "timestr = time.strftime(\"%Y-%m-%d-%H:%M:%S\")\n",
    "data_dir()\n",
    "trial_dir()\n",
    "\n",
    "np.save('Data/'+str(timestr)+str('/Msn_Inputs'),I[\"Msn\"])     # here saved in npy format(save in txt format?)\n",
    "np.save('Data/'+str(timestr)+str('/Gpe_Inputs'),I[\"Gpe\"])\n",
    "np.save('Data/'+str(timestr)+str('/Fsi_Inputs'),I[\"Fsi\"])\n",
    "\n",
    "np.save('Data/'+str(timestr)+str('/GpeMsn_Activities'),m[\"GpeMsn\"])\n",
    "np.save('Data/'+str(timestr)+str('/MsnFsi_Activities'),m[\"MsnFsi\"])\n",
    "np.save('Data/'+str(timestr)+str('/FsiGpe_Activities'),m[\"FsiGpe\"])\n",
    "\n",
    "\n",
    "\n",
    "# ===> creat file with all the DATA USED!!( weight etc) JSON?\n",
    "\n",
    "\n",
    "datax={'Weight':G,\n",
    "       'Threshold':h,\n",
    "       'Delay':D,\n",
    "       'tau':tau,\n",
    "       'Noise':N,\n",
    "       'Neuron_number':n,\n",
    "       'time_trial':t,\n",
    "       'duration':duration,\n",
    "       'step':dt}\n",
    "\n",
    "with open('Data/'+str(timestr)+'/0-Parameters.json','w') as f:\n",
    "        for i in datax:\n",
    "            json.dump(datax[i], f)\n",
    "            f.write('\\n')\n",
    "            "
   ]
  },
  {
   "cell_type": "code",
   "execution_count": null,
   "metadata": {
    "collapsed": false,
    "deletable": true,
    "editable": true
   },
   "outputs": [],
   "source": [
    "# Plotting INPUTS\n",
    "for k in range(0,n):\n",
    "    plottingI(k)\n",
    "    plt.savefig('Data/'+str(timestr)+str('/In'+str(k+1)+'.png'),dpi=300,bbox_inches='tight')\n",
    "    plt.show()"
   ]
  },
  {
   "cell_type": "code",
   "execution_count": null,
   "metadata": {
    "collapsed": false,
    "deletable": true,
    "editable": true
   },
   "outputs": [],
   "source": [
    "# Plotting ACTIVITIES\n",
    "for k in range(0,n):\n",
    "    plottingA(k)\n",
    "    plt.savefig('Data/'+str(timestr)+str('/mn'+str(k+1)+'.png'),dpi=300,bbox_inches='tight')\n",
    "    plt.show()"
   ]
  },
  {
   "cell_type": "markdown",
   "metadata": {
    "deletable": true,
    "editable": true
   },
   "source": [
    "# ✔\t - Mean firing rate plotting - "
   ]
  },
  {
   "cell_type": "code",
   "execution_count": null,
   "metadata": {
    "collapsed": false,
    "deletable": true,
    "editable": true
   },
   "outputs": [],
   "source": [
    "MeaniGM=list()\n",
    "MeaniMF=list()\n",
    "MeaniFG=list()\n",
    "for con in connections:\n",
    "    for t in range(0,n_period):\n",
    "        if con  == 'GpeMsn':\n",
    "            MeaniGM.append(np.mean(m['GpeMsn'][t]))\n",
    "        elif con == 'MsnFsi':\n",
    "            MeaniMF.append(np.mean(m['MsnFsi'][t]))\n",
    "        elif con == 'FsiGpe':\n",
    "            MeaniFG.append(np.mean(m['FsiGpe'][t]))  \n",
    "\n",
    "plt.plot(time_value,MeaniGM,label='Msn')\n",
    "plt.plot(time_value,MeaniFG,label='Gpe')\n",
    "plt.plot(time_value,MeaniMF,label='Fsi')\n",
    "plt.legend(bbox_to_anchor=(1.05, 1), loc=2, borderaxespad=0.)\n",
    "plt.grid()\n",
    "plt.show()"
   ]
  }
 ],
 "metadata": {
  "kernelspec": {
   "display_name": "Python 3",
   "language": "python",
   "name": "python3"
  },
  "language_info": {
   "codemirror_mode": {
    "name": "ipython",
    "version": 3
   },
   "file_extension": ".py",
   "mimetype": "text/x-python",
   "name": "python",
   "nbconvert_exporter": "python",
   "pygments_lexer": "ipython3",
   "version": "3.5.2"
  }
 },
 "nbformat": 4,
 "nbformat_minor": 2
}
