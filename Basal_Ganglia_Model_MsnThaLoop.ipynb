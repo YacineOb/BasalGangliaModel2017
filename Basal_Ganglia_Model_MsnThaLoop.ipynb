{
 "cells": [
  {
   "cell_type": "markdown",
   "metadata": {
    "collapsed": true,
    "deletable": true,
    "editable": true
   },
   "source": [
    "# Import modules"
   ]
  },
  {
   "cell_type": "code",
   "execution_count": 1,
   "metadata": {
    "collapsed": true,
    "deletable": true,
    "editable": true
   },
   "outputs": [],
   "source": [
    "import numpy as np\n",
    "import random\n",
    "from matplotlib import pyplot as plt\n",
    "from math import exp"
   ]
  },
  {
   "cell_type": "markdown",
   "metadata": {
    "collapsed": true,
    "deletable": true,
    "editable": true
   },
   "source": [
    "# Initial parameters"
   ]
  },
  {
   "cell_type": "code",
   "execution_count": 2,
   "metadata": {
    "collapsed": true,
    "deletable": true,
    "editable": true
   },
   "outputs": [],
   "source": [
    "# Population size\n",
    "n = 1 \n",
    "\n",
    "# Default Time beginning (second)\n",
    "t = 0\n",
    "\n",
    "# Default trial duration (second)\n",
    "duration = 1.00  # \n",
    "\n",
    "# Default Time resolution (second)\n",
    "dt = 0.00001  #"
   ]
  },
  {
   "cell_type": "code",
   "execution_count": 3,
   "metadata": {
    "collapsed": true,
    "deletable": true,
    "editable": true
   },
   "outputs": [],
   "source": [
    "# Weights \n",
    "# connextions pre->post ; notation: PostPre\n",
    "connections = [\"GPeMsnD2\", \"SNrGPe\", \"ThaSNr\", \"MsnD2Tha\", \"MsnD1Tha\"]\n",
    "structures = [\"MsnD1\", \"MsnD2\", \"GPe\", \"SNr\", \"Tha\"]\n",
    "\n",
    "# Thresholds\n",
    "h = {\n",
    "    \"MsnD1\": -51.90,   # Mahon et al., 2006. RAT\n",
    "    \"MsnD2\": -51.90,   # Mahon et al., 2006. RAT\n",
    "    \"GPe\": -55.10,   # Abdi, Mallet et al., 2015. RAT (In Vitro)\n",
    "    \"SNr\": -39.0,\n",
    "    \"Tha\": -47.00    # Leblois et al. Paper 2006\n",
    "}\n",
    "\n",
    "# inputs\n",
    "I = dict()\n",
    "for stc in structures:\n",
    "    I[stc] = 0\n",
    "\n",
    "#il manque msn snrd1!\n",
    "G = {\n",
    "    \"GPeMsnD2\": 1.00,\n",
    "    \"SNrGPe\": 1.00,\n",
    "    \"ThaSNr\": 1.00,\n",
    "    \"MsnD2Tha\": 1.00,\n",
    "    \"MsnD1Tha\": 1.00\n",
    "}\n",
    "\n",
    "# tau:\n",
    "tau = {\n",
    "    \"GPeMsnD2\": 0.015,\n",
    "    \"SNrGPe\": 0.015,\n",
    "    \"ThaSNr\": 0.015,\n",
    "    \"MsnD2Tha\": 0.015,\n",
    "    \"MsnD1Tha\": 0.015\n",
    "}\n",
    "\n",
    "    #\"GPeMsnD2\": 0.005,\n",
    "    #\"SNrGPe\": 0.020,\n",
    "    #\"ThaSNr\": 0.005,\n",
    "    #\"MsnD2Tha\": 0.005,\n",
    "    #\"MsnD1Tha\": 0.005\n",
    "\n",
    "# Delays:\n",
    "D = {\n",
    "    \"GPeMsnD2\": 0.070,\n",
    "    \"SNrGPe\": 0.010,\n",
    "    \"ThaSNr\": 0.08,\n",
    "    \"MsnD2Tha\": 0.010,\n",
    "    \"MsnD1Tha\": 0.010\n",
    "}\n",
    "    #\"GPeMsnD2\": 0.010,\n",
    "    #\"SNrGPe\": 0.006,\n",
    "    #\"ThaSNr\": 0.005,\n",
    "    #\"MsnD2Tha\": 0.005,\n",
    "    #\"MsnD1Tha\": 0.005\n",
    "\n",
    "\n",
    "\n",
    "Delta = 0.0070 + 0.0010 + 0.0008 + 0.0010 + 0.0010"
   ]
  },
  {
   "cell_type": "code",
   "execution_count": 4,
   "metadata": {
    "collapsed": true,
    "deletable": true,
    "editable": true
   },
   "outputs": [],
   "source": [
    "# Activities at time t, with dt step and Connectivity J:\n",
    "m, dm, J = dict(), dict(), dict()\n",
    "\n",
    "for con in connections:\n",
    "\n",
    "    m[con] = 0\n",
    "    dm[con] = 0\n",
    "    J[con] = 1\n",
    "    \n",
    "input_mapping = {\n",
    "    \"MsnD1\": \"MsnD1Tha\",\n",
    "    \"MsnD2\": \"MsnD2Tha\",\n",
    "    \"GPe\": \"GPeMsnD2\",\n",
    "    \"SNr\": \"SNrGPe\",\n",
    "    \"Tha\": \"ThaSNr\"\n",
    "}\n",
    "\n",
    "activities_mapping = {\n",
    "    \"GPeMsnD2\": \"MsnD2\",\n",
    "    \"SNrGPe\": \"GPe\",\n",
    "    \"ThaSNr\": \"SNr\",\n",
    "    \"MsnD2Tha\": \"Tha\",\n",
    "    \"MsnD1Tha\": \"Tha\"\n",
    "}\n"
   ]
  },
  {
   "cell_type": "code",
   "execution_count": 5,
   "metadata": {
    "collapsed": true,
    "deletable": true,
    "editable": true
   },
   "outputs": [],
   "source": [
    "# Noise level (%)  = sigma from paper\n",
    "N = {\n",
    "    \"MsnD1\": 0.0,\n",
    "    \"MsnD2\": 0.0,\n",
    "    \"GPe\": 0.0,\n",
    "    \"SNr\": 0.0,\n",
    "    \"Tha\": 0.0\n",
    "}\n",
    "\n",
    "# Initialization of the random generator (reproductibility !)\n",
    "np.random.seed(1)"
   ]
  },
  {
   "cell_type": "markdown",
   "metadata": {
    "collapsed": true,
    "deletable": true,
    "editable": true
   },
   "source": [
    "# Noise Function"
   ]
  },
  {
   "cell_type": "code",
   "execution_count": 6,
   "metadata": {
    "collapsed": true,
    "deletable": true,
    "editable": true
   },
   "outputs": [],
   "source": [
    "# White Gaussian Noise\n",
    "def WGnoise(size=1):\n",
    "    n = np.random.normal(0, 1, size=size)\n",
    "    return n\n",
    "\n",
    "\n",
    "def noise(Z, level):  # Z = size of the population\n",
    "    Z = (np.random.uniform(-level / 2, level / 2, Z)) * Z\n",
    "    return Z"
   ]
  },
  {
   "cell_type": "markdown",
   "metadata": {
    "collapsed": true,
    "deletable": true,
    "editable": true
   },
   "source": [
    "# Corrected Input function"
   ]
  },
  {
   "cell_type": "code",
   "execution_count": 7,
   "metadata": {
    "collapsed": true,
    "deletable": true,
    "editable": true
   },
   "outputs": [],
   "source": [
    "# Function returning the corrected Input\n",
    "def Ic(Input=0, threshold=0):\n",
    "    if Input - threshold <= 0:\n",
    "        return 0\n",
    "    else:\n",
    "        return (Input - threshold)"
   ]
  },
  {
   "cell_type": "markdown",
   "metadata": {
    "collapsed": true,
    "deletable": true,
    "editable": true
   },
   "source": [
    "# Activity at time t-Delta (delay) function"
   ]
  },
  {
   "cell_type": "code",
   "execution_count": 8,
   "metadata": {
    "collapsed": true,
    "deletable": true,
    "editable": true
   },
   "outputs": [],
   "source": [
    "# function to get the index \"-delay/dt\" in the list representing m(t-Delta)\n",
    "def mdelta(synapse_value, delay, t, dt):\n",
    "    if t < delay:  # if the delay is the time is too small, we take m(t-delta)=0\n",
    "        return 0\n",
    "    else:  # if the time is above or equal to the delay, we can find the m(t-delta)\n",
    "        return synapse_value[int(-delay / dt)]"
   ]
  },
  {
   "cell_type": "markdown",
   "metadata": {
    "collapsed": true,
    "deletable": true,
    "editable": true
   },
   "source": [
    "# - Simulation Core -"
   ]
  },
  {
   "cell_type": "code",
   "execution_count": 9,
   "metadata": {
    "collapsed": false,
    "deletable": true,
    "editable": true
   },
   "outputs": [],
   "source": [
    "n_period = int(duration // dt) + 1\n",
    "time_value = np.arange(0, duration, dt)\n",
    "\n",
    "mDelta, value = dict(), dict()\n",
    "\n",
    "for con in connections:\n",
    "    value[con] = np.zeros(n_period)\n",
    "\n",
    "for t in range(1, n_period):\n",
    "\n",
    "    for con in connections:\n",
    "        \n",
    "        value[con][t] = m[con]  # command to add all activities of each population in a list respectively ; \n",
    "        # after each iteration\n",
    "\n",
    "        mDelta[con] = mdelta(value[con][:t + 1], D[con], time_value[t], dt)\n",
    "\n",
    "        m[con] += dm[con]  # we add the activity (dm) to the global activity (m),\n",
    "            # after a step dt ; for all population\n",
    "            # stored in the list (\"PopulationNames\"_value)\n",
    "\n",
    "    # noise_level = WGnoise(len(structures) + 2)\n",
    "    for stc in structures:\n",
    "        if stc == \"GPe\" or \"MsnD1\" or \"MsnD2\":\n",
    "            con = input_mapping[stc]\n",
    "            I[stc] = - G[con] * J[con] * mDelta[con] + WGnoise()\n",
    "        else:\n",
    "            con = input_mapping[stc]\n",
    "            I[stc] = G[con] * J[con] * mDelta[con] + WGnoise()\n",
    "\n",
    "    for con in connections:\n",
    "        # Update of activities\n",
    "        stc = activities_mapping[con]\n",
    "        dm[con] = dt * (-m[con] + Ic(I[stc], h[stc])) / tau[con] + float(noise(1, N[stc]))"
   ]
  },
  {
   "cell_type": "markdown",
   "metadata": {
    "collapsed": true,
    "deletable": true,
    "editable": true
   },
   "source": [
    "# Plotting results"
   ]
  },
  {
   "cell_type": "code",
   "execution_count": 10,
   "metadata": {
    "collapsed": false,
    "deletable": true,
    "editable": true
   },
   "outputs": [
    {
     "data": {
      "image/png": "[encoded data removed]",
      "text/plain": [
       "<matplotlib.figure.Figure at 0x7fd302b3ee48>"
      ]
     },
     "metadata": {},
     "output_type": "display_data"
    }
   ],
   "source": [
    "plt.plot(time_value, value[\"GPeMsnD2\"], label='MsnD2')\n",
    "plt.plot(time_value, value[\"SNrGPe\"], label='GPe')\n",
    "plt.plot(time_value, value[\"ThaSNr\"], label='SNr')\n",
    "plt.plot(time_value, value[\"MsnD2Tha\"], label='Tha>D2')\n",
    "plt.plot(time_value, value[\"MsnD1Tha\"], label='Tha>D1')\n",
    "\n",
    "\n",
    "plt.title('Activity over time')\n",
    "plt.ylabel('Activity')\n",
    "plt.xlabel('time')\n",
    "plt.grid()\n",
    "\n",
    "plt.legend(bbox_to_anchor=(1.05, 1), loc=2, borderaxespad=0.)\n",
    "\n",
    "plt.show()"
   ]
  }
 ],
 "metadata": {
  "kernelspec": {
   "display_name": "Python 3",
   "language": "python",
   "name": "python3"
  },
  "language_info": {
   "codemirror_mode": {
    "name": "ipython",
    "version": 3
   },
   "file_extension": ".py",
   "mimetype": "text/x-python",
   "name": "python",
   "nbconvert_exporter": "python",
   "pygments_lexer": "ipython3",
   "version": "3.5.2"
  }
 },
 "nbformat": 4,
 "nbformat_minor": 2
}
