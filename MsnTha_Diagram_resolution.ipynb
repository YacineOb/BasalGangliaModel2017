{
 "cells": [
  {
   "cell_type": "code",
   "execution_count": 1,
   "metadata": {
    "collapsed": false,
    "deletable": true,
    "editable": true
   },
   "outputs": [],
   "source": [
    "from __future__ import division\n",
    "from scipy import *\n",
    "from pylab import *\n",
    "from scipy.optimize import *\n",
    "from tqdm import tqdm\n",
    "import time\n",
    "import os\n",
    "from math import *\n",
    "from math import tan\n",
    "import numpy as np"
   ]
  },
  {
   "cell_type": "markdown",
   "metadata": {
    "deletable": true,
    "editable": true
   },
   "source": [
    "# Parameters needed"
   ]
  },
  {
   "cell_type": "code",
   "execution_count": 2,
   "metadata": {
    "collapsed": false,
    "deletable": true,
    "editable": true
   },
   "outputs": [],
   "source": [
    "## ====================================== Thalamus ===========================================\n",
    "\n",
    "tT=0.005\n",
    "DeltaTha = 0.007 + 0.007 + 0.001 + 0.005 + 0.001 + 0.001"
   ]
  },
  {
   "cell_type": "code",
   "execution_count": 3,
   "metadata": {
    "collapsed": false,
    "deletable": true,
    "editable": true
   },
   "outputs": [
    {
     "name": "stdout",
     "output_type": "stream",
     "text": [
      "[ 13.83814881]\n"
     ]
    }
   ],
   "source": [
    "def f(x):\n",
    "    return(((((x**3)*(tT**3)) - 3*x*tT) / (1 - 3*(x**2)*(tT**2))) - tan(x*DeltaTha))\n",
    "\n",
    "x = fsolve(f,100)\n",
    "f(x)\n",
    "print(x/6.28)\n"
   ]
  },
  {
   "cell_type": "markdown",
   "metadata": {
    "collapsed": true,
    "deletable": true,
    "editable": true
   },
   "source": [
    "# Resolution process"
   ]
  },
  {
   "cell_type": "code",
   "execution_count": 4,
   "metadata": {
    "collapsed": true
   },
   "outputs": [],
   "source": [
    "angsp = []\n",
    "freq = []\n",
    "delai = np.arange(0,0.100,0.001)"
   ]
  },
  {
   "cell_type": "code",
   "execution_count": 5,
   "metadata": {
    "collapsed": false
   },
   "outputs": [
    {
     "data": {
      "image/png": "[encoded data removed]",
      "text/plain": [
       "<matplotlib.figure.Figure at 0x7f7492265e48>"
      ]
     },
     "metadata": {},
     "output_type": "display_data"
    }
   ],
   "source": [
    "init=200\n",
    "it=0\n",
    "\n",
    "for z in np.arange(0,0.100,0.001):\n",
    "    \n",
    "    \n",
    "    DeltaTha = z\n",
    "    \n",
    "    x = fsolve(f,init)\n",
    "    f(x)\n",
    "    #print(x/6.28,z,x)\n",
    "    it+=1\n",
    "    init = x-3\n",
    "    \n",
    "    angsp.append(x)    \n",
    "    freq.append(x/6.28)\n",
    "\n",
    "fig = plt.figure(figsize=(15,10))\n",
    "plt.plot(delai*1000,freq,'k--')\n",
    "plt.xlabel('Delay [ms]',fontsize=20)\n",
    "plt.ylabel('Osc. Frequency [Hz]',fontsize=20)\n",
    "plt.show()"
   ]
  },
  {
   "cell_type": "markdown",
   "metadata": {},
   "source": [
    "# Phase diagram"
   ]
  },
  {
   "cell_type": "code",
   "execution_count": 6,
   "metadata": {
    "collapsed": false
   },
   "outputs": [
    {
     "name": "stdout",
     "output_type": "stream",
     "text": [
      "16.000000000000004\n"
     ]
    }
   ],
   "source": [
    "## ====================================== Thalamus ===========================================\n",
    "\n",
    "tT=0.005\n",
    "DeltaTha = 0.001 + 0.007 + 0.001 + 0.005 + 0.001 + 0.001\n",
    "print(DeltaTha*1000)"
   ]
  },
  {
   "cell_type": "code",
   "execution_count": 7,
   "metadata": {
    "collapsed": true
   },
   "outputs": [],
   "source": [
    "def syst(var): # définition du système\n",
    "    a, b = var[0], var[1] # définition des variables\n",
    "    eq1 = (b-a)*cos(w*DeltaTha) + 3*(w**2)*(tT**2) - 1\n",
    "    eq2 = (b-a)*sin(w*DeltaTha) - (w**3)*(tT**3) + w*tT\n",
    "    res = [eq1, eq2]\n",
    "    return res"
   ]
  },
  {
   "cell_type": "code",
   "execution_count": 8,
   "metadata": {
    "collapsed": true
   },
   "outputs": [],
   "source": [
    "a0, b0 = 5, 0     # Initialisation de la recherche des solutions numériques\n",
    "sol_ini = [a0, b0]"
   ]
  },
  {
   "cell_type": "code",
   "execution_count": 9,
   "metadata": {
    "collapsed": false
   },
   "outputs": [
    {
     "name": "stdout",
     "output_type": "stream",
     "text": [
      "281.6455486354133\n",
      "[ 2.67891597  2.33642308]\n"
     ]
    },
    {
     "name": "stderr",
     "output_type": "stream",
     "text": [
      "/home/imn/.pyenv/versions/3.5.2/lib/python3.5/site-packages/scipy/optimize/minpack.py:161: RuntimeWarning: The iteration is not making good progress, as measured by the \n",
      "  improvement from the last ten iterations.\n",
      "  warnings.warn(msg, RuntimeWarning)\n"
     ]
    }
   ],
   "source": [
    "w = float(angsp[1])\n",
    "print(w)\n",
    "    \n",
    "sol=fsolve(syst, sol_ini)\n",
    "print(sol)"
   ]
  },
  {
   "cell_type": "raw",
   "metadata": {},
   "source": [
    "[ 1.9212289   1.57873601]"
   ]
  },
  {
   "cell_type": "raw",
   "metadata": {},
   "source": [
    "for u in angsp:\n",
    "    w=float(u)\n",
    "\n",
    "    sol=fsolve(syst, sol_ini)\n",
    "    print(sol)\n",
    "    \n",
    "    #sol_ini =[sol[0],sol[1]]"
   ]
  }
 ],
 "metadata": {
  "kernelspec": {
   "display_name": "Python 3",
   "language": "python",
   "name": "python3"
  },
  "language_info": {
   "codemirror_mode": {
    "name": "ipython",
    "version": 3
   },
   "file_extension": ".py",
   "mimetype": "text/x-python",
   "name": "python",
   "nbconvert_exporter": "python",
   "pygments_lexer": "ipython3",
   "version": "3.5.2"
  }
 },
 "nbformat": 4,
 "nbformat_minor": 2
}
