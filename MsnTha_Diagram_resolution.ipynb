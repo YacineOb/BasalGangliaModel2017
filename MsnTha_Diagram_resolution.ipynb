{
 "cells": [
  {
   "cell_type": "code",
   "execution_count": 1,
   "metadata": {
    "collapsed": false,
    "deletable": true,
    "editable": true
   },
   "outputs": [],
   "source": [
    "from __future__ import division\n",
    "from scipy import *\n",
    "from pylab import *\n",
    "from scipy.optimize import *\n",
    "from tqdm import tqdm\n",
    "import time\n",
    "import os\n",
    "from math import *\n",
    "\n",
    "from scipy.optimize.nonlin import BroydenFirst, KrylovJacobian\n",
    "from scipy.optimize.nonlin import InverseJacobian"
   ]
  },
  {
   "cell_type": "markdown",
   "metadata": {
    "deletable": true,
    "editable": true
   },
   "source": [
    "# Function definition"
   ]
  },
  {
   "cell_type": "code",
   "execution_count": 2,
   "metadata": {
    "collapsed": true,
    "deletable": true,
    "editable": true
   },
   "outputs": [],
   "source": [
    "timestr = time.strftime(\"%Y-%m-%d-%H:%M:%S\") # give the date and time that will be used to tag simulation results\n",
    "\n",
    "def data_dir(dir=\"os.getcwd()\"):   # will create the files needed to store values in CWD/Data\n",
    "    directory = os.path.dirname(dir)\n",
    "    if not os.path.exists('{}/{}'.format(os.getcwd(),'DiagramFsi')):\n",
    "        os.makedirs('{}/{}'.format(os.getcwd(),'DiagramFsi'))\n",
    "    if not os.path.exists('DiagramFsi/{}'.format(timestr)):\n",
    "        os.makedirs('DiagramFsi/{}'.format(timestr))"
   ]
  },
  {
   "cell_type": "markdown",
   "metadata": {
    "deletable": true,
    "editable": true
   },
   "source": [
    "# Parameters needed"
   ]
  },
  {
   "cell_type": "code",
   "execution_count": 3,
   "metadata": {
    "collapsed": true,
    "deletable": true,
    "editable": true
   },
   "outputs": [],
   "source": [
    "## ====================================== Thalamus ===========================================\n",
    "\n",
    "tT=0.015\n",
    "DeltaTha = 0.0070 + 0.0010 + 0.0008 + 0.0010 + 0.0010"
   ]
  },
  {
   "cell_type": "code",
   "execution_count": 4,
   "metadata": {
    "collapsed": false
   },
   "outputs": [
    {
     "ename": "SyntaxError",
     "evalue": "invalid syntax (<ipython-input-4-51cfb9addbc9>, line 3)",
     "output_type": "error",
     "traceback": [
      "\u001b[0;36m  File \u001b[0;32m\"<ipython-input-4-51cfb9addbc9>\"\u001b[0;36m, line \u001b[0;32m3\u001b[0m\n\u001b[0;31m    return (-(x*tT)**4 - 6*(x*tT)**2 + 1  + y*(1+x*tT*tan(x*DeltaTha))*cos(x*DeltaTha) - z*cos(x*DeltaTha), (4*x*tT)*((x*tT)**2 - 1) + y*(1-x*tT*(1/tan(x*DeltaTha)))*sin(x*DeltaTha) - z*sin(x*DeltaTha),-(x*tT)**4 - 6*(x*tT)**2 + 1  + y*(1+x*tT*tan(x*DeltaTha))*cos(x*DeltaTha) - z*cos(x*DeltaTha) = (4*x*tT)*((x*tT)**2 - 1) + y*(1-x*tT*(1/tan(x*DeltaTha)))*sin(x*DeltaTha) - z*sin(x*DeltaTha))\u001b[0m\n\u001b[0m                                                                                                                                                                                                                                                                                                         ^\u001b[0m\n\u001b[0;31mSyntaxError\u001b[0m\u001b[0;31m:\u001b[0m invalid syntax\n"
     ]
    }
   ],
   "source": [
    "def equations(p):\n",
    "    x, y, z = p\n",
    "    return (-(x*tT)**4 - 6*(x*tT)**2 + 1  + y*(1+x*tT*tan(x*DeltaTha))*cos(x*DeltaTha) - z*cos(x*DeltaTha), (4*x*tT)*((x*tT)**2 - 1) + y*(1-x*tT*(1/tan(x*DeltaTha)))*sin(x*DeltaTha) - z*sin(x*DeltaTha),-(x*tT)**4 - 6*(x*tT)**2 + 1  + y*(1+x*tT*tan(x*DeltaTha))*cos(x*DeltaTha) - z*cos(x*DeltaTha) = (4*x*tT)*((x*tT)**2 - 1) + y*(1-x*tT*(1/tan(x*DeltaTha)))*sin(x*DeltaTha) - z*sin(x*DeltaTha))\n",
    "\n",
    "x, y =  fsolve(equations, (1, 1,1))\n",
    "\n",
    "print(equations((x, y, z)))"
   ]
  },
  {
   "cell_type": "raw",
   "metadata": {
    "collapsed": false,
    "deletable": true,
    "editable": true
   },
   "source": [
    "def syst(var): # définition du système\n",
    "        x, y, z = var[0], var[1], var[2] # définition des variables\n",
    "        eq1 = -(x*tT)**4 - 6*(x*tT)**2 + 1  + y*(1+x*tT*tan(x*DeltaTha))*cos(x*DeltaTha) - z*cos(x*DeltaTha)\n",
    "        eq2 = (4*x*0.015)*((x*0.015)**2 - 1) + y*(1-x*0.015*(1/tan(x*0.108)))*sin(x*0.108) - z*sin(x*0.108)\n",
    "        eq3 = -(x*tT)**4 - 6*(x*tT)**2 + 1  + y*(1+x*tT*tan(x*DeltaTha))*cos(x*DeltaTha) - z*cos(x*DeltaTha) = (4*x*tT)*((x*tT)**2 - 1) + y*(1-x*tT*(1/tan(x*DeltaTha)))*sin(x*DeltaTha) - z*sin(x*DeltaTha)\n",
    "        res = [eq1,eq2,eq3]\n",
    "        return res\n",
    "\n",
    "x0, y0, z0 = 80, 2, 2 # Initialisation de la recherche des solutions numériques\n",
    "sol_ini = [x0, y0, z0]\n",
    "\n",
    "fsolve(syst, sol_ini)\n",
    "\n",
    "#(-(w*tc)**4 - 6*(w*tc)**2 + 1 / cos(w*Delta)) + Gb*(1+w*tc*tan(w*Delta)) - Ga\n",
    "#((4*w*tc)*((w*tc)**2 - 1) / sin(w*Delta)) + Gb*(1-w*tc*(1/tan(w*Delta))) - Ga"
   ]
  },
  {
   "cell_type": "markdown",
   "metadata": {
    "deletable": true,
    "editable": true
   },
   "source": [
    "# Resolution process"
   ]
  },
  {
   "cell_type": "code",
   "execution_count": null,
   "metadata": {
    "collapsed": true,
    "deletable": true,
    "editable": true
   },
   "outputs": [],
   "source": [
    "x0, y0, z0 = 80, 2, 2 # Initialisation de la recherche des solutions numériques\n",
    "sol_ini = [x0, y0, z0]\n",
    "\n",
    "lowlim=0.001\n",
    "highlim=0.100\n",
    "step=0.001"
   ]
  },
  {
   "cell_type": "code",
   "execution_count": null,
   "metadata": {
    "collapsed": true,
    "deletable": true,
    "editable": true
   },
   "outputs": [],
   "source": [
    "Dl=np.arange(lowlim,highlim,step)\n",
    "wl=np.zeros(int(highlim/step))\n",
    "fl=np.zeros(int(highlim/step))\n",
    "Gl=np.zeros(int(highlim/step))"
   ]
  },
  {
   "cell_type": "code",
   "execution_count": null,
   "metadata": {
    "collapsed": false,
    "deletable": true,
    "editable": true
   },
   "outputs": [],
   "source": [
    "data_dir()\n",
    "\n",
    "i=0\n",
    "#for DeltaTha in tqdm(np.arange(lowlim,highlim,step)):\n",
    "for DeltaTha in tqdm(np.arange(0.001,0.100,0.001)):\n",
    "    sol=fsolve(syst, sol_ini)\n",
    "    print(sol)\n",
    "\n",
    "    sol2=sol[0]/(2*pi)\n",
    "    \n",
    "    wl[i]=sol[0]\n",
    "    fl[i]=sol2\n",
    "    Gl[i]=sol[1]\n",
    "    \n",
    "    i+=1\n",
    "    sol_ini =[sol[0],y0]\n",
    "\n",
    "plt.plot(Dl,fl)\n",
    "plt.xlabel('D')\n",
    "plt.ylabel('f')\n",
    "plt.show()\n",
    "\n",
    "plt.plot(Dl,Gl)\n",
    "plt.xlabel('D')\n",
    "plt.ylabel('G')\n",
    "plt.show()\n",
    "\n",
    "plt.plot(Gl,fl)\n",
    "plt.xlabel('G')\n",
    "plt.ylabel('f')\n",
    "plt.show()\n",
    "\n",
    "#np.save('DiagramFsi/{}/{}_omega'.format(timestr,t1),wl)\n",
    "#np.save('DiagramFsi/{}/{}_frequency'.format(timestr,t1),fl)\n",
    "#np.save('DiagramFsi/{}/{}_weight'.format(timestr,t1),Gl)\n",
    "#np.save('DiagramFsi/{}/{}_delta'.format(timestr,t1),Dl)"
   ]
  }
 ],
 "metadata": {
  "kernelspec": {
   "display_name": "Python 3",
   "language": "python",
   "name": "python3"
  }
 },
 "nbformat": 4,
 "nbformat_minor": 2
}
