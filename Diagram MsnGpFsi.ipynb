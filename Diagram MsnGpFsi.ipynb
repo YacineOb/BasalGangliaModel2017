{
 "cells": [
  {
   "cell_type": "code",
   "execution_count": 1,
   "metadata": {
    "collapsed": true,
    "deletable": true,
    "editable": true
   },
   "outputs": [],
   "source": [
    "import os\n",
    "import time\n",
    "from math import *\n",
    "from matplotlib import pyplot as plt\n",
    "from mpl_toolkits.mplot3d import Axes3D\n",
    "import numpy as np\n",
    "from tqdm import tqdm"
   ]
  },
  {
   "cell_type": "code",
   "execution_count": 2,
   "metadata": {
    "collapsed": false
   },
   "outputs": [],
   "source": [
    "timestr = time.strftime(\"%Y-%m-%d-%H:%M:%S\") # give the date and time that will be used to tag simulation results\n",
    "\n",
    "def data_dir(dir=\"os.getcwd()\"):   # will create the files needed to store values in CWD/Data\n",
    "    directory = os.path.dirname(dir)\n",
    "    if not os.path.exists('{}/{}'.format(os.getcwd(),'DiagramFsi')):\n",
    "        os.makedirs('{}/{}'.format(os.getcwd(),'DiagramFsi'))\n",
    "    if not os.path.exists('DiagramFsi/{}'.format(timestr)):\n",
    "        os.makedirs('DiagramFsi/{}'.format(timestr))"
   ]
  },
  {
   "cell_type": "markdown",
   "metadata": {
    "deletable": true,
    "editable": true
   },
   "source": [
    "# Parameters"
   ]
  },
  {
   "cell_type": "code",
   "execution_count": 3,
   "metadata": {
    "collapsed": false,
    "deletable": true,
    "editable": true
   },
   "outputs": [],
   "source": [
    "t1 =0.020   # time constant\n",
    "t2 =0.010\n",
    "t3 =0.010                      \n",
    "Delta = 0.0070 + 0.0010 + 0.0008 # delay\n",
    "\n",
    "tc= 0.015  #test with TAUx=TAU for all x"
   ]
  },
  {
   "cell_type": "markdown",
   "metadata": {
    "deletable": true,
    "editable": true
   },
   "source": [
    "# equation resolution: Plot G=f(w) , TAUx=TAU for all x"
   ]
  },
  {
   "cell_type": "raw",
   "metadata": {
    "collapsed": false,
    "deletable": true,
    "editable": true
   },
   "source": [
    "wlist= list() \n",
    "Gtlist= list() \n",
    "iwlist= list() \n",
    "iGtlist = list()\n",
    "\n",
    "for w in tqdm(np.arange(0.00001, 150, 0.00001)):\n",
    "    Gt= (3*(w*tc)**2 - 1)/cos(w*Delta)\n",
    "    Gtlist.append(Gt)\n",
    "    wlist.append(w)\n",
    "    \n",
    "    iGt = (-(w*tc)**3 + 3*w*tc)/sin(w*Delta)\n",
    "    iGtlist.append(iGt)\n",
    "    iwlist.append(w)\n",
    "    \n",
    "    if round(Gt,5) == round(iGt,5):\n",
    "        print('w:',w,'Gt:',Gt)\n",
    "    else:\n",
    "        pass\n",
    "            \n",
    "fig, axes = plt.subplots(1, 3,figsize=(20, 5))\n",
    "\n",
    "axes[0].plot(Gtlist, wlist)\n",
    "axes[0].set_title(\"resolution in R\")\n",
    "axes[0].set_ylabel('w')\n",
    "axes[0].set_xlabel('Gt')\n",
    "\n",
    "axes[1].plot(iGtlist, iwlist)\n",
    "axes[1].set_title(\"Resolution in C\")           \n",
    "axes[1].set_ylabel('iw')\n",
    "axes[1].set_xlabel('iGt')\n",
    "\n",
    "axes[2].plot(iGtlist, iwlist)\n",
    "axes[2].plot(Gtlist, wlist)\n",
    "axes[2].set_ylabel('w')\n",
    "axes[2].set_xlabel('Gt')\n",
    "axes[2].set_title(\"Both\");\n",
    "\n",
    "plt.show()"
   ]
  },
  {
   "cell_type": "markdown",
   "metadata": {
    "deletable": true,
    "editable": true
   },
   "source": [
    "# equation resolution: Plot G=f(w) , TAUx=TAUx for all x"
   ]
  },
  {
   "cell_type": "raw",
   "metadata": {
    "collapsed": false,
    "deletable": true,
    "editable": true
   },
   "source": [
    "w1list= list() \n",
    "G1tlist= list() \n",
    "iw1list= list() \n",
    "iG1tlist = list()\n",
    "\n",
    "for w in tqdm(np.arange(0.00001, 150, 0.00001)):\n",
    "    Gt= ((w**2)*(t1*t2+t2*t3+t1*t3) - 1)/cos(w*Delta)\n",
    "    G1tlist.append(Gt)\n",
    "    w1list.append(w)\n",
    "    \n",
    "    iGt = (w*(t1+t2+t3) - ((w**3)*t1*t2*t3))/sin(w*Delta)\n",
    "    iG1tlist.append(iGt)\n",
    "    iw1list.append(w)\n",
    "    \n",
    "    if round(Gt,5) == round(iGt,5):\n",
    "        print('w:',w,'f:',w/(2*pi),'Sp/s','Gt:',Gt)\n",
    "    else:\n",
    "        pass\n",
    "            \n",
    "fig, axes = plt.subplots(1, 3,figsize=(20, 5))\n",
    "\n",
    "axes[0].plot(G1tlist, w1list)\n",
    "axes[0].set_title(\"resolution in R\")\n",
    "axes[0].set_ylabel('w')\n",
    "axes[0].set_xlabel('Gt')\n",
    "\n",
    "axes[1].plot(iG1tlist, iw1list)\n",
    "axes[1].set_title(\"Resolution in C\")           \n",
    "axes[1].set_ylabel('iw')\n",
    "axes[1].set_xlabel('iGt')\n",
    "\n",
    "axes[2].plot(iG1tlist, iw1list)\n",
    "axes[2].plot(G1tlist, w1list)\n",
    "axes[2].set_ylabel('w')\n",
    "axes[2].set_xlabel('Gt')\n",
    "axes[2].set_title(\"Both\");\n",
    "\n",
    "plt.show()"
   ]
  },
  {
   "cell_type": "markdown",
   "metadata": {
    "deletable": true,
    "editable": true
   },
   "source": [
    "# with different Delta"
   ]
  },
  {
   "cell_type": "raw",
   "metadata": {
    "deletable": true,
    "editable": true
   },
   "source": [
    "w1list= list() \n",
    "G1tlist= list() \n",
    "iw1list= list() \n",
    "iG1tlist = list()\n",
    "Deltax=0.0188\n",
    "\n",
    "for w in tqdm(np.arange(0.00001, 150, 0.00001)):\n",
    "    Gt= ((w**2)*(t1*t2+t2*t3+t1*t3) - 1)/cos(w*Deltax)\n",
    "    G1tlist.append(Gt)\n",
    "    w1list.append(w)\n",
    "    \n",
    "    iGt = (w*(t1+t2+t3) - ((w**3)*t1*t2*t3))/sin(w*Deltax)\n",
    "    iG1tlist.append(iGt)\n",
    "    iw1list.append(w)\n",
    "    \n",
    "    if round(Gt,5) == round(iGt,5):\n",
    "        print('w:',w,'f:',w/(2*pi),'Sp/s','Gt:',Gt)\n",
    "    else:\n",
    "        pass\n",
    "            \n",
    "fig, axes = plt.subplots(1, 3,figsize=(20, 5))\n",
    "\n",
    "axes[0].plot(G1tlist, w1list)\n",
    "axes[0].set_title(\"resolution in R\")\n",
    "axes[0].set_ylabel('w')\n",
    "axes[0].set_xlabel('Gt')\n",
    "\n",
    "axes[1].plot(iG1tlist, iw1list)\n",
    "axes[1].set_title(\"Resolution in C\")           \n",
    "axes[1].set_ylabel('iw')\n",
    "axes[1].set_xlabel('iGt')\n",
    "\n",
    "axes[2].plot(iG1tlist, iw1list)\n",
    "axes[2].plot(G1tlist, w1list)\n",
    "axes[2].set_ylabel('w')\n",
    "axes[2].set_xlabel('Gt')\n",
    "axes[2].set_title(\"Both\");\n",
    "\n",
    "plt.show()"
   ]
  },
  {
   "cell_type": "markdown",
   "metadata": {
    "deletable": true,
    "editable": true
   },
   "source": [
    "# Delta variation"
   ]
  },
  {
   "cell_type": "code",
   "execution_count": 4,
   "metadata": {
    "collapsed": true,
    "deletable": true,
    "editable": true
   },
   "outputs": [],
   "source": [
    "def calculation(Deltay,t1,t2,t3,wdlist,Gdlist,Delist):\n",
    "    \n",
    "    for w in np.arange(0.00001, 130, 0.00001):\n",
    "        if round(((w**2)*(t1*t2+t2*t3+t1*t3) - 1)/cos(w*Deltay),5) == round((w*(t1+t2+t3) - ((w**3)*t1*t2*t3))/sin(w*Deltay),5):\n",
    "            wdlist.append(w)\n",
    "            Gdlist.append(round(((w**2)*(t1*t2+t2*t3+t1*t3) - 1)/cos(w*Deltay),5))\n",
    "            Delist.append(Deltay)\n",
    "        else:\n",
    "            pass"
   ]
  },
  {
   "cell_type": "raw",
   "metadata": {
    "collapsed": false,
    "deletable": true,
    "editable": true
   },
   "source": [
    "w1list= list() \n",
    "G1tlist= list()\n",
    "Deltav= list()\n",
    "flist=list()\n",
    "tv=0.020\n",
    "\n",
    "for Delah in tqdm(np.arange(0.001, 0.020, 0.001)):\n",
    "    calculation(Delah,0.010,0.010,tv,w1list,G1tlist,Deltav)\n",
    "    \n",
    "flist=[i/(2*pi) for i in w1list]\n",
    "\n",
    "\n",
    "data_dir()\n",
    "np.save('DiagramFsi/{}/{}_omega'.format(timestr,tv),w1list)\n",
    "np.save('DiagramFsi/{}/{}_frequency'.format(timestr,tv),flist)\n",
    "np.save('DiagramFsi/{}/{}_weight'.format(timestr,tv),G1tlist)\n",
    "np.save('DiagramFsi/{}/{}_delta'.format(timestr,tv),Deltav)"
   ]
  },
  {
   "cell_type": "raw",
   "metadata": {},
   "source": [
    "plt.plot(Deltav, w1list)\n",
    "plt.grid()\n",
    "plt.title(\"w>D\")\n",
    "plt.ylabel('w (angular velocity)')\n",
    "plt.xlabel('Delta (Delay)')\n",
    "plt.savefig('DiagramFsi/{}/{}_w>D0.png'.format(timestr,tv),dpi=300,bbox_inches='tight')\n",
    "plt.show()\n",
    "plt.close()\n",
    "\n",
    "plt.plot(Deltav, G1tlist)\n",
    "plt.grid()\n",
    "plt.title(\"G>D\")           \n",
    "plt.ylabel('Gc (Critical Weight)')\n",
    "plt.xlabel('Delta (Delay)')\n",
    "plt.savefig('DiagramFsi/{}/{}_G>D0.png'.format(timestr,tv),dpi=300,bbox_inches='tight')\n",
    "plt.show()\n",
    "plt.close()\n",
    "\n",
    "plt.plot(G1tlist, w1list)\n",
    "plt.grid()\n",
    "plt.ylabel('w (angular velocity)')\n",
    "plt.xlabel('Gc (Critical Weight)')\n",
    "plt.title(\"w>Gc\")\n",
    "plt.savefig('DiagramFsi/{}/{}_w>Gc0.png'.format(timestr,tv),dpi=300,bbox_inches='tight')\n",
    "plt.show()\n",
    "plt.close()\n",
    "\n",
    "plt.plot(Deltav, flist)\n",
    "plt.grid()\n",
    "plt.title(\"f>D\")\n",
    "plt.ylabel('f (Oscillation frequency)')\n",
    "plt.xlabel('Delta (Delay)')\n",
    "plt.savefig('DiagramFsi/{}/{}_f>D0.png'.format(timestr,tv),dpi=300,bbox_inches='tight')\n",
    "plt.show()\n",
    "plt.close()\n",
    "\n",
    "plt.plot(G1tlist, flist)\n",
    "plt.grid()\n",
    "plt.title(\"f>G\")\n",
    "plt.ylabel('f (Oscillation frequency)')\n",
    "plt.xlabel('Gc (Critical Weight)')\n",
    "plt.savefig('DiagramFsi/{}/{}_f>Gc0.png'.format(timestr,tv),dpi=300,bbox_inches='tight')\n",
    "plt.show()\n",
    "plt.close()"
   ]
  },
  {
   "cell_type": "markdown",
   "metadata": {
    "deletable": true,
    "editable": true
   },
   "source": [
    "# Tau Variation"
   ]
  },
  {
   "cell_type": "code",
   "execution_count": 5,
   "metadata": {
    "collapsed": false,
    "deletable": true,
    "editable": true
   },
   "outputs": [
    {
     "name": "stderr",
     "output_type": "stream",
     "text": [
      "  0%|          | 0/10 [00:00<?, ?it/s]\n",
      "  0%|          | 0/19 [00:00<?, ?it/s]\u001b[A\n",
      "  5%|▌         | 1/19 [01:18<23:41, 78.98s/it]\u001b[A\n",
      " 11%|█         | 2/19 [02:36<22:17, 78.65s/it]\u001b[A\n"
     ]
    },
    {
     "ename": "KeyboardInterrupt",
     "evalue": "",
     "output_type": "error",
     "traceback": [
      "\u001b[0;31m---------------------------------------------------------------------------\u001b[0m",
      "\u001b[0;31mKeyboardInterrupt\u001b[0m                         Traceback (most recent call last)",
      "\u001b[0;32m<ipython-input-5-afe1d311acb5>\u001b[0m in \u001b[0;36m<module>\u001b[0;34m()\u001b[0m\n\u001b[1;32m     10\u001b[0m \u001b[0;34m\u001b[0m\u001b[0m\n\u001b[1;32m     11\u001b[0m     \u001b[0;32mfor\u001b[0m \u001b[0mDelah\u001b[0m \u001b[0;32min\u001b[0m \u001b[0mtqdm\u001b[0m\u001b[0;34m(\u001b[0m\u001b[0mnp\u001b[0m\u001b[0;34m.\u001b[0m\u001b[0marange\u001b[0m\u001b[0;34m(\u001b[0m\u001b[0;36m0.001\u001b[0m\u001b[0;34m,\u001b[0m \u001b[0;36m0.020\u001b[0m\u001b[0;34m,\u001b[0m \u001b[0;36m0.001\u001b[0m\u001b[0;34m)\u001b[0m\u001b[0;34m)\u001b[0m\u001b[0;34m:\u001b[0m\u001b[0;34m\u001b[0m\u001b[0m\n\u001b[0;32m---> 12\u001b[0;31m         \u001b[0mcalculation\u001b[0m\u001b[0;34m(\u001b[0m\u001b[0mDelah\u001b[0m\u001b[0;34m,\u001b[0m\u001b[0;36m0.010\u001b[0m\u001b[0;34m,\u001b[0m\u001b[0;36m0.010\u001b[0m\u001b[0;34m,\u001b[0m\u001b[0mtv\u001b[0m\u001b[0;34m,\u001b[0m\u001b[0mw1list\u001b[0m\u001b[0;34m,\u001b[0m\u001b[0mG1tlist\u001b[0m\u001b[0;34m,\u001b[0m\u001b[0mDeltav\u001b[0m\u001b[0;34m)\u001b[0m\u001b[0;34m\u001b[0m\u001b[0m\n\u001b[0m\u001b[1;32m     13\u001b[0m \u001b[0;34m\u001b[0m\u001b[0m\n\u001b[1;32m     14\u001b[0m     \u001b[0mflist\u001b[0m\u001b[0;34m=\u001b[0m\u001b[0mnp\u001b[0m\u001b[0;34m.\u001b[0m\u001b[0marray\u001b[0m\u001b[0;34m(\u001b[0m\u001b[0mw1list\u001b[0m\u001b[0;34m)\u001b[0m\u001b[0;34m/\u001b[0m\u001b[0;34m(\u001b[0m\u001b[0;36m2\u001b[0m\u001b[0;34m*\u001b[0m\u001b[0mpi\u001b[0m\u001b[0;34m)\u001b[0m\u001b[0;34m\u001b[0m\u001b[0m\n",
      "\u001b[0;32m<ipython-input-4-1e5f0db78557>\u001b[0m in \u001b[0;36mcalculation\u001b[0;34m(Deltay, t1, t2, t3, wdlist, Gdlist, Delist)\u001b[0m\n\u001b[1;32m      2\u001b[0m \u001b[0;34m\u001b[0m\u001b[0m\n\u001b[1;32m      3\u001b[0m     \u001b[0;32mfor\u001b[0m \u001b[0mw\u001b[0m \u001b[0;32min\u001b[0m \u001b[0mnp\u001b[0m\u001b[0;34m.\u001b[0m\u001b[0marange\u001b[0m\u001b[0;34m(\u001b[0m\u001b[0;36m0.00001\u001b[0m\u001b[0;34m,\u001b[0m \u001b[0;36m130\u001b[0m\u001b[0;34m,\u001b[0m \u001b[0;36m0.00001\u001b[0m\u001b[0;34m)\u001b[0m\u001b[0;34m:\u001b[0m\u001b[0;34m\u001b[0m\u001b[0m\n\u001b[0;32m----> 4\u001b[0;31m         \u001b[0;32mif\u001b[0m \u001b[0mround\u001b[0m\u001b[0;34m(\u001b[0m\u001b[0;34m(\u001b[0m\u001b[0;34m(\u001b[0m\u001b[0mw\u001b[0m\u001b[0;34m**\u001b[0m\u001b[0;36m2\u001b[0m\u001b[0;34m)\u001b[0m\u001b[0;34m*\u001b[0m\u001b[0;34m(\u001b[0m\u001b[0mt1\u001b[0m\u001b[0;34m*\u001b[0m\u001b[0mt2\u001b[0m\u001b[0;34m+\u001b[0m\u001b[0mt2\u001b[0m\u001b[0;34m*\u001b[0m\u001b[0mt3\u001b[0m\u001b[0;34m+\u001b[0m\u001b[0mt1\u001b[0m\u001b[0;34m*\u001b[0m\u001b[0mt3\u001b[0m\u001b[0;34m)\u001b[0m \u001b[0;34m-\u001b[0m \u001b[0;36m1\u001b[0m\u001b[0;34m)\u001b[0m\u001b[0;34m/\u001b[0m\u001b[0mcos\u001b[0m\u001b[0;34m(\u001b[0m\u001b[0mw\u001b[0m\u001b[0;34m*\u001b[0m\u001b[0mDeltay\u001b[0m\u001b[0;34m)\u001b[0m\u001b[0;34m,\u001b[0m\u001b[0;36m5\u001b[0m\u001b[0;34m)\u001b[0m \u001b[0;34m==\u001b[0m \u001b[0mround\u001b[0m\u001b[0;34m(\u001b[0m\u001b[0;34m(\u001b[0m\u001b[0mw\u001b[0m\u001b[0;34m*\u001b[0m\u001b[0;34m(\u001b[0m\u001b[0mt1\u001b[0m\u001b[0;34m+\u001b[0m\u001b[0mt2\u001b[0m\u001b[0;34m+\u001b[0m\u001b[0mt3\u001b[0m\u001b[0;34m)\u001b[0m \u001b[0;34m-\u001b[0m \u001b[0;34m(\u001b[0m\u001b[0;34m(\u001b[0m\u001b[0mw\u001b[0m\u001b[0;34m**\u001b[0m\u001b[0;36m3\u001b[0m\u001b[0;34m)\u001b[0m\u001b[0;34m*\u001b[0m\u001b[0mt1\u001b[0m\u001b[0;34m*\u001b[0m\u001b[0mt2\u001b[0m\u001b[0;34m*\u001b[0m\u001b[0mt3\u001b[0m\u001b[0;34m)\u001b[0m\u001b[0;34m)\u001b[0m\u001b[0;34m/\u001b[0m\u001b[0msin\u001b[0m\u001b[0;34m(\u001b[0m\u001b[0mw\u001b[0m\u001b[0;34m*\u001b[0m\u001b[0mDeltay\u001b[0m\u001b[0;34m)\u001b[0m\u001b[0;34m,\u001b[0m\u001b[0;36m5\u001b[0m\u001b[0;34m)\u001b[0m\u001b[0;34m:\u001b[0m\u001b[0;34m\u001b[0m\u001b[0m\n\u001b[0m\u001b[1;32m      5\u001b[0m             \u001b[0mwdlist\u001b[0m\u001b[0;34m.\u001b[0m\u001b[0mappend\u001b[0m\u001b[0;34m(\u001b[0m\u001b[0mw\u001b[0m\u001b[0;34m)\u001b[0m\u001b[0;34m\u001b[0m\u001b[0m\n\u001b[1;32m      6\u001b[0m             \u001b[0mGdlist\u001b[0m\u001b[0;34m.\u001b[0m\u001b[0mappend\u001b[0m\u001b[0;34m(\u001b[0m\u001b[0mround\u001b[0m\u001b[0;34m(\u001b[0m\u001b[0;34m(\u001b[0m\u001b[0;34m(\u001b[0m\u001b[0mw\u001b[0m\u001b[0;34m**\u001b[0m\u001b[0;36m2\u001b[0m\u001b[0;34m)\u001b[0m\u001b[0;34m*\u001b[0m\u001b[0;34m(\u001b[0m\u001b[0mt1\u001b[0m\u001b[0;34m*\u001b[0m\u001b[0mt2\u001b[0m\u001b[0;34m+\u001b[0m\u001b[0mt2\u001b[0m\u001b[0;34m*\u001b[0m\u001b[0mt3\u001b[0m\u001b[0;34m+\u001b[0m\u001b[0mt1\u001b[0m\u001b[0;34m*\u001b[0m\u001b[0mt3\u001b[0m\u001b[0;34m)\u001b[0m \u001b[0;34m-\u001b[0m \u001b[0;36m1\u001b[0m\u001b[0;34m)\u001b[0m\u001b[0;34m/\u001b[0m\u001b[0mcos\u001b[0m\u001b[0;34m(\u001b[0m\u001b[0mw\u001b[0m\u001b[0;34m*\u001b[0m\u001b[0mDeltay\u001b[0m\u001b[0;34m)\u001b[0m\u001b[0;34m,\u001b[0m\u001b[0;36m5\u001b[0m\u001b[0;34m)\u001b[0m\u001b[0;34m)\u001b[0m\u001b[0;34m\u001b[0m\u001b[0m\n",
      "\u001b[0;31mKeyboardInterrupt\u001b[0m: "
     ]
    }
   ],
   "source": [
    "data_dir()\n",
    "\n",
    "tvlist=np.arange(0,0.010,0.001)        \n",
    "for tv in tqdm(tvlist):    \n",
    "        \n",
    "    w1list= [] \n",
    "    G1tlist= [] \n",
    "    Deltav= [] \n",
    "    flist=[] \n",
    "\n",
    "    for Delah in tqdm(np.arange(0.001, 0.020, 0.001)):\n",
    "        calculation(Delah,0.010,0.010,tv,w1list,G1tlist,Deltav)\n",
    "    \n",
    "    flist=np.array(w1list)/(2*pi)\n",
    "    \n",
    "    np.save('DiagramFsi/{}/{}_omega'.format(timestr,tv),w1list)\n",
    "    np.save('DiagramFsi/{}/{}_frequency'.format(timestr,tv),flist)\n",
    "    np.save('DiagramFsi/{}/{}_weight'.format(timestr,tv),G1tlist)\n",
    "    np.save('DiagramFsi/{}/{}_delta'.format(timestr,tv),Deltav)"
   ]
  }
 ],
 "metadata": {
  "kernelspec": {
   "display_name": "Python 3",
   "language": "python",
   "name": "python3"
  }
 },
 "nbformat": 4,
 "nbformat_minor": 2
}
