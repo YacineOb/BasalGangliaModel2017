{
 "cells": [
  {
   "cell_type": "code",
   "execution_count": 1,
   "metadata": {
    "collapsed": true,
    "deletable": true,
    "editable": true
   },
   "outputs": [],
   "source": [
    "import os\n",
    "from math import *\n",
    "from matplotlib import pyplot as plt\n",
    "from mpl_toolkits.mplot3d import Axes3D\n",
    "import numpy as np\n",
    "from tqdm import tqdm\n",
    "from multiprocessing import Pool"
   ]
  },
  {
   "cell_type": "code",
   "execution_count": 2,
   "metadata": {
    "collapsed": true,
    "deletable": true,
    "editable": true
   },
   "outputs": [],
   "source": [
    "def data_dir(dir=\"os.getcwd()\"):   # will create the files needed to store values in CWD/Data\n",
    "    directory = os.path.dirname(dir)\n",
    "    if not os.path.exists('{}/{}'.format(os.getcwd(),'DiagramFsi')):\n",
    "        os.makedirs('{}/{}'.format(os.getcwd(),'DiagramFsi'))"
   ]
  },
  {
   "cell_type": "markdown",
   "metadata": {
    "deletable": true,
    "editable": true
   },
   "source": [
    "# Parameters"
   ]
  },
  {
   "cell_type": "code",
   "execution_count": 3,
   "metadata": {
    "collapsed": false,
    "deletable": true,
    "editable": true
   },
   "outputs": [],
   "source": [
    "t1 =0.020   # time constant\n",
    "t2 =0.010\n",
    "t3 =0.010                      \n",
    "Delta = 0.0070 + 0.0010 + 0.0008 # delay\n",
    "\n",
    "tc= 0.015  #test with TAUx=TAU for all x"
   ]
  },
  {
   "cell_type": "markdown",
   "metadata": {
    "deletable": true,
    "editable": true
   },
   "source": [
    "# equation resolution: Plot G=f(w) , TAUx=TAU for all x"
   ]
  },
  {
   "cell_type": "raw",
   "metadata": {
    "collapsed": false,
    "deletable": true,
    "editable": true
   },
   "source": [
    "wlist= list() \n",
    "Gtlist= list() \n",
    "iwlist= list() \n",
    "iGtlist = list()\n",
    "\n",
    "for w in tqdm(np.arange(0.00001, 150, 0.00001)):\n",
    "    Gt= (3*(w*tc)**2 - 1)/cos(w*Delta)\n",
    "    Gtlist.append(Gt)\n",
    "    wlist.append(w)\n",
    "    \n",
    "    iGt = (-(w*tc)**3 + 3*w*tc)/sin(w*Delta)\n",
    "    iGtlist.append(iGt)\n",
    "    iwlist.append(w)\n",
    "    \n",
    "    if round(Gt,5) == round(iGt,5):\n",
    "        print('w:',w,'Gt:',Gt)\n",
    "    else:\n",
    "        pass\n",
    "            \n",
    "fig, axes = plt.subplots(1, 3,figsize=(20, 5))\n",
    "\n",
    "axes[0].plot(Gtlist, wlist)\n",
    "axes[0].set_title(\"resolution in R\")\n",
    "axes[0].set_ylabel('w')\n",
    "axes[0].set_xlabel('Gt')\n",
    "\n",
    "axes[1].plot(iGtlist, iwlist)\n",
    "axes[1].set_title(\"Resolution in C\")           \n",
    "axes[1].set_ylabel('iw')\n",
    "axes[1].set_xlabel('iGt')\n",
    "\n",
    "axes[2].plot(iGtlist, iwlist)\n",
    "axes[2].plot(Gtlist, wlist)\n",
    "axes[2].set_ylabel('w')\n",
    "axes[2].set_xlabel('Gt')\n",
    "axes[2].set_title(\"Both\");\n",
    "\n",
    "plt.show()"
   ]
  },
  {
   "cell_type": "markdown",
   "metadata": {
    "deletable": true,
    "editable": true
   },
   "source": [
    "# equation resolution: Plot G=f(w) , TAUx=TAUx for all x"
   ]
  },
  {
   "cell_type": "raw",
   "metadata": {
    "collapsed": false,
    "deletable": true,
    "editable": true
   },
   "source": [
    "w1list= list() \n",
    "G1tlist= list() \n",
    "iw1list= list() \n",
    "iG1tlist = list()\n",
    "\n",
    "for w in tqdm(np.arange(0.00001, 150, 0.00001)):\n",
    "    Gt= ((w**2)*(t1*t2+t2*t3+t1*t3) - 1)/cos(w*Delta)\n",
    "    G1tlist.append(Gt)\n",
    "    w1list.append(w)\n",
    "    \n",
    "    iGt = (w*(t1+t2+t3) - ((w**3)*t1*t2*t3))/sin(w*Delta)\n",
    "    iG1tlist.append(iGt)\n",
    "    iw1list.append(w)\n",
    "    \n",
    "    if round(Gt,5) == round(iGt,5):\n",
    "        print('w:',w,'f:',w/(2*pi),'Sp/s','Gt:',Gt)\n",
    "    else:\n",
    "        pass\n",
    "            \n",
    "fig, axes = plt.subplots(1, 3,figsize=(20, 5))\n",
    "\n",
    "axes[0].plot(G1tlist, w1list)\n",
    "axes[0].set_title(\"resolution in R\")\n",
    "axes[0].set_ylabel('w')\n",
    "axes[0].set_xlabel('Gt')\n",
    "\n",
    "axes[1].plot(iG1tlist, iw1list)\n",
    "axes[1].set_title(\"Resolution in C\")           \n",
    "axes[1].set_ylabel('iw')\n",
    "axes[1].set_xlabel('iGt')\n",
    "\n",
    "axes[2].plot(iG1tlist, iw1list)\n",
    "axes[2].plot(G1tlist, w1list)\n",
    "axes[2].set_ylabel('w')\n",
    "axes[2].set_xlabel('Gt')\n",
    "axes[2].set_title(\"Both\");\n",
    "\n",
    "plt.show()"
   ]
  },
  {
   "cell_type": "markdown",
   "metadata": {
    "deletable": true,
    "editable": true
   },
   "source": [
    "# with different Delta"
   ]
  },
  {
   "cell_type": "raw",
   "metadata": {
    "deletable": true,
    "editable": true
   },
   "source": [
    "w1list= list() \n",
    "G1tlist= list() \n",
    "iw1list= list() \n",
    "iG1tlist = list()\n",
    "Deltax=0.0188\n",
    "\n",
    "for w in tqdm(np.arange(0.00001, 150, 0.00001)):\n",
    "    Gt= ((w**2)*(t1*t2+t2*t3+t1*t3) - 1)/cos(w*Deltax)\n",
    "    G1tlist.append(Gt)\n",
    "    w1list.append(w)\n",
    "    \n",
    "    iGt = (w*(t1+t2+t3) - ((w**3)*t1*t2*t3))/sin(w*Deltax)\n",
    "    iG1tlist.append(iGt)\n",
    "    iw1list.append(w)\n",
    "    \n",
    "    if round(Gt,5) == round(iGt,5):\n",
    "        print('w:',w,'f:',w/(2*pi),'Sp/s','Gt:',Gt)\n",
    "    else:\n",
    "        pass\n",
    "            \n",
    "fig, axes = plt.subplots(1, 3,figsize=(20, 5))\n",
    "\n",
    "axes[0].plot(G1tlist, w1list)\n",
    "axes[0].set_title(\"resolution in R\")\n",
    "axes[0].set_ylabel('w')\n",
    "axes[0].set_xlabel('Gt')\n",
    "\n",
    "axes[1].plot(iG1tlist, iw1list)\n",
    "axes[1].set_title(\"Resolution in C\")           \n",
    "axes[1].set_ylabel('iw')\n",
    "axes[1].set_xlabel('iGt')\n",
    "\n",
    "axes[2].plot(iG1tlist, iw1list)\n",
    "axes[2].plot(G1tlist, w1list)\n",
    "axes[2].set_ylabel('w')\n",
    "axes[2].set_xlabel('Gt')\n",
    "axes[2].set_title(\"Both\");\n",
    "\n",
    "plt.show()"
   ]
  },
  {
   "cell_type": "markdown",
   "metadata": {
    "deletable": true,
    "editable": true
   },
   "source": [
    "# Delta dependency"
   ]
  },
  {
   "cell_type": "code",
   "execution_count": 4,
   "metadata": {
    "collapsed": true,
    "deletable": true,
    "editable": true
   },
   "outputs": [],
   "source": [
    "def calculation(Deltay,t1,t2,t3,wdlist,Gdlist,Delist):\n",
    "    \n",
    "    for w in np.arange(0.00001, 130, 0.00001):\n",
    "        if round(((w**2)*(t1*t2+t2*t3+t1*t3) - 1)/cos(w*Deltay),5) == round((w*(t1+t2+t3) - ((w**3)*t1*t2*t3))/sin(w*Deltay),5):\n",
    "            wdlist.append(w)\n",
    "            Gdlist.append(round(((w**2)*(t1*t2+t2*t3+t1*t3) - 1)/cos(w*Deltay),5))\n",
    "            Delist.append(Deltay)\n",
    "        else:\n",
    "            pass"
   ]
  },
  {
   "cell_type": "raw",
   "metadata": {
    "collapsed": false,
    "deletable": true,
    "editable": true
   },
   "source": [
    "w1list= list() \n",
    "G1tlist= list()\n",
    "Deltav= list()\n",
    "flist=list()\n",
    "\n",
    "for Delah in tqdm(np.arange(0.001, 0.020, 0.001)):\n",
    "    calculation(Delah,0.010,0.010,0.020,w1list,G1tlist,Deltav)\n",
    "    \n",
    "flist=[i/(2*pi) for i in w1list]\n",
    "\n",
    "plt.plot(Deltav, w1list)\n",
    "plt.grid()\n",
    "plt.title(\"w>D\")\n",
    "plt.ylabel('w (angular velocity)')\n",
    "plt.xlabel('Delta (Delay)')\n",
    "plt.savefig('Data/w>D0.png',dpi=300,bbox_inches='tight')\n",
    "plt.show()\n",
    "plt.close()\n",
    "\n",
    "plt.plot(Deltav, G1tlist)\n",
    "plt.grid()\n",
    "plt.title(\"G>D\")           \n",
    "plt.ylabel('Gc (Critical Weight)')\n",
    "plt.xlabel('Delta (Delay)')\n",
    "plt.savefig('Data/G>D0.png',dpi=300,bbox_inches='tight')\n",
    "plt.show()\n",
    "plt.close()\n",
    "\n",
    "plt.plot(G1tlist, w1list)\n",
    "plt.grid()\n",
    "plt.ylabel('w (angular velocity)')\n",
    "plt.xlabel('Gc (Critical Weight)')\n",
    "plt.title(\"w>Gc\")\n",
    "plt.savefig('Data/w>Gc0.png',dpi=300,bbox_inches='tight')\n",
    "plt.show()\n",
    "plt.close()\n",
    "\n",
    "plt.plot(Deltav, flist)\n",
    "plt.grid()\n",
    "plt.title(\"f>D\")\n",
    "plt.ylabel('f (Oscillation frequency)')\n",
    "plt.xlabel('Delta (Delay)')\n",
    "plt.savefig('Data/f>D0.png',dpi=300,bbox_inches='tight')\n",
    "plt.show()\n",
    "plt.close()"
   ]
  },
  {
   "cell_type": "markdown",
   "metadata": {
    "deletable": true,
    "editable": true
   },
   "source": [
    "# Tau Variation"
   ]
  },
  {
   "cell_type": "code",
   "execution_count": 5,
   "metadata": {
    "collapsed": false,
    "deletable": true,
    "editable": true
   },
   "outputs": [
    {
     "ename": "AttributeError",
     "evalue": "'builtin_function_or_method' object has no attribute 'rfind'",
     "output_type": "error",
     "traceback": [
      "\u001b[0;31m---------------------------------------------------------------------------\u001b[0m",
      "\u001b[0;31mAttributeError\u001b[0m                            Traceback (most recent call last)",
      "\u001b[0;32m<ipython-input-5-a298975fcf4f>\u001b[0m in \u001b[0;36m<module>\u001b[0;34m()\u001b[0m\n\u001b[0;32m----> 1\u001b[0;31m \u001b[0mdata_dir\u001b[0m\u001b[0;34m(\u001b[0m\u001b[0mdir\u001b[0m\u001b[0;34m)\u001b[0m\u001b[0;34m\u001b[0m\u001b[0m\n\u001b[0m\u001b[1;32m      2\u001b[0m \u001b[0;34m\u001b[0m\u001b[0m\n\u001b[1;32m      3\u001b[0m \u001b[0;32mfor\u001b[0m \u001b[0mtv\u001b[0m \u001b[0;32min\u001b[0m \u001b[0mtqdm\u001b[0m\u001b[0;34m(\u001b[0m\u001b[0mnp\u001b[0m\u001b[0;34m.\u001b[0m\u001b[0marange\u001b[0m\u001b[0;34m(\u001b[0m\u001b[0;36m0.001\u001b[0m\u001b[0;34m,\u001b[0m\u001b[0;36m0.010\u001b[0m\u001b[0;34m,\u001b[0m\u001b[0;36m0.001\u001b[0m\u001b[0;34m)\u001b[0m\u001b[0;34m)\u001b[0m\u001b[0;34m:\u001b[0m\u001b[0;34m\u001b[0m\u001b[0m\n\u001b[1;32m      4\u001b[0m \u001b[0;34m\u001b[0m\u001b[0m\n\u001b[1;32m      5\u001b[0m     \u001b[0mw1total\u001b[0m \u001b[0;34m=\u001b[0m \u001b[0;34m[\u001b[0m\u001b[0;34m]\u001b[0m\u001b[0;34m\u001b[0m\u001b[0m\n",
      "\u001b[0;32m<ipython-input-2-a7e0cedfe88f>\u001b[0m in \u001b[0;36mdata_dir\u001b[0;34m(dir)\u001b[0m\n\u001b[1;32m      1\u001b[0m \u001b[0;32mdef\u001b[0m \u001b[0mdata_dir\u001b[0m\u001b[0;34m(\u001b[0m\u001b[0mdir\u001b[0m\u001b[0;34m=\u001b[0m\u001b[0;34m\"os.getcwd()\"\u001b[0m\u001b[0;34m)\u001b[0m\u001b[0;34m:\u001b[0m   \u001b[0;31m# will create the files needed to store values in CWD/Data\u001b[0m\u001b[0;34m\u001b[0m\u001b[0m\n\u001b[0;32m----> 2\u001b[0;31m     \u001b[0mdirectory\u001b[0m \u001b[0;34m=\u001b[0m \u001b[0mos\u001b[0m\u001b[0;34m.\u001b[0m\u001b[0mpath\u001b[0m\u001b[0;34m.\u001b[0m\u001b[0mdirname\u001b[0m\u001b[0;34m(\u001b[0m\u001b[0mdir\u001b[0m\u001b[0;34m)\u001b[0m\u001b[0;34m\u001b[0m\u001b[0m\n\u001b[0m\u001b[1;32m      3\u001b[0m     \u001b[0;32mif\u001b[0m \u001b[0;32mnot\u001b[0m \u001b[0mos\u001b[0m\u001b[0;34m.\u001b[0m\u001b[0mpath\u001b[0m\u001b[0;34m.\u001b[0m\u001b[0mexists\u001b[0m\u001b[0;34m(\u001b[0m\u001b[0;34m'{}/{}'\u001b[0m\u001b[0;34m.\u001b[0m\u001b[0mformat\u001b[0m\u001b[0;34m(\u001b[0m\u001b[0mos\u001b[0m\u001b[0;34m.\u001b[0m\u001b[0mgetcwd\u001b[0m\u001b[0;34m(\u001b[0m\u001b[0;34m)\u001b[0m\u001b[0;34m,\u001b[0m\u001b[0;34m'DiagramFsi'\u001b[0m\u001b[0;34m)\u001b[0m\u001b[0;34m)\u001b[0m\u001b[0;34m:\u001b[0m\u001b[0;34m\u001b[0m\u001b[0m\n\u001b[1;32m      4\u001b[0m         \u001b[0mos\u001b[0m\u001b[0;34m.\u001b[0m\u001b[0mmakedirs\u001b[0m\u001b[0;34m(\u001b[0m\u001b[0;34m'{}/{}'\u001b[0m\u001b[0;34m.\u001b[0m\u001b[0mformat\u001b[0m\u001b[0;34m(\u001b[0m\u001b[0mos\u001b[0m\u001b[0;34m.\u001b[0m\u001b[0mgetcwd\u001b[0m\u001b[0;34m(\u001b[0m\u001b[0;34m)\u001b[0m\u001b[0;34m,\u001b[0m\u001b[0;34m'DiagramFsi'\u001b[0m\u001b[0;34m)\u001b[0m\u001b[0;34m)\u001b[0m\u001b[0;34m\u001b[0m\u001b[0m\n",
      "\u001b[0;32m/home/imn/.pyenv/versions/3.5.2/lib/python3.5/posixpath.py\u001b[0m in \u001b[0;36mdirname\u001b[0;34m(p)\u001b[0m\n\u001b[1;32m    146\u001b[0m     \u001b[0;34m\"\"\"Returns the directory component of a pathname\"\"\"\u001b[0m\u001b[0;34m\u001b[0m\u001b[0m\n\u001b[1;32m    147\u001b[0m     \u001b[0msep\u001b[0m \u001b[0;34m=\u001b[0m \u001b[0m_get_sep\u001b[0m\u001b[0;34m(\u001b[0m\u001b[0mp\u001b[0m\u001b[0;34m)\u001b[0m\u001b[0;34m\u001b[0m\u001b[0m\n\u001b[0;32m--> 148\u001b[0;31m     \u001b[0mi\u001b[0m \u001b[0;34m=\u001b[0m \u001b[0mp\u001b[0m\u001b[0;34m.\u001b[0m\u001b[0mrfind\u001b[0m\u001b[0;34m(\u001b[0m\u001b[0msep\u001b[0m\u001b[0;34m)\u001b[0m \u001b[0;34m+\u001b[0m \u001b[0;36m1\u001b[0m\u001b[0;34m\u001b[0m\u001b[0m\n\u001b[0m\u001b[1;32m    149\u001b[0m     \u001b[0mhead\u001b[0m \u001b[0;34m=\u001b[0m \u001b[0mp\u001b[0m\u001b[0;34m[\u001b[0m\u001b[0;34m:\u001b[0m\u001b[0mi\u001b[0m\u001b[0;34m]\u001b[0m\u001b[0;34m\u001b[0m\u001b[0m\n\u001b[1;32m    150\u001b[0m     \u001b[0;32mif\u001b[0m \u001b[0mhead\u001b[0m \u001b[0;32mand\u001b[0m \u001b[0mhead\u001b[0m \u001b[0;34m!=\u001b[0m \u001b[0msep\u001b[0m\u001b[0;34m*\u001b[0m\u001b[0mlen\u001b[0m\u001b[0;34m(\u001b[0m\u001b[0mhead\u001b[0m\u001b[0;34m)\u001b[0m\u001b[0;34m:\u001b[0m\u001b[0;34m\u001b[0m\u001b[0m\n",
      "\u001b[0;31mAttributeError\u001b[0m: 'builtin_function_or_method' object has no attribute 'rfind'"
     ]
    }
   ],
   "source": [
    "data_dir() \n",
    "\n",
    "for tv in tqdm(np.arange(0.001,0.010,0.001)):\n",
    "\n",
    "    w1total = [] \n",
    "    G1ttotal= []\n",
    "    Deltatotal= []\n",
    "    \n",
    "    w1list = [] \n",
    "    G1tlist = []\n",
    "    Deltav = []\n",
    "    \n",
    "    tvlist = []\n",
    "    tvlist.append(tv)\n",
    "\n",
    "    for Delah in tqdm(np.arange(0.001, 0.020, 0.001)):\n",
    "        calculation(Delah,tv,0.010,0.020,w1list,G1tlist,Deltav)\n",
    "\n",
    "        w1total.append(w1list) \n",
    "        G1ttotal.append(G1tlist)\n",
    "        Deltatotal.append(Deltav)\n",
    "\n",
    "        \n",
    "\n",
    "for k in tvlist:\n",
    "    plt.plot(Deltatotal[k], w1total[k],label='tau:'+str(k))\n",
    "    plt.grid()\n",
    "    plt.title(\"w>D\")\n",
    "    plt.ylabel('w (angular velocity)')\n",
    "    plt.xlabel('Delta (Delay)')\n",
    "    plt.legend(bbox_to_anchor=(1.05, 1), loc=2, borderaxespad=0.)\n",
    "    plt.savefig('DiagramFsi/w>D'+str(k)+'.png',dpi=300,bbox_inches='tight')\n",
    "    plt.show()\n",
    "    plt.close()\n",
    "\n",
    "    plt.plot(Deltatotal[k], G1ttotal[k],label='tau:'+str(k))\n",
    "    plt.grid()\n",
    "    plt.title(\"G>D\")           \n",
    "    plt.ylabel('Gc (Critical Weight)')\n",
    "    plt.xlabel('Delta (Delay)')\n",
    "    plt.legend(bbox_to_anchor=(1.05, 1), loc=2, borderaxespad=0.)               \n",
    "    plt.savefig('DiagramFsi/G>D'+str(k)+'.png',dpi=300,bbox_inches='tight')\n",
    "    plt.show()\n",
    "    plt.close()\n",
    "\n",
    "    plt.plot(G1ttotal[k], w1total[k],label='tau:'+str(k))\n",
    "    plt.grid()\n",
    "    plt.ylabel('w (angular velocity)')\n",
    "    plt.xlabel('Gc (Critical Weight)')\n",
    "    plt.title(\"w>Gc\")\n",
    "    plt.legend(bbox_to_anchor=(1.05, 1), loc=2, borderaxespad=0.)               \n",
    "    plt.savefig('DiagramFsi/w>Gc'+str(k)+'.png',dpi=300,bbox_inches='tight')\n",
    "    plt.show()\n",
    "    plt.close()     "
   ]
  },
  {
   "cell_type": "code",
   "execution_count": null,
   "metadata": {
    "collapsed": true
   },
   "outputs": [],
   "source": []
  },
  {
   "cell_type": "code",
   "execution_count": null,
   "metadata": {
    "collapsed": true
   },
   "outputs": [],
   "source": []
  }
 ],
 "metadata": {
  "kernelspec": {
   "display_name": "Python 3",
   "language": "python",
   "name": "python3"
  }
 },
 "nbformat": 4,
 "nbformat_minor": 2
}
