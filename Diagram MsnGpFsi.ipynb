{
 "cells": [
  {
   "cell_type": "code",
   "execution_count": 1,
   "metadata": {
    "collapsed": true,
    "deletable": true,
    "editable": true
   },
   "outputs": [],
   "source": [
    "import os\n",
    "import time\n",
    "from math import *\n",
    "from matplotlib import pyplot as plt\n",
    "from mpl_toolkits.mplot3d import Axes3D\n",
    "import numpy as np\n",
    "from tqdm import tqdm"
   ]
  },
  {
   "cell_type": "code",
   "execution_count": 2,
   "metadata": {
    "collapsed": false,
    "deletable": true,
    "editable": true
   },
   "outputs": [],
   "source": [
    "timestr = time.strftime(\"%Y-%m-%d-%H:%M:%S\") # give the date and time that will be used to tag simulation results\n",
    "\n",
    "def data_dir(dir=\"os.getcwd()\"):   # will create the files needed to store values in CWD/Data\n",
    "    directory = os.path.dirname(dir)\n",
    "    if not os.path.exists('{}/{}'.format(os.getcwd(),'DiagramFsi')):\n",
    "        os.makedirs('{}/{}'.format(os.getcwd(),'DiagramFsi'))\n",
    "    if not os.path.exists('DiagramFsi/{}'.format(timestr)):\n",
    "        os.makedirs('DiagramFsi/{}'.format(timestr))"
   ]
  },
  {
   "cell_type": "markdown",
   "metadata": {
    "deletable": true,
    "editable": true
   },
   "source": [
    "# Parameters"
   ]
  },
  {
   "cell_type": "code",
   "execution_count": 3,
   "metadata": {
    "collapsed": false,
    "deletable": true,
    "editable": true
   },
   "outputs": [],
   "source": [
    "t1 =0.020   # time constant\n",
    "t2 =0.010\n",
    "t3 =0.010                      \n",
    "Delta = 0.0070 + 0.0010 + 0.0008 # delay\n",
    "\n",
    "tc= 0.015  #test with TAUx=TAU for all x"
   ]
  },
  {
   "cell_type": "markdown",
   "metadata": {
    "deletable": true,
    "editable": true
   },
   "source": [
    "# equation resolution: Plot G=f(w) , TAUx=TAU for all x"
   ]
  },
  {
   "cell_type": "raw",
   "metadata": {
    "collapsed": false,
    "deletable": true,
    "editable": true
   },
   "source": [
    "wlist= list() \n",
    "Gtlist= list() \n",
    "iwlist= list() \n",
    "iGtlist = list()\n",
    "\n",
    "for w in tqdm(np.arange(0.00001, 150, 0.00001)):\n",
    "    Gt= (3*(w*tc)**2 - 1)/cos(w*Delta)\n",
    "    Gtlist.append(Gt)\n",
    "    wlist.append(w)\n",
    "    \n",
    "    iGt = (-(w*tc)**3 + 3*w*tc)/sin(w*Delta)\n",
    "    iGtlist.append(iGt)\n",
    "    iwlist.append(w)\n",
    "    \n",
    "    if round(Gt,5) == round(iGt,5):\n",
    "        print('w:',w,'Gt:',Gt)\n",
    "    else:\n",
    "        pass\n",
    "            \n",
    "fig, axes = plt.subplots(1, 3,figsize=(20, 5))\n",
    "\n",
    "axes[0].plot(Gtlist, wlist)\n",
    "axes[0].set_title(\"resolution in R\")\n",
    "axes[0].set_ylabel('w')\n",
    "axes[0].set_xlabel('Gt')\n",
    "\n",
    "axes[1].plot(iGtlist, iwlist)\n",
    "axes[1].set_title(\"Resolution in C\")           \n",
    "axes[1].set_ylabel('iw')\n",
    "axes[1].set_xlabel('iGt')\n",
    "\n",
    "axes[2].plot(iGtlist, iwlist)\n",
    "axes[2].plot(Gtlist, wlist)\n",
    "axes[2].set_ylabel('w')\n",
    "axes[2].set_xlabel('Gt')\n",
    "axes[2].set_title(\"Both\");\n",
    "\n",
    "plt.show()"
   ]
  },
  {
   "cell_type": "markdown",
   "metadata": {
    "deletable": true,
    "editable": true
   },
   "source": [
    "# equation resolution: Plot G=f(w) , TAUx=TAUx for all x"
   ]
  },
  {
   "cell_type": "raw",
   "metadata": {
    "collapsed": false,
    "deletable": true,
    "editable": true
   },
   "source": [
    "w1list= list() \n",
    "G1tlist= list() \n",
    "iw1list= list() \n",
    "iG1tlist = list()\n",
    "\n",
    "for w in tqdm(np.arange(0.00001, 150, 0.00001)):\n",
    "    Gt= ((w**2)*(t1*t2+t2*t3+t1*t3) - 1)/cos(w*Delta)\n",
    "    G1tlist.append(Gt)\n",
    "    w1list.append(w)\n",
    "    \n",
    "    iGt = (w*(t1+t2+t3) - ((w**3)*t1*t2*t3))/sin(w*Delta)\n",
    "    iG1tlist.append(iGt)\n",
    "    iw1list.append(w)\n",
    "    \n",
    "    if round(Gt,5) == round(iGt,5):\n",
    "        print('w:',w,'f:',w/(2*pi),'Sp/s','Gt:',Gt)\n",
    "    else:\n",
    "        pass\n",
    "            \n",
    "fig, axes = plt.subplots(1, 3,figsize=(20, 5))\n",
    "\n",
    "axes[0].plot(G1tlist, w1list)\n",
    "axes[0].set_title(\"resolution in R\")\n",
    "axes[0].set_ylabel('w')\n",
    "axes[0].set_xlabel('Gt')\n",
    "\n",
    "axes[1].plot(iG1tlist, iw1list)\n",
    "axes[1].set_title(\"Resolution in C\")           \n",
    "axes[1].set_ylabel('iw')\n",
    "axes[1].set_xlabel('iGt')\n",
    "\n",
    "axes[2].plot(iG1tlist, iw1list)\n",
    "axes[2].plot(G1tlist, w1list)\n",
    "axes[2].set_ylabel('w')\n",
    "axes[2].set_xlabel('Gt')\n",
    "axes[2].set_title(\"Both\");\n",
    "\n",
    "plt.show()"
   ]
  },
  {
   "cell_type": "markdown",
   "metadata": {
    "deletable": true,
    "editable": true
   },
   "source": [
    "# with different Delta"
   ]
  },
  {
   "cell_type": "raw",
   "metadata": {
    "deletable": true,
    "editable": true
   },
   "source": [
    "w1list= list() \n",
    "G1tlist= list() \n",
    "iw1list= list() \n",
    "iG1tlist = list()\n",
    "Deltax=0.0188\n",
    "\n",
    "for w in tqdm(np.arange(0.00001, 150, 0.00001)):\n",
    "    Gt= ((w**2)*(t1*t2+t2*t3+t1*t3) - 1)/cos(w*Deltax)\n",
    "    G1tlist.append(Gt)\n",
    "    w1list.append(w)\n",
    "    \n",
    "    iGt = (w*(t1+t2+t3) - ((w**3)*t1*t2*t3))/sin(w*Deltax)\n",
    "    iG1tlist.append(iGt)\n",
    "    iw1list.append(w)\n",
    "    \n",
    "    if round(Gt,5) == round(iGt,5):\n",
    "        print('w:',w,'f:',w/(2*pi),'Sp/s','Gt:',Gt)\n",
    "    else:\n",
    "        pass\n",
    "            \n",
    "fig, axes = plt.subplots(1, 3,figsize=(20, 5))\n",
    "\n",
    "axes[0].plot(G1tlist, w1list)\n",
    "axes[0].set_title(\"resolution in R\")\n",
    "axes[0].set_ylabel('w')\n",
    "axes[0].set_xlabel('Gt')\n",
    "\n",
    "axes[1].plot(iG1tlist, iw1list)\n",
    "axes[1].set_title(\"Resolution in C\")           \n",
    "axes[1].set_ylabel('iw')\n",
    "axes[1].set_xlabel('iGt')\n",
    "\n",
    "axes[2].plot(iG1tlist, iw1list)\n",
    "axes[2].plot(G1tlist, w1list)\n",
    "axes[2].set_ylabel('w')\n",
    "axes[2].set_xlabel('Gt')\n",
    "axes[2].set_title(\"Both\");\n",
    "\n",
    "plt.show()"
   ]
  },
  {
   "cell_type": "markdown",
   "metadata": {
    "deletable": true,
    "editable": true
   },
   "source": [
    "# Delta variation"
   ]
  },
  {
   "cell_type": "code",
   "execution_count": 4,
   "metadata": {
    "collapsed": true,
    "deletable": true,
    "editable": true
   },
   "outputs": [],
   "source": [
    "def calculation(Deltay,t1,t2,t3,wdlist,Gdlist,Delist):\n",
    "    \n",
    "    for w in np.arange(0.00001, 190, 0.00001):\n",
    "        if round(((w**2)*(t1*t2+t2*t3+t1*t3) - 1)/cos(w*Deltay),5) == round((w*(t1+t2+t3) - ((w**3)*t1*t2*t3))/sin(w*Deltay),5):\n",
    "            wdlist.append(w)\n",
    "            Gdlist.append(round(((w**2)*(t1*t2+t2*t3+t1*t3) - 1)/cos(w*Deltay),5))\n",
    "            Delist.append(Deltay)\n",
    "        else:\n",
    "            pass"
   ]
  },
  {
   "cell_type": "raw",
   "metadata": {
    "collapsed": false,
    "deletable": true,
    "editable": true
   },
   "source": [
    "w1list= list() \n",
    "G1tlist= list()\n",
    "Deltav= list()\n",
    "flist=list()\n",
    "tv=0.020\n",
    "\n",
    "for Delah in tqdm(np.arange(0.001, 0.020, 0.001)):\n",
    "    calculation(Delah,0.010,0.010,tv,w1list,G1tlist,Deltav)\n",
    "    \n",
    "flist=[i/(2*pi) for i in w1list]\n",
    "\n",
    "\n",
    "data_dir()\n",
    "np.save('DiagramFsi/{}/{}_omega'.format(timestr,tv),w1list)\n",
    "np.save('DiagramFsi/{}/{}_frequency'.format(timestr,tv),flist)\n",
    "np.save('DiagramFsi/{}/{}_weight'.format(timestr,tv),G1tlist)\n",
    "np.save('DiagramFsi/{}/{}_delta'.format(timestr,tv),Deltav)"
   ]
  },
  {
   "cell_type": "raw",
   "metadata": {
    "deletable": true,
    "editable": true
   },
   "source": [
    "plt.plot(Deltav, w1list)\n",
    "plt.grid()\n",
    "plt.title(\"w>D\")\n",
    "plt.ylabel('w (angular velocity)')\n",
    "plt.xlabel('Delta (Delay)')\n",
    "plt.savefig('DiagramFsi/{}/{}_w>D0.png'.format(timestr,tv),dpi=300,bbox_inches='tight')\n",
    "plt.show()\n",
    "plt.close()\n",
    "\n",
    "plt.plot(Deltav, G1tlist)\n",
    "plt.grid()\n",
    "plt.title(\"G>D\")           \n",
    "plt.ylabel('Gc (Critical Weight)')\n",
    "plt.xlabel('Delta (Delay)')\n",
    "plt.savefig('DiagramFsi/{}/{}_G>D0.png'.format(timestr,tv),dpi=300,bbox_inches='tight')\n",
    "plt.show()\n",
    "plt.close()\n",
    "\n",
    "plt.plot(G1tlist, w1list)\n",
    "plt.grid()\n",
    "plt.ylabel('w (angular velocity)')\n",
    "plt.xlabel('Gc (Critical Weight)')\n",
    "plt.title(\"w>Gc\")\n",
    "plt.savefig('DiagramFsi/{}/{}_w>Gc0.png'.format(timestr,tv),dpi=300,bbox_inches='tight')\n",
    "plt.show()\n",
    "plt.close()\n",
    "\n",
    "plt.plot(Deltav, flist)\n",
    "plt.grid()\n",
    "plt.title(\"f>D\")\n",
    "plt.ylabel('f (Oscillation frequency)')\n",
    "plt.xlabel('Delta (Delay)')\n",
    "plt.savefig('DiagramFsi/{}/{}_f>D0.png'.format(timestr,tv),dpi=300,bbox_inches='tight')\n",
    "plt.show()\n",
    "plt.close()\n",
    "\n",
    "plt.plot(G1tlist, flist)\n",
    "plt.grid()\n",
    "plt.title(\"f>G\")\n",
    "plt.ylabel('f (Oscillation frequency)')\n",
    "plt.xlabel('Gc (Critical Weight)')\n",
    "plt.savefig('DiagramFsi/{}/{}_f>Gc0.png'.format(timestr,tv),dpi=300,bbox_inches='tight')\n",
    "plt.show()\n",
    "plt.close()"
   ]
  },
  {
   "cell_type": "markdown",
   "metadata": {
    "deletable": true,
    "editable": true
   },
   "source": [
    "# Tau Variation"
   ]
  },
  {
   "cell_type": "code",
   "execution_count": 5,
   "metadata": {
    "collapsed": false,
    "deletable": true,
    "editable": true
   },
   "outputs": [
    {
     "name": "stderr",
     "output_type": "stream",
     "text": [
      "  0%|          | 0/6 [00:00<?, ?it/s]\n",
      "  0%|          | 0/20 [00:00<?, ?it/s]\u001b[A/home/imn/.pyenv/versions/3.5.2/lib/python3.5/site-packages/ipykernel/__main__.py:4: RuntimeWarning: divide by zero encountered in double_scalars\n",
      "\n",
      "  5%|▌         | 1/20 [02:16<43:04, 136.04s/it]\u001b[A\n",
      " 10%|█         | 2/20 [04:00<37:56, 126.45s/it]\u001b[A\n",
      " 15%|█▌        | 3/20 [05:44<33:59, 119.95s/it]\u001b[A\n",
      " 20%|██        | 4/20 [07:29<30:43, 115.23s/it]\u001b[A\n",
      " 25%|██▌       | 5/20 [09:13<27:59, 111.93s/it]\u001b[A\n",
      " 30%|███       | 6/20 [10:57<25:35, 109.67s/it]\u001b[A\n",
      " 35%|███▌      | 7/20 [12:41<23:22, 107.85s/it]\u001b[A\n",
      " 40%|████      | 8/20 [14:26<21:23, 106.99s/it]\u001b[A\n",
      " 45%|████▌     | 9/20 [16:10<19:27, 106.18s/it]\u001b[A\n",
      " 50%|█████     | 10/20 [17:55<17:37, 105.74s/it]\u001b[A\n",
      " 55%|█████▌    | 11/20 [19:39<15:47, 105.31s/it]\u001b[A\n",
      " 60%|██████    | 12/20 [21:24<14:00, 105.09s/it]\u001b[A\n",
      " 65%|██████▌   | 13/20 [23:08<12:14, 104.93s/it]\u001b[A\n",
      " 70%|███████   | 14/20 [24:53<10:28, 104.75s/it]\u001b[A\n",
      " 75%|███████▌  | 15/20 [26:37<08:43, 104.72s/it]\u001b[A\n",
      " 80%|████████  | 16/20 [28:22<06:58, 104.71s/it]\u001b[A\n",
      " 85%|████████▌ | 17/20 [30:06<05:13, 104.56s/it]\u001b[A\n",
      " 90%|█████████ | 18/20 [31:52<03:29, 104.88s/it]\u001b[A\n",
      " 95%|█████████▌| 19/20 [33:36<01:44, 104.79s/it]\u001b[A\n",
      "100%|██████████| 20/20 [35:29<00:00, 107.22s/it]\u001b[A\n",
      " 17%|█▋        | 1/6 [35:29<2:57:28, 2129.77s/it]\n",
      "  0%|          | 0/20 [00:00<?, ?it/s]\u001b[A\n",
      "  5%|▌         | 1/20 [02:12<42:06, 132.97s/it]\u001b[A\n",
      " 10%|█         | 2/20 [03:57<37:21, 124.51s/it]\u001b[A\n",
      " 15%|█▌        | 3/20 [05:44<33:47, 119.27s/it]\u001b[A\n",
      " 20%|██        | 4/20 [07:29<30:38, 114.89s/it]\u001b[A\n",
      " 25%|██▌       | 5/20 [09:15<28:02, 112.18s/it]\u001b[A\n",
      " 30%|███       | 6/20 [11:00<25:39, 109.96s/it]\u001b[A\n",
      " 35%|███▌      | 7/20 [12:44<23:28, 108.31s/it]\u001b[A\n",
      " 40%|████      | 8/20 [14:28<21:24, 107.03s/it]\u001b[A\n",
      " 45%|████▌     | 9/20 [16:13<19:30, 106.40s/it]\u001b[A\n",
      " 50%|█████     | 10/20 [17:59<17:43, 106.36s/it]\u001b[A\n",
      " 55%|█████▌    | 11/20 [19:44<15:51, 105.78s/it]\u001b[A\n",
      " 60%|██████    | 12/20 [21:28<14:02, 105.35s/it]\u001b[A\n",
      " 65%|██████▌   | 13/20 [23:12<12:14, 104.91s/it]\u001b[A\n",
      " 70%|███████   | 14/20 [24:56<10:28, 104.80s/it]\u001b[A\n",
      " 75%|███████▌  | 15/20 [26:40<08:42, 104.56s/it]\u001b[A\n",
      " 80%|████████  | 16/20 [28:25<06:58, 104.68s/it]\u001b[A\n",
      " 85%|████████▌ | 17/20 [30:12<05:15, 105.29s/it]\u001b[A\n",
      " 90%|█████████ | 18/20 [31:58<03:30, 105.33s/it]\u001b[A\n",
      " 95%|█████████▌| 19/20 [33:43<01:45, 105.31s/it]\u001b[A\n",
      "100%|██████████| 20/20 [35:28<00:00, 105.36s/it]\u001b[A\n",
      " 33%|███▎      | 2/6 [1:10:58<2:21:57, 2129.49s/it]\n",
      "  0%|          | 0/20 [00:00<?, ?it/s]\u001b[A\n",
      "  5%|▌         | 1/20 [02:13<42:23, 133.89s/it]\u001b[A\n",
      " 10%|█         | 2/20 [03:57<37:25, 124.77s/it]\u001b[A\n",
      " 15%|█▌        | 3/20 [05:41<33:33, 118.47s/it]\u001b[A\n",
      " 20%|██        | 4/20 [07:25<30:29, 114.37s/it]\u001b[A\n",
      " 25%|██▌       | 5/20 [09:15<28:11, 112.79s/it]\u001b[A\n",
      " 30%|███       | 6/20 [11:03<25:59, 111.36s/it]\u001b[A\n",
      " 35%|███▌      | 7/20 [12:52<24:01, 110.90s/it]\u001b[A\n",
      " 40%|████      | 8/20 [14:41<22:01, 110.16s/it]\u001b[A\n",
      " 45%|████▌     | 9/20 [16:30<20:07, 109.82s/it]\u001b[A\n",
      " 50%|█████     | 10/20 [18:13<17:58, 107.87s/it]\u001b[A\n",
      " 55%|█████▌    | 11/20 [19:58<16:01, 106.86s/it]\u001b[A\n",
      " 60%|██████    | 12/20 [21:42<14:09, 106.14s/it]\u001b[A\n",
      " 65%|██████▌   | 13/20 [23:25<12:16, 105.27s/it]\u001b[A\n",
      " 70%|███████   | 14/20 [25:11<10:31, 105.27s/it]\u001b[A\n",
      " 75%|███████▌  | 15/20 [26:55<08:44, 104.91s/it]\u001b[A\n",
      " 80%|████████  | 16/20 [28:39<06:59, 104.86s/it]\u001b[A\n",
      " 85%|████████▌ | 17/20 [30:24<05:14, 104.81s/it]\u001b[A\n",
      " 90%|█████████ | 18/20 [32:11<03:30, 105.38s/it]\u001b[A\n",
      " 95%|█████████▌| 19/20 [33:55<01:45, 105.03s/it]\u001b[A\n",
      "100%|██████████| 20/20 [35:40<00:00, 104.99s/it]\u001b[A\n",
      " 50%|█████     | 3/6 [1:46:39<1:46:38, 2132.79s/it]\n",
      "  0%|          | 0/20 [00:00<?, ?it/s]\u001b[A\n",
      "  5%|▌         | 1/20 [02:13<42:16, 133.50s/it]\u001b[A\n",
      " 10%|█         | 2/20 [03:57<37:22, 124.58s/it]\u001b[A\n",
      " 15%|█▌        | 3/20 [05:41<33:34, 118.49s/it]\u001b[A\n",
      " 20%|██        | 4/20 [07:25<30:25, 114.12s/it]\u001b[A\n",
      " 25%|██▌       | 5/20 [09:10<27:48, 111.25s/it]\u001b[A\n",
      " 30%|███       | 6/20 [10:53<25:25, 108.93s/it]\u001b[A\n",
      " 35%|███▌      | 7/20 [12:44<23:45, 109.62s/it]\u001b[A\n",
      " 40%|████      | 8/20 [14:28<21:35, 107.96s/it]\u001b[A\n",
      " 45%|████▌     | 9/20 [16:12<19:34, 106.76s/it]\u001b[A\n",
      " 50%|█████     | 10/20 [17:57<17:39, 106.00s/it]\u001b[A\n",
      " 55%|█████▌    | 11/20 [19:44<15:56, 106.29s/it]\u001b[A\n",
      " 60%|██████    | 12/20 [21:31<14:12, 106.50s/it]\u001b[A\n",
      " 65%|██████▌   | 13/20 [23:17<12:25, 106.53s/it]\u001b[A\n",
      " 70%|███████   | 14/20 [25:04<10:39, 106.63s/it]\u001b[A\n",
      " 75%|███████▌  | 15/20 [26:49<08:50, 106.15s/it]\u001b[A\n",
      " 80%|████████  | 16/20 [28:35<07:04, 106.01s/it]\u001b[A\n",
      " 85%|████████▌ | 17/20 [30:22<05:19, 106.47s/it]\u001b[A\n",
      " 90%|█████████ | 18/20 [32:09<03:33, 106.65s/it]\u001b[A\n",
      " 95%|█████████▌| 19/20 [33:53<01:45, 105.63s/it]\u001b[A\n",
      "100%|██████████| 20/20 [35:38<00:00, 105.67s/it]\u001b[A\n",
      " 67%|██████▋   | 4/6 [2:22:17<1:11:09, 2134.59s/it]\n",
      "  0%|          | 0/20 [00:00<?, ?it/s]\u001b[A\n",
      "  5%|▌         | 1/20 [02:14<42:31, 134.29s/it]\u001b[A\n",
      " 10%|█         | 2/20 [03:57<37:31, 125.06s/it]\u001b[A\n",
      " 15%|█▌        | 3/20 [05:41<33:38, 118.73s/it]\u001b[A\n",
      " 20%|██        | 4/20 [07:26<30:32, 114.52s/it]\u001b[A\n",
      " 25%|██▌       | 5/20 [09:12<27:58, 111.88s/it]\u001b[A\n",
      " 30%|███       | 6/20 [10:57<25:38, 109.88s/it]\u001b[A\n",
      " 35%|███▌      | 7/20 [12:40<23:22, 107.86s/it]\u001b[A\n",
      " 40%|████      | 8/20 [14:27<21:30, 107.52s/it]\u001b[A\n",
      " 45%|████▌     | 9/20 [16:13<19:39, 107.21s/it]\u001b[A\n",
      " 50%|█████     | 10/20 [17:59<17:48, 106.87s/it]\u001b[A\n",
      " 55%|█████▌    | 11/20 [19:45<15:59, 106.58s/it]\u001b[A\n",
      " 60%|██████    | 12/20 [21:31<14:11, 106.46s/it]\u001b[A\n",
      " 65%|██████▌   | 13/20 [23:18<12:24, 106.35s/it]\u001b[A\n",
      " 70%|███████   | 14/20 [25:04<10:38, 106.48s/it]\u001b[A\n",
      " 75%|███████▌  | 15/20 [26:52<08:54, 106.96s/it]\u001b[A\n",
      " 80%|████████  | 16/20 [28:41<07:10, 107.58s/it]\u001b[A\n",
      " 85%|████████▌ | 17/20 [30:29<05:22, 107.63s/it]\u001b[A\n",
      " 90%|█████████ | 18/20 [32:17<03:35, 107.63s/it]\u001b[A\n",
      " 95%|█████████▌| 19/20 [34:02<01:47, 107.03s/it]\u001b[A\n",
      "100%|██████████| 20/20 [35:49<00:00, 106.80s/it]\u001b[A\n",
      " 83%|████████▎ | 5/6 [2:58:07<35:38, 2138.97s/it]  \n",
      "  0%|          | 0/20 [00:00<?, ?it/s]\u001b[A\n",
      "  5%|▌         | 1/20 [02:15<43:02, 135.90s/it]\u001b[A\n",
      " 10%|█         | 2/20 [04:01<38:00, 126.72s/it]\u001b[A\n",
      " 15%|█▌        | 3/20 [05:46<34:05, 120.30s/it]\u001b[A\n",
      " 20%|██        | 4/20 [07:33<31:02, 116.41s/it]\u001b[A\n",
      " 25%|██▌       | 5/20 [09:21<28:24, 113.65s/it]\u001b[A\n",
      " 30%|███       | 6/20 [11:08<26:04, 111.72s/it]\u001b[A\n",
      " 35%|███▌      | 7/20 [12:55<23:56, 110.48s/it]\u001b[A\n",
      " 40%|████      | 8/20 [14:41<21:46, 108.88s/it]\u001b[A\n",
      " 45%|████▌     | 9/20 [16:28<19:51, 108.34s/it]\u001b[A\n",
      " 50%|█████     | 10/20 [18:15<18:01, 108.18s/it]\u001b[A\n",
      " 55%|█████▌    | 11/20 [20:01<16:05, 107.32s/it]\u001b[A\n",
      " 60%|██████    | 12/20 [21:46<14:12, 106.61s/it]\u001b[A\n",
      " 65%|██████▌   | 13/20 [23:31<12:22, 106.09s/it]\u001b[A\n",
      " 70%|███████   | 14/20 [25:15<10:34, 105.74s/it]\u001b[A\n",
      " 75%|███████▌  | 15/20 [27:01<08:48, 105.63s/it]\u001b[A\n",
      " 80%|████████  | 16/20 [28:46<07:01, 105.49s/it]\u001b[A\n",
      " 85%|████████▌ | 17/20 [30:31<05:16, 105.45s/it]\u001b[A\n",
      " 90%|█████████ | 18/20 [32:17<03:30, 105.41s/it]\u001b[A\n",
      " 95%|█████████▌| 19/20 [34:03<01:45, 105.82s/it]\u001b[A\n",
      "100%|██████████| 20/20 [35:50<00:00, 105.91s/it]\u001b[A\n",
      "100%|██████████| 6/6 [3:33:57<00:00, 2142.30s/it]\n"
     ]
    }
   ],
   "source": [
    "data_dir()\n",
    "\n",
    "tvlist=np.arange(0.000,0.030,0.005)        \n",
    "for tv in tqdm(tvlist):    \n",
    "        \n",
    "    w1list= [] \n",
    "    G1tlist= [] \n",
    "    Deltav= [] \n",
    "    flist=[] \n",
    "\n",
    "    for Delah in tqdm(np.arange(0.00, 0.020, 0.001)):\n",
    "        calculation(Delah,0.005,0.005,tv,w1list,G1tlist,Deltav)\n",
    "    \n",
    "    flist=np.array(w1list)/(2*pi)\n",
    "    \n",
    "    np.save('DiagramFsi/{}/{}_omega'.format(timestr,tv),w1list)\n",
    "    np.save('DiagramFsi/{}/{}_frequency'.format(timestr,tv),flist)\n",
    "    np.save('DiagramFsi/{}/{}_weight'.format(timestr,tv),G1tlist)\n",
    "    np.save('DiagramFsi/{}/{}_delta'.format(timestr,tv),Deltav)"
   ]
  }
 ],
 "metadata": {
  "kernelspec": {
   "display_name": "Python 3",
   "language": "python",
   "name": "python3"
  },
  "language_info": {
   "codemirror_mode": {
    "name": "ipython",
    "version": 3
   },
   "file_extension": ".py",
   "mimetype": "text/x-python",
   "name": "python",
   "nbconvert_exporter": "python",
   "pygments_lexer": "ipython3",
   "version": "3.5.2"
  }
 },
 "nbformat": 4,
 "nbformat_minor": 2
}
