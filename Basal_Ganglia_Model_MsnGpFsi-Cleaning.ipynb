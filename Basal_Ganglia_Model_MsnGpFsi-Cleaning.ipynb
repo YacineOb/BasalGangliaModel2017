{
 "cells": [
  {
   "cell_type": "markdown",
   "metadata": {
    "collapsed": true,
    "deletable": true,
    "editable": true
   },
   "source": [
    "# ✔\t - Import modules -"
   ]
  },
  {
   "cell_type": "code",
   "execution_count": 1,
   "metadata": {
    "collapsed": false,
    "deletable": true,
    "editable": true
   },
   "outputs": [],
   "source": [
    "import os, time, random, json\n",
    "import numpy as np\n",
    "import scipy.stats as stats"
   ]
  },
  {
   "cell_type": "code",
   "execution_count": 2,
   "metadata": {
    "collapsed": true
   },
   "outputs": [],
   "source": [
    "from math import exp, cos\n",
    "from tqdm import tqdm"
   ]
  },
  {
   "cell_type": "code",
   "execution_count": 3,
   "metadata": {
    "collapsed": true
   },
   "outputs": [],
   "source": [
    "from matplotlib import pyplot as plt\n",
    "import matplotlib\n",
    "matplotlib.rc('xtick', labelsize=20) \n",
    "matplotlib.rc('ytick', labelsize=20)\n",
    "plt.rcParams[\"axes.labelweight\"] = \"bold\""
   ]
  },
  {
   "cell_type": "markdown",
   "metadata": {
    "deletable": true,
    "editable": true
   },
   "source": [
    "# ✔\t - Function definition -"
   ]
  },
  {
   "cell_type": "markdown",
   "metadata": {
    "collapsed": true,
    "deletable": true,
    "editable": true
   },
   "source": [
    "# ✘ Corrected Input function"
   ]
  },
  {
   "cell_type": "code",
   "execution_count": 4,
   "metadata": {
    "collapsed": true,
    "deletable": true,
    "editable": true
   },
   "outputs": [],
   "source": [
    "## Function returning the corrected Input (x = 0 if x <= 0  or  x = x if x >= 0)\n",
    "\n",
    "def Ic(Input=0):\n",
    "    \n",
    "    if Input <= 0:\n",
    "        return 0\n",
    "    \n",
    "    else:\n",
    "        return (Input)"
   ]
  },
  {
   "cell_type": "markdown",
   "metadata": {
    "collapsed": true,
    "deletable": true,
    "editable": true
   },
   "source": [
    "# ✘ Activity at time t-Delta (delay) function"
   ]
  },
  {
   "cell_type": "code",
   "execution_count": 5,
   "metadata": {
    "collapsed": false,
    "deletable": true,
    "editable": true
   },
   "outputs": [],
   "source": [
    "## function to get the index \"-delay/dt\" in the list representing m(t-Delta)\n",
    "\n",
    "def mdelta(synapse_value, delay, t, dt,i):\n",
    "    \n",
    "    if t < delay:  # if the delay is the time is too small, we take m(t-delta)=0\n",
    "        return 0\n",
    "    \n",
    "    else:  # if the time is above or equal to the delay, we can find the m(t-delta)\n",
    "        return synapse_value[int(-delay / dt)][i]"
   ]
  },
  {
   "cell_type": "markdown",
   "metadata": {
    "deletable": true,
    "editable": true
   },
   "source": [
    "# ✘ Plotting functions (Inputs & activities) and data folder creation function"
   ]
  },
  {
   "cell_type": "code",
   "execution_count": 6,
   "metadata": {
    "collapsed": false,
    "deletable": true,
    "editable": true
   },
   "outputs": [],
   "source": [
    "## plot the external Inputs\n",
    "\n",
    "def Inplot(x,data,title):    \n",
    "    \n",
    "    ind=np.arange(len(data))\n",
    "    fig = plt.figure()\n",
    "    ax = plt.subplot(111)\n",
    "    ax.barh(ind, data, 0.899,color='g')\n",
    "    ax.set_yticks(ind)\n",
    "    r = ax.set_yticklabels(x, ha = 'left',fontsize = 16)\n",
    "    fig.set_size_inches(15, 2, forward=True)\n",
    "    \n",
    "    plt.draw()\n",
    "    yax = ax.get_yaxis()\n",
    "    pad = max(T.label.get_window_extent().width for T in yax.majorTicks)\n",
    "    yax.set_tick_params(pad=pad,)\n",
    "    \n",
    "    ######################################## Annotations on plot #############################################\n",
    "    bbox_props = dict(boxstyle=\"round4,pad=0.3\", fc=\"white\", ec=\"k\", lw=2)\n",
    "    t = ax.text(H['Gpe'], 1, str(H['Gpe']), ha=\"center\", va=\"center\", rotation=5,\n",
    "            size=12,\n",
    "            bbox=bbox_props) \n",
    "    bbox_props = dict(boxstyle=\"round4,pad=0.3\", fc=\"white\", ec=\"k\", lw=2)\n",
    "    t = ax.text(H['Fsi'], 2, str(H['Fsi']), ha=\"center\", va=\"center\",rotation=5,\n",
    "            size=12,\n",
    "            bbox=bbox_props) \n",
    "    bbox_props = dict(boxstyle=\"round4,pad=0.3\", fc=\"white\", ec=\"k\", lw=2)\n",
    "    t = ax.text(H['Msn'], 0, str(H['Msn']), ha=\"center\", va=\"center\",rotation=5,\n",
    "            size=12,\n",
    "            bbox=bbox_props) \n",
    "    ##########################################################################################################\n",
    "    ax=plt.gca()\n",
    "    col_labels=['Fsi','Msn','Gpe']\n",
    "    row_labels=['G (Weight)','Basal Activity (spk/s)']          \n",
    "    table_vals=[[str(G['MsnFsi']),str(G['GpeMsn']),str(G['FsiGpe'])],\n",
    "                [str(M['MsnFsi']),str(M['GpeMsn']),str(M['FsiGpe'])]]\n",
    "    \n",
    "    table=plt.table(cellText=table_vals,\n",
    "        colWidths = [0.4]*3,\n",
    "        rowLabels=row_labels,\n",
    "        colLabels=col_labels,\n",
    "        loc='bottom',bbox=[0.4, -0.65, 0.2, 0.3])\n",
    "    table.set_fontsize(10)\n",
    "\n",
    "    plt.draw()\n",
    "    plt.xlabel('spike per second (spk/s)')\n",
    "    plt.ylabel('structures')\n",
    "    plt.title('External Input value for each structure')"
   ]
  },
  {
   "cell_type": "code",
   "execution_count": 7,
   "metadata": {
    "collapsed": false,
    "deletable": true,
    "editable": true
   },
   "outputs": [],
   "source": [
    "## plot activity and input dynamics\n",
    "\n",
    "def plotting(k,typ, title, xax, yax, element, source,value, v1, v2, v3,On): \n",
    "    \n",
    "    fig = plt.figure(figsize=(15,10))\n",
    "    ax=fig.add_subplot(111) \n",
    "    \n",
    "    for element in source:\n",
    "        value[element]=np.zeros(n_period)\n",
    "        \n",
    "        for t in range(0,n_period):\n",
    "            if On == 0:\n",
    "                value[element][t] = typ[element][t][k]\n",
    "            else:\n",
    "                value[element][t] = np.mean(typ[element][t])     \n",
    "\n",
    "        ax.plot(time_value*1000, value[element], label= str(element),linewidth=2)   \n",
    "        ax.set_title((title + ' {}'.format(k+1)))\n",
    "        ax.set_ylabel(yax), ax.set_xlabel(xax)\n",
    "        ax.legend(bbox_to_anchor=(1.05, 1), loc=2, borderaxespad=0,prop={'size':15})\n",
    "        \n",
    "    \n",
    "    ax=plt.gca()\n",
    "    col_labels=['Fsi','Msn','Gpe']\n",
    "    row_labels=['G (Weight)','Min','Mean','Max','Var','Stand.Dev']          \n",
    "    table_vals=[[str(G['MsnFsi']),str(G['GpeMsn']),str(G['FsiGpe'])],\n",
    "                [np.amin(value[v1]),np.amin(value[v2]),np.amin(value[v3])],\n",
    "                [np.mean(value[v1]),np.mean(value[v2]),np.mean(value[v3])],\n",
    "                [np.amax(value[v1]),np.amax(value[v2]),np.amax(value[v3])],\n",
    "                [np.var(value[v1]),np.var(value[v2]),np.var(value[v3])],\n",
    "                [np.std(value[v1]),np.std(value[v2]),np.std(value[v3])]]\n",
    "    \n",
    "    table=plt.table(cellText=table_vals,\n",
    "        colWidths = [0.8]*5,\n",
    "        rowLabels=row_labels,\n",
    "        colLabels=col_labels,\n",
    "        loc='bottom',bbox=[0.27, -0.4, 0.6, 0.3])\n",
    "    table.set_fontsize(20)"
   ]
  },
  {
   "cell_type": "code",
   "execution_count": 8,
   "metadata": {
    "collapsed": false,
    "deletable": true,
    "editable": true
   },
   "outputs": [],
   "source": [
    "## will create the files needed to store values in CWD/Data\n",
    "\n",
    "def data_dir(dir=\"os.getcwd()\"):            \n",
    "    if not os.path.exists('{}/{}'.format(os.getcwd(),'DataFsi')): # will be used to tag simulation results\n",
    "        directory = os.path.dirname(dir)\n",
    "        os.makedirs('{}/{}'.format(os.getcwd(),'DataFsi'))\n",
    "    if not os.path.exists('DataFsi/{}'.format(timestr)):\n",
    "        os.makedirs('DataFsi/{}'.format(timestr))"
   ]
  },
  {
   "cell_type": "code",
   "execution_count": 9,
   "metadata": {
    "collapsed": false,
    "deletable": true,
    "editable": true
   },
   "outputs": [],
   "source": [
    "## Plot the spectrum and return the plot of 3 populations\n",
    "\n",
    "def Spectrum(): \n",
    "    col=['C0', 'C1', 'C2', 'C3', 'C4', 'C5', 'C6', 'C7', 'C8', 'C9']\n",
    "    FourNo = dict()\n",
    "    fourier= dict()\n",
    "    freq=dict()\n",
    "#=========================================================================================\n",
    "\n",
    "    fig, axes = plt.subplots(1, 3, figsize=(30, 9))\n",
    "\n",
    "    i=0\n",
    "    for con in connections:\n",
    "        FourNo[con]=Mean[con] - np.mean(Mean[con])\n",
    "#=========================================================================================\n",
    "\n",
    "#Calculating FFT of signal\n",
    "        fourier[con]=np.fft.fft(FourNo[con])/len(FourNo[con])\n",
    "        freq[con]=np.fft.fftfreq(fourier[con].shape[0],dt)\n",
    "\n",
    "        toc=np.argmax(abs(fourier[con]))\n",
    "    \n",
    "#Plotting FFT of signal\n",
    "        axes[i].plot(freq[con],abs(fourier[con]),label=str(abs(freq[con][toc]))+' Hz',\n",
    "                 color=col[i+2],linewidth=3)\n",
    "        axes[i].set_title(con,fontsize=20)\n",
    "        axes[i].set_xlabel('spectrum range (Hz)', fontsize=18)\n",
    "        axes[i].set_xlim(0,50)\n",
    "        axes[i].set_ylabel('Amplitude (normalized)',fontsize=18)\n",
    "        axes[i].legend(bbox_to_anchor=(0.95, 0.95), loc=1, borderaxespad=0. , fontsize=20)\n",
    "        i+=1\n",
    "            \n",
    "    plt.savefig('DataFsi/{}/FFT_{}72.png'.format(timestr,'Mean'),dpi=72,bbox_inches='tight')\n",
    "    plt.savefig('DataFsi/{}/FFT_{}150.png'.format(timestr,'Mean'),dpi=150,bbox_inches='tight')\n",
    "    plt.savefig('DataFsi/{}/FFT_{}300.png'.format(timestr,'Mean'),dpi=300,bbox_inches='tight')\n",
    "    plt.show()"
   ]
  },
  {
   "cell_type": "markdown",
   "metadata": {
    "collapsed": true,
    "deletable": true,
    "editable": true
   },
   "source": [
    "# ✔\t - Initial parameters - "
   ]
  },
  {
   "cell_type": "code",
   "execution_count": 10,
   "metadata": {
    "collapsed": true
   },
   "outputs": [],
   "source": [
    "## Initialization of the random generator (reproductibility)\n",
    "\n",
    "w = np.random.randint(1,10)\n",
    "\n",
    "np.random.seed(w)"
   ]
  },
  {
   "cell_type": "code",
   "execution_count": 11,
   "metadata": {
    "collapsed": false,
    "deletable": true,
    "editable": true
   },
   "outputs": [],
   "source": [
    "## Population size (number of neuron)\n",
    "n = 1\n",
    "\n",
    "## Default Time beginning\n",
    "t = 0                                       # (sec)\n",
    "\n",
    "## Default trial duration\n",
    "duration = 1.00                             # (sec)\n",
    "\n",
    "## Default Time resolution\n",
    "dt = 0.0001                                 # 0.00001 (sec)\n",
    "\n",
    "## Period occuring \n",
    "n_period = int(duration / dt) + 1"
   ]
  },
  {
   "cell_type": "code",
   "execution_count": 12,
   "metadata": {
    "collapsed": false,
    "deletable": true,
    "editable": true
   },
   "outputs": [],
   "source": [
    "## create the time array\n",
    "time_value = np.arange(0, duration, dt)     "
   ]
  },
  {
   "cell_type": "code",
   "execution_count": 13,
   "metadata": {
    "collapsed": false,
    "deletable": true,
    "editable": true
   },
   "outputs": [],
   "source": [
    "## creation of dict to store m, dm, J, H and input I values\n",
    "Mean, m, dm, J, H, y,value,I = dict(),dict(), dict(), dict(), dict(), dict(), dict(), dict()"
   ]
  },
  {
   "cell_type": "code",
   "execution_count": 14,
   "metadata": {
    "collapsed": true,
    "deletable": true,
    "editable": true
   },
   "outputs": [],
   "source": [
    "connections = [\"GpeMsn\", \"FsiGpe\", \"MsnFsi\"]\n",
    "structures = [\"Msn\", \"Fsi\", \"Gpe\"]"
   ]
  },
  {
   "cell_type": "code",
   "execution_count": 15,
   "metadata": {
    "collapsed": true
   },
   "outputs": [],
   "source": [
    " ## Fixed point activity:\n",
    "    \n",
    "M = {                     \n",
    "    \"GpeMsn\" :       5,                             # spikes/s\n",
    "    \"MsnFsi\" :       5,                             # spikes/s\n",
    "    \"FsiGpe\" :       20                             # spikes/s\n",
    "}"
   ]
  },
  {
   "cell_type": "code",
   "execution_count": 16,
   "metadata": {
    "collapsed": true
   },
   "outputs": [],
   "source": [
    " ## Weights (connexion pre -> post ; notation: PostPre):\n",
    "    \n",
    "G = {\n",
    "    \"GpeMsn\" :       3.00,\n",
    "    \"FsiGpe\" :       0.50,\n",
    "    \"MsnFsi\" :       2.00,     \n",
    "}"
   ]
  },
  {
   "cell_type": "code",
   "execution_count": 17,
   "metadata": {
    "collapsed": true
   },
   "outputs": [],
   "source": [
    " ## Tau:\n",
    "    \n",
    "tau = {\n",
    "    \"GpeMsn\" :       0.020,                         # time decay constant MSN to GPe : 0.020 (sec)\n",
    "    \"FsiGpe\" :       0.005,                         # time decay constant GPe to FSi : 0.005 (sec)\n",
    "    \"MsnFsi\" :       0.005,                         # time decay constant FSi to MSN : 0.005 (sec)\n",
    "}"
   ]
  },
  {
   "cell_type": "code",
   "execution_count": 18,
   "metadata": {
    "collapsed": true
   },
   "outputs": [],
   "source": [
    " ## Delays:\n",
    "    \n",
    "D = {\n",
    "    \"GpeMsn\" :       0.0070,                        # 7ms: Jaeger & Kita, 2011 (in vivo-rat & monkey)\n",
    "    \"FsiGpe\" :       0.0010,                        # 1ms: Jaeger & Kita, 2011 (in vivo-rat & monkey)\n",
    "    \"MsnFsi\" :       0.0008,                        # 0.8ms: Gittis et al., 2010 (in vitro - mice)\n",
    "}"
   ]
  },
  {
   "cell_type": "code",
   "execution_count": 19,
   "metadata": {
    "collapsed": true
   },
   "outputs": [],
   "source": [
    " ## Connection probability:\n",
    "    \n",
    "C = {\n",
    "    \"GpeMsn\" :       1.00,                          # all-to-all\n",
    "    \"FsiGpe\" :       1.00,\n",
    "    \"MsnFsi\" :       1.00,                          # all-to-all\n",
    "}"
   ]
  },
  {
   "cell_type": "code",
   "execution_count": 20,
   "metadata": {
    "collapsed": false,
    "deletable": true,
    "editable": true
   },
   "outputs": [],
   "source": [
    " ## External Input: calculated and constant during the whole simulation\n",
    "    \n",
    "H = {\n",
    "    \"Msn\" :          M['GpeMsn'] + G['MsnFsi'] * M['MsnFsi'],   \n",
    "    \"Fsi\" :          M['MsnFsi'] + G['FsiGpe'] * M['FsiGpe'],   \n",
    "    \"Gpe\" :          M['FsiGpe'] + G['GpeMsn'] * M['GpeMsn']\n",
    "}"
   ]
  },
  {
   "cell_type": "code",
   "execution_count": 21,
   "metadata": {
    "collapsed": true,
    "deletable": true,
    "editable": true
   },
   "outputs": [],
   "source": [
    " ## Noise (sigma): set the noise from a gaussian distribution\n",
    "    \n",
    "N = {\n",
    "    \"Msn\":H['Msn']/5,                        # set to '0' to eliminate the noise\n",
    "    \"Fsi\":H['Fsi']/5,   \n",
    "    \"Gpe\":H['Gpe']/5\n",
    "}"
   ]
  },
  {
   "cell_type": "code",
   "execution_count": 22,
   "metadata": {
    "collapsed": true,
    "deletable": true,
    "editable": true
   },
   "outputs": [],
   "source": [
    "input_mapping = {\n",
    "    \"Msn\": \"MsnFsi\",\n",
    "    \"Gpe\": \"GpeMsn\",\n",
    "    \"Fsi\": \"FsiGpe\"\n",
    "}\n",
    "\n",
    "activities_mapping = {\n",
    "    \"GpeMsn\": \"Msn\",\n",
    "    \"FsiGpe\": \"Gpe\",\n",
    "    \"MsnFsi\": \"Fsi\"\n",
    "}"
   ]
  },
  {
   "cell_type": "code",
   "execution_count": 23,
   "metadata": {
    "collapsed": false,
    "deletable": true,
    "editable": true
   },
   "outputs": [],
   "source": [
    "## create an array of 'nperiod' array (store value trought time) with n zeroes in\n",
    "\n",
    "for con in connections:\n",
    "    \n",
    "    m[con] = np.zeros((n_period, n))\n",
    "   \n",
    "    y[con] = int(D[con]//dt)\n",
    "    \n",
    "    m[con][0:y[con]] = M[con] #    m[con][0:y[con]:n]?\n",
    "    \n",
    "## create an array composed of     \n",
    "    dm[con] = np.zeros((n_period, n))\n",
    "    \n",
    "## create an array composed of 0 & 1 depending on the probability \"Co\"(max=1=100%)\n",
    "    J[con] = np.random.choice(2, size=(n, n), p=[(1-C[con]),C[con]])"
   ]
  },
  {
   "cell_type": "code",
   "execution_count": 24,
   "metadata": {
    "collapsed": false,
    "deletable": true,
    "editable": true
   },
   "outputs": [],
   "source": [
    " ## Threshold distribution (sigma):\n",
    "    \n",
    "TN = {\n",
    "    \"Msn\": H[\"Msn\"]/1,   \n",
    "    \"Fsi\": 1, #H[\"Fsi\"]/40,   \n",
    "    \"Gpe\": 1 #H[\"Gpe\"]/40\n",
    "}"
   ]
  },
  {
   "cell_type": "code",
   "execution_count": 25,
   "metadata": {
    "collapsed": true,
    "deletable": true,
    "editable": true
   },
   "outputs": [],
   "source": [
    "T = dict()"
   ]
  },
  {
   "cell_type": "code",
   "execution_count": 26,
   "metadata": {
    "collapsed": false,
    "deletable": true,
    "editable": true
   },
   "outputs": [],
   "source": [
    "## inputs array generation: noises picked (N=sigma)\n",
    "\n",
    "for stc in structures:\n",
    "    \n",
    "    T[stc] = np.random.normal(0, TN[stc] , size=n)\n",
    "    \n",
    "    I[stc] = np.random.normal(0, N[stc], size=(n_period, n)) + H[stc] + T[stc]"
   ]
  },
  {
   "cell_type": "markdown",
   "metadata": {
    "collapsed": true,
    "deletable": true,
    "editable": true
   },
   "source": [
    "# ✔\t - Simulation Core -"
   ]
  },
  {
   "cell_type": "code",
   "execution_count": 27,
   "metadata": {
    "collapsed": false,
    "deletable": true,
    "editable": true
   },
   "outputs": [
    {
     "name": "stderr",
     "output_type": "stream",
     "text": [
      " 96%|█████████▌| 9623/10000 [00:00<00:00, 23878.80it/s]\n"
     ]
    },
    {
     "ename": "IndexError",
     "evalue": "index 10000 is out of bounds for axis 0 with size 10000",
     "output_type": "error",
     "traceback": [
      "\u001b[0;31m---------------------------------------------------------------------------\u001b[0m",
      "\u001b[0;31mIndexError\u001b[0m                                Traceback (most recent call last)",
      "\u001b[0;32m<ipython-input-27-72a74c46f5cf>\u001b[0m in \u001b[0;36m<module>\u001b[0;34m()\u001b[0m\n\u001b[1;32m     10\u001b[0m \u001b[0;34m\u001b[0m\u001b[0m\n\u001b[1;32m     11\u001b[0m             I[stc][t][i] += - np.sum(\n\u001b[0;32m---> 12\u001b[0;31m                 \u001b[0mG\u001b[0m\u001b[0;34m[\u001b[0m\u001b[0mcon\u001b[0m\u001b[0;34m]\u001b[0m\u001b[0;34m*\u001b[0m \u001b[0mmdelta\u001b[0m\u001b[0;34m(\u001b[0m\u001b[0mm\u001b[0m\u001b[0;34m[\u001b[0m\u001b[0mcon\u001b[0m\u001b[0;34m]\u001b[0m\u001b[0;34m[\u001b[0m\u001b[0;34m:\u001b[0m\u001b[0mt\u001b[0m \u001b[0;34m+\u001b[0m \u001b[0;36m1\u001b[0m\u001b[0;34m]\u001b[0m\u001b[0;34m,\u001b[0m \u001b[0mD\u001b[0m\u001b[0;34m[\u001b[0m\u001b[0mcon\u001b[0m\u001b[0;34m]\u001b[0m\u001b[0;34m,\u001b[0m \u001b[0mtime_value\u001b[0m\u001b[0;34m[\u001b[0m\u001b[0mt\u001b[0m\u001b[0;34m]\u001b[0m\u001b[0;34m,\u001b[0m \u001b[0mdt\u001b[0m\u001b[0;34m,\u001b[0m\u001b[0mi\u001b[0m\u001b[0;34m)\u001b[0m \u001b[0;34m*\u001b[0m\u001b[0mJ\u001b[0m\u001b[0;34m[\u001b[0m\u001b[0mcon\u001b[0m\u001b[0;34m]\u001b[0m\u001b[0;34m[\u001b[0m\u001b[0mi\u001b[0m\u001b[0;34m]\u001b[0m\u001b[0;34m\u001b[0m\u001b[0m\n\u001b[0m\u001b[1;32m     13\u001b[0m                 )/(np.sum(J[con][i]))  \n\u001b[1;32m     14\u001b[0m \u001b[0;34m\u001b[0m\u001b[0m\n",
      "\u001b[0;31mIndexError\u001b[0m: index 10000 is out of bounds for axis 0 with size 10000"
     ]
    }
   ],
   "source": [
    "for t in tqdm(range(1, n_period)):    \n",
    "\n",
    "## Update of Inputs ================================================================================ \n",
    "    \n",
    "    for stc in structures:\n",
    "        \n",
    "        for i in range(n):\n",
    "            \n",
    "            con = input_mapping[stc]               # multiplication by the probability of connexion below with n\n",
    "            \n",
    "            I[stc][t][i] += - np.sum(\n",
    "                G[con]* mdelta(m[con][:t + 1], D[con], time_value[t], dt,i) *J[con][i]\n",
    "                )/(np.sum(J[con][i]))  \n",
    "\n",
    "## Update of Activities ============================================================================ \n",
    "\n",
    "    for con in connections:          \n",
    "        \n",
    "        for i in range(n):\n",
    "            \n",
    "            stc = activities_mapping[con]\n",
    "            \n",
    "            dm[con][t][i] = dt * (- m[con][t][i] + Ic(I[stc][t][i])) / tau[con]\n",
    "            \n",
    "        if t < n_period-1:                             # we can't add last value of dm to the last value of m\n",
    "            \n",
    "            m[con][t+1]=m[con][t]+dm[con][t]\n",
    "            \n",
    "        else:\n",
    "            continue\n",
    "            "
   ]
  },
  {
   "cell_type": "markdown",
   "metadata": {
    "collapsed": true,
    "deletable": true,
    "editable": true
   },
   "source": [
    "# ✔\t - Result Plots & Save data -"
   ]
  },
  {
   "cell_type": "code",
   "execution_count": null,
   "metadata": {
    "collapsed": true,
    "deletable": true,
    "editable": true
   },
   "outputs": [],
   "source": [
    "timestr = time.strftime(\"%Y-%m-%d-%H:%M:%S\") # give the date and time used to tag simulation results\n",
    "data_dir()  # creating the 'Data' directory on CWD and the directory (with date & time) to store the results\n",
    "\n",
    "for stc in structures:  # save the Input array (npy format) for each neuron population in \"structures\"\n",
    "    np.save('DataFsi/{}/{}_Inputs'.format(timestr, stc), I[stc])\n",
    "    \n",
    "for con in connections: # save the Activity array (npy format) for each neuron population in \"connections\"\n",
    "    np.save('DataFsi/{}/{}_Activities'.format(timestr, con), m[con])\n",
    "\n",
    "datax={'Weight':G,'Delay':D,'tau':tau,'Noise':N,'BasalActivity':M,'ConnexProba':C,  # make one dict with all parameters used \n",
    "       'ExternalInput':H,'Neuron_number':n,'time_trial':t,'duration':duration,'step':dt}\n",
    "\n",
    "with open('DataFsi/{}/0_Parameters.json'.format(timestr),'w') as f: # save the parameters used during the simulation\n",
    "            json.dump(datax, f) "
   ]
  },
  {
   "cell_type": "code",
   "execution_count": null,
   "metadata": {
    "collapsed": false,
    "deletable": true,
    "editable": true
   },
   "outputs": [],
   "source": [
    "## Plotting EXTERNAL INPUTS\n",
    "Inplot(structures,[H['Msn'],H['Gpe'],H['Fsi']],'External Input value for each structure')\n",
    "plt.savefig('DataFsi/{}/0_H.png'.format(timestr),dpi=50,bbox_inches='tight')\n",
    "plt.show()"
   ]
  },
  {
   "cell_type": "code",
   "execution_count": null,
   "metadata": {
    "collapsed": true,
    "deletable": true,
    "editable": true
   },
   "outputs": [],
   "source": [
    "## Plotting INPUTS over time\n",
    "for k in range(0,n):\n",
    "    plotting(k,I,'Input over time: Neuron','Time (ms)','Input (spk/s)',stc,structures,value,'Fsi','Msn','Gpe',On=0)\n",
    "    plt.savefig('DataFsi/{}/In{}.png'.format(timestr,k+1),dpi=300,bbox_inches='tight')\n",
    "    plt.close()\n",
    "    plt.show()"
   ]
  },
  {
   "cell_type": "code",
   "execution_count": null,
   "metadata": {
    "collapsed": false,
    "deletable": true,
    "editable": true
   },
   "outputs": [],
   "source": [
    "## Plotting ACTIVITIES over time\n",
    "for k in range(0,n):\n",
    "    plotting(k,m,'Activity over time: Neuron','Time (ms)','Activity (spk/s)',con,connections,value,'MsnFsi','GpeMsn','FsiGpe',On=0)\n",
    "    plt.savefig('DataFsi/{}/Mn{}.png'.format(timestr,k+1),dpi=300,bbox_inches='tight')\n",
    "    plt.show()\n",
    "    plt.close()"
   ]
  },
  {
   "cell_type": "code",
   "execution_count": null,
   "metadata": {
    "collapsed": false,
    "deletable": true,
    "editable": true
   },
   "outputs": [],
   "source": [
    "## Plotting one neuron randomly\n",
    "k=np.random.randint(0,n)\n",
    "plotting(k,m,'Activity ONE RANDOM Neuron','Time (ms)','Activity (spk/s)',con,connections,value,'MsnFsi','GpeMsn','FsiGpe',On=0)\n",
    "plt.savefig('DataFsi/{}/Mn{}.png'.format(timestr,k+1),dpi=300,bbox_inches='tight')\n",
    "plt.show()"
   ]
  },
  {
   "cell_type": "code",
   "execution_count": null,
   "metadata": {
    "collapsed": false,
    "deletable": true,
    "editable": true
   },
   "outputs": [],
   "source": [
    "fig = plt.figure(figsize=(15,10))\n",
    "\n",
    "\n",
    "ax1 = plt.subplot(311)\n",
    "ax1.set_title('RANDOM NEURON',fontsize=30)\n",
    "#ax1.set_ylim(0,0.5)\n",
    "ax1.set_ylabel('MSN',fontsize=20,fontweight='bold')\n",
    "plt.plot(time_value*1000, value['GpeMsn'],'g',linewidth=2)\n",
    "plt.setp(ax1.get_xticklabels(), visible=False)\n",
    "\n",
    "    # share x only\n",
    "ax2 = plt.subplot(312, sharex=ax1)\n",
    "ax2.set_ylabel('Gpe',fontsize=20,fontweight='bold')\n",
    "plt.plot(time_value*1000, value['FsiGpe'],'r',linewidth=2)\n",
    "\n",
    "# make these tick labels invisible\n",
    "plt.setp(ax2.get_xticklabels(), visible=False)\n",
    "\n",
    "# share x and y\n",
    "ax3 = plt.subplot(313, sharex=ax1)\n",
    "#ax3.set_ylim(2,5)\n",
    "ax3.set_ylabel('FSI',fontsize=20,fontweight='bold')\n",
    "ax3.set_xlabel('Time (ms)',fontsize=25,fontweight='bold')\n",
    "plt.plot(time_value*1000, value['MsnFsi'],'b',linewidth=2)\n",
    "\n",
    "fig.text(0.020, 0.5, \"Activities (Spikes/s)\", rotation=\"vertical\", va=\"center\",fontsize=20,fontweight='bold')\n",
    "   \n",
    "plt.savefig('DataFsi/{}/randnActivity72.png'.format(timestr),dpi=72,bbox_inches='tight')\n",
    "plt.savefig('DataFsi/{}/randnActivity150.png'.format(timestr),dpi=150,bbox_inches='tight')\n",
    "plt.savefig('DataFsi/{}/randnActivity300.png'.format(timestr),dpi=300,bbox_inches='tight')\n",
    "plt.show()"
   ]
  },
  {
   "cell_type": "markdown",
   "metadata": {
    "deletable": true,
    "editable": true
   },
   "source": [
    "# ✔\t - Mean firing rate plotting - "
   ]
  },
  {
   "cell_type": "code",
   "execution_count": null,
   "metadata": {
    "collapsed": false,
    "deletable": true,
    "editable": true
   },
   "outputs": [],
   "source": [
    "## Ploting the mean activity of the n neuron\n",
    "plotting(n-1, m, 'Mean activities of all neuron(s) :  ', 'Time (ms)','Activity (spk/s)', con, connections,Mean, 'MsnFsi', 'GpeMsn','FsiGpe',On=1)\n",
    "plt.savefig('DataFsi/{}/{}_Mean_Activities72.png'.format(timestr,'0'),dpi=72,bbox_inches='tight')\n",
    "plt.savefig('DataFsi/{}/{}_Mean_Activities150.png'.format(timestr,'0'),dpi=150,bbox_inches='tight')\n",
    "plt.savefig('DataFsi/{}/{}_Mean_Activities300.png'.format(timestr,'0'),dpi=300,bbox_inches='tight')\n",
    "plt.show()"
   ]
  },
  {
   "cell_type": "code",
   "execution_count": null,
   "metadata": {
    "collapsed": false,
    "deletable": true,
    "editable": true
   },
   "outputs": [],
   "source": [
    "fig = plt.figure(figsize=(15,10))\n",
    "\n",
    "\n",
    "ax1 = plt.subplot(311)\n",
    "ax1.set_title('Mean Activities',fontsize=30)\n",
    "#ax1.set_ylim(19.5,20.3)\n",
    "ax1.set_ylabel('MSN',fontsize=20,fontweight='bold')\n",
    "plt.plot(time_value*1000, Mean['GpeMsn'],'g',linewidth=2)\n",
    "plt.setp(ax1.get_xticklabels(), visible=False)\n",
    "\n",
    "    # share x only\n",
    "ax2 = plt.subplot(312, sharex=ax1)\n",
    "#ax2.set_ylim(2,6.2)\n",
    "ax2.set_ylabel('FSI',fontsize=20,fontweight='bold')\n",
    "plt.plot(time_value*1000, Mean['MsnFsi'],'b',linewidth=2)\n",
    "\n",
    "# make these tick labels invisible\n",
    "plt.setp(ax2.get_xticklabels(), visible=False)\n",
    "\n",
    "# share x and y\n",
    "ax3 = plt.subplot(313, sharex=ax1)\n",
    "#ax3.set_ylim(19.2,20.5)\n",
    "ax3.set_ylabel('GPe',fontsize=20,fontweight='bold')\n",
    "ax3.set_xlabel('Time (ms)',fontsize=25,fontweight='bold')\n",
    "plt.plot(time_value*1000, Mean['FsiGpe'],'r',linewidth=2)\n",
    "\n",
    "fig.text(0.020, 0.5, \"Activities (Spikes/s)\", rotation=\"vertical\", va=\"center\",fontsize=20,fontweight='bold')\n",
    "   \n",
    "plt.savefig('DataFsi/{}/MeanActivity72.png'.format(timestr),dpi=72,bbox_inches='tight')\n",
    "plt.savefig('DataFsi/{}/MeanActivity150.png'.format(timestr),dpi=150,bbox_inches='tight')\n",
    "plt.savefig('DataFsi/{}/MeanActivity300.png'.format(timestr),dpi=300,bbox_inches='tight')\n",
    "plt.show()"
   ]
  },
  {
   "cell_type": "markdown",
   "metadata": {
    "deletable": true,
    "editable": true
   },
   "source": [
    "# ✔\t -  Fourier transform (DFT): Spectrum analysis"
   ]
  },
  {
   "cell_type": "code",
   "execution_count": null,
   "metadata": {
    "collapsed": false,
    "deletable": true,
    "editable": true
   },
   "outputs": [],
   "source": [
    "Spectrum()"
   ]
  },
  {
   "cell_type": "markdown",
   "metadata": {
    "deletable": true,
    "editable": true
   },
   "source": [
    "# ✔\t -  Population analysis"
   ]
  },
  {
   "cell_type": "code",
   "execution_count": null,
   "metadata": {
    "collapsed": false,
    "deletable": true,
    "editable": true
   },
   "outputs": [],
   "source": [
    "moyFsiGpe=[]\n",
    "moyGpeMsn=[]\n",
    "moyMsnFsi=[]\n",
    "\n",
    "supmoyFG=[]\n",
    "supmoyGM=[]\n",
    "supmoyMF=[]\n",
    "\n",
    "for k in tqdm(np.arange(0,n,1)): \n",
    "    moyFsiGpe=[]\n",
    "    moyGpeMsn=[]\n",
    "    moyMsnFsi=[]\n",
    "    for t in range(0,n_period):\n",
    "        moyFsiGpe.append(m['FsiGpe'][t][k])\n",
    "        moyGpeMsn.append(m['GpeMsn'][t][k])\n",
    "        moyMsnFsi.append(m['MsnFsi'][t][k])\n",
    "\n",
    "    supmoyFG.append(np.mean(moyFsiGpe))\n",
    "    supmoyGM.append(np.mean(moyGpeMsn))\n",
    "    supmoyMF.append(np.mean(moyMsnFsi))"
   ]
  },
  {
   "cell_type": "code",
   "execution_count": null,
   "metadata": {
    "collapsed": false,
    "deletable": true,
    "editable": true
   },
   "outputs": [],
   "source": [
    "## Plotting population distribution analysis\n",
    "\n",
    "fig, axes = plt.subplots(1, 3, figsize=(18, 5))                # create 1x3 plot + set size\n",
    "fig.suptitle(\"Population distribution\",y=1.05, fontsize=20)    # set global title\n",
    "\n",
    "\n",
    "# 1st Plot ========================================================================\n",
    "axes[0].hist(supmoyFG,normed=True,edgecolor='black',color ='red', hatch = '/')\n",
    "axes[0].set_title(\"GPe\",fontsize=25,fontweight='bold')\n",
    "axes[0].set_xlabel(\"Activities\",fontsize=10)\n",
    "axes[0].set_ylabel('Probability density',fontsize=10)\n",
    "\n",
    "# 2nd Plot ========================================================================\n",
    "axes[1].hist(supmoyMF,normed=True,edgecolor='black',color ='cyan', hatch = '/')  \n",
    "axes[1].set_title(\"FSI\",fontsize=25,fontweight='bold')\n",
    "axes[1].set_xlabel(\"Activities\",fontsize=10)\n",
    "axes[1].set_ylabel('Probability density',fontsize=10)\n",
    "\n",
    "# 3rd Plot ========================================================================    \n",
    "axes[2].hist(supmoyGM,normed=True,edgecolor='black',color ='green', hatch = '/')\n",
    "axes[2].set_title(\"MSN\",fontsize=25,fontweight='bold')\n",
    "axes[2].set_xlabel(\"Activities\",fontsize=10)\n",
    "axes[2].set_ylabel('Probability density',fontsize=10)\n",
    "\n",
    "\n",
    "plt.savefig('DataFsi/{}/Dsitribution.png'.format(timestr),dpi=72,bbox_inches='tight') # save fig with fixed DPi\n",
    "plt.show()"
   ]
  }
 ],
 "metadata": {
  "kernelspec": {
   "display_name": "Python 3",
   "language": "python",
   "name": "python3"
  }
 },
 "nbformat": 4,
 "nbformat_minor": 2
}
