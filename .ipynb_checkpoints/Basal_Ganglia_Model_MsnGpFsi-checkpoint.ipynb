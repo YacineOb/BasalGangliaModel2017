{
 "cells": [
  {
   "cell_type": "markdown",
   "metadata": {
    "deletable": true,
    "editable": true
   },
   "source": [
    "# Import modules"
   ]
  },
  {
   "cell_type": "code",
   "execution_count": 1,
   "metadata": {
    "collapsed": false,
    "deletable": true,
    "editable": true
   },
   "outputs": [],
   "source": [
    "# -*- coding: utf-8 -*-\n",
    "import numpy\n",
    "import random\n",
    "from matplotlib import pyplot as plt\n",
    "from math import exp\n",
    "%matplotlib inline"
   ]
  },
  {
   "cell_type": "markdown",
   "metadata": {
    "deletable": true,
    "editable": true
   },
   "source": [
    "# Initial parameters"
   ]
  },
  {
   "cell_type": "code",
   "execution_count": 2,
   "metadata": {
    "collapsed": false,
    "deletable": true,
    "editable": true
   },
   "outputs": [],
   "source": [
    "# Population size\n",
    "n = 1                           \n",
    "\n",
    "# Default Time beginning (second)\n",
    "t=0\n",
    "\n",
    "# Default trial duration (second)\n",
    "duration = 1.000 \n",
    "\n",
    "# Default Time resolution (second)\n",
    "dt = 0.0001\n",
    " \n",
    "# Thresholds(mV?)___________________________________________SEE PAPERS\n",
    "Msn_h = -42.00             \n",
    "Fsi_h = -45.00                 \n",
    "Gp_h  = -42.00     \n",
    "\n",
    "\n",
    "# Weights______________________________________________SEE PAPERS\n",
    "GpMsn_G  = 1.00                               \n",
    "MsnFsi_G = 3.00                             \n",
    "FsiGp_G  = 1.00                          \n",
    "\n",
    "\n",
    "# Time constants (second)______________________________SEE PAPERS\n",
    "GpMsn_tau  = 0.012    # 0.75ms(Czubayko and Plenz, 2002; Koos et al., 2004; Gittis et al., 2010)\n",
    "MsnFsi_tau = 0.008    # 0.25ms(Gittis et al. 2010)\n",
    "FsiGp_tau  = 0.014    # UNKNOWN : 14ms from thesis\n",
    "\n",
    "\n",
    "# Delays (second)______________________________________SEE PAPERS\n",
    "GpMsn_D  = 0.0070     # 6.7ms (Czubayko and Plenz, 2002; Koos et al., 2004; Gittis et al., 2010)\n",
    "MsnFsi_D = 0.0045     # 3.6ms (Gittis et al., 2010)\n",
    "FsiGp_D  = 0.0015     # UNKNOWN\n"
   ]
  },
  {
   "cell_type": "code",
   "execution_count": 3,
   "metadata": {
    "collapsed": true,
    "deletable": true,
    "editable": true
   },
   "outputs": [],
   "source": [
    "#Noise level (%)______________________________________SEE PAPERS\n",
    "#GpMsn_N   =   0.030 \n",
    "#MsnFsi_N  =   0.005\n",
    "#FsiGp_N   =   0.002"
   ]
  },
  {
   "cell_type": "code",
   "execution_count": 4,
   "metadata": {
    "collapsed": true,
    "deletable": true,
    "editable": true
   },
   "outputs": [],
   "source": [
    "# inputs\n",
    "Msn_I = 0\n",
    "Fsi_I = 0\n",
    "Gp_I  = 0\n",
    "\n",
    "# Activities at time t:\n",
    "GpMsn_m  = 0\n",
    "MsnFsi_m = 0\n",
    "FsiGp_m  = 0\n",
    "\n",
    "# Activities at dt\n",
    "GpMsn_dm  = 0\n",
    "MsnFsi_dm = 0\n",
    "FsiGp_dm  = 0\n",
    "\n",
    "# Connectivity J\n",
    "GpMsn_J  = 1\n",
    "MsnFsi_J = 1\n",
    "FsiGp_J  = 1\n",
    "\n",
    "# Initialization of the random generator (reproductibility !)\n",
    "numpy.random.seed(0)"
   ]
  },
  {
   "cell_type": "markdown",
   "metadata": {
    "deletable": true,
    "editable": true
   },
   "source": [
    "# Noise Function @"
   ]
  },
  {
   "cell_type": "code",
   "execution_count": 5,
   "metadata": {
    "collapsed": true,
    "deletable": true,
    "editable": true
   },
   "outputs": [],
   "source": [
    "#White Gaussian Noise\n",
    "def WGnoise():\n",
    "    \"\"\"A gaussian generator: give a number with a mean=0 and sigma=1\"\"\"\n",
    "    \n",
    "    n = numpy.random.normal(0,1)\n",
    "    return n"
   ]
  },
  {
   "cell_type": "code",
   "execution_count": 6,
   "metadata": {
    "collapsed": false,
    "deletable": true,
    "editable": true
   },
   "outputs": [],
   "source": [
    "def noise(Z, level):    #Z = size of the population\n",
    "    Z = (numpy.random.uniform(-level/2,level/2,Z))*Z\n",
    "    return Z"
   ]
  },
  {
   "cell_type": "markdown",
   "metadata": {
    "collapsed": true,
    "deletable": true,
    "editable": true
   },
   "source": [
    "# Corrected Input function @"
   ]
  },
  {
   "cell_type": "code",
   "execution_count": 7,
   "metadata": {
    "collapsed": false,
    "deletable": true,
    "editable": true
   },
   "outputs": [],
   "source": [
    "#Function returning the corrected Input\n",
    "def Ic(Input=0,threshold=0):\n",
    "    \"\"\"Give the corrected input: 0 if the\"\"\"\n",
    "    \n",
    "    if Input - threshold <= 0:\n",
    "        return 0\n",
    "    else:\n",
    "        return (Input - threshold)"
   ]
  },
  {
   "cell_type": "markdown",
   "metadata": {
    "deletable": true,
    "editable": true
   },
   "source": [
    "# Activity at time t-Delta (delay) function @"
   ]
  },
  {
   "cell_type": "code",
   "execution_count": 8,
   "metadata": {
    "collapsed": true,
    "deletable": true,
    "editable": true
   },
   "outputs": [],
   "source": [
    "# function to get the index \"-delay/dt\" in the list representing m(t-Delta) \n",
    "m = 0\n",
    "def mdelta(synapse_value,delay):\n",
    "    \"\"\"give back the value corresponding to the activity at a time t-delay\"\"\"\n",
    "    \n",
    "    if t < delay:                # if the delay is the time is too small, we take m(t-delta)=0\n",
    "        m = 0\n",
    "    elif t >= delay:             # if the time is above or equal to the delay, we can find the m(t-delta)\n",
    "        m = synapse_value[int(-delay/dt)]   \n",
    "    return m"
   ]
  },
  {
   "cell_type": "markdown",
   "metadata": {
    "deletable": true,
    "editable": true
   },
   "source": [
    "#            ================= Simulation Core ================="
   ]
  },
  {
   "cell_type": "code",
   "execution_count": 9,
   "metadata": {
    "collapsed": false,
    "deletable": true,
    "editable": true
   },
   "outputs": [],
   "source": [
    "it = 0   #Number of iteration (with step dt) : a simple iteration counter\n",
    "\n",
    "time_value = [0] #we put in a list every time to retrieve them in a gradual order\n",
    "\n",
    "#we put in a list every value of activity to retrieve them in a time order; easy way to substract the delay\n",
    "GpMsn_value  = [0] \n",
    "MsnFsi_value = [0]\n",
    "FsiGp_value  = [0]"
   ]
  },
  {
   "cell_type": "code",
   "execution_count": 10,
   "metadata": {
    "collapsed": false,
    "deletable": true,
    "editable": true
   },
   "outputs": [],
   "source": [
    "while t < duration:    # when the time is strictly under 1 seconde\n",
    "    \n",
    "    t = t+dt           #for each iteration, add (the step) dt to the time\n",
    "    it += 1            #for each iteration, add 1 to the iteration counter\n",
    "    \n",
    "# Stock activity & time :for plotting    \n",
    "    \n",
    "    time_value.append(t)     #command to add every time used in a list\n",
    "\n",
    "    GpMsn_value.append(GpMsn_m) #command to add all activities of each population in a list \n",
    "    MsnFsi_value.append(MsnFsi_m) #respectively ; after each iteration\n",
    "    FsiGp_value.append(FsiGp_m)\n",
    "    \n",
    "    \n",
    "    GpMsn_mdelta = mdelta(GpMsn_value,GpMsn_D)\n",
    "    MsnFsi_mdelta = mdelta(MsnFsi_value,MsnFsi_D)\n",
    "    FsiGp_mdelta = mdelta(FsiGp_value,FsiGp_D)\n",
    "\n",
    "    \n",
    "    GpMsn_m += GpMsn_dm    # we add the activity (dm) to the global activity (m),\n",
    "    MsnFsi_m += MsnFsi_dm    # after a step dt ; for all population\n",
    "    FsiGp_m += FsiGp_dm    #stored in the list (\"PopulationNames\"_value)\n",
    "\n",
    "    \n",
    "    \n",
    "    \n",
    "    # ADD recurent connexion\n",
    "    \n",
    "#Update of inputs                                                     + external input if needed\n",
    "    Msn_I = - MsnFsi_G * MsnFsi_J * MsnFsi_mdelta + WGnoise() #+ Msn_I        #White gaussian Noise\n",
    "    Fsi_I = - FsiGp_G * FsiGp_J * FsiGp_mdelta + WGnoise()    #+ Fsi_I\n",
    "    Gp_I  = - GpMsn_G * GpMsn_J * GpMsn_mdelta + WGnoise()    #+ Gp_I    \n",
    "\n",
    "#Update of activities\n",
    "    GpMsn_dm  = dt * ( -GpMsn_m + Ic(Msn_I,Msn_h) ) / GpMsn_tau # no noise for the moment \n",
    "    MsnFsi_dm = dt * ( -MsnFsi_m + Ic(Fsi_I,Fsi_h ) ) / MsnFsi_tau  \n",
    "    FsiGp_dm  = dt * ( -FsiGp_m + Ic(Gp_I,Gp_h ) ) / FsiGp_tau  \n",
    "    "
   ]
  },
  {
   "cell_type": "markdown",
   "metadata": {
    "deletable": true,
    "editable": true
   },
   "source": [
    "# Plotting results"
   ]
  },
  {
   "cell_type": "code",
   "execution_count": 11,
   "metadata": {
    "collapsed": false,
    "deletable": true,
    "editable": true
   },
   "outputs": [
    {
     "data": {
      "image/png": "[encoded data removed]",
      "text/plain": [
       "<matplotlib.figure.Figure at 0x7fb8c2efb4e0>"
      ]
     },
     "metadata": {},
     "output_type": "display_data"
    }
   ],
   "source": [
    "plt.plot(time_value,GpMsn_value,label='MSN')\n",
    "plt.plot(time_value,MsnFsi_value,label='FSI')\n",
    "plt.plot(time_value,FsiGp_value,label='GP')\n",
    "\n",
    "plt.title('Activity over time')\n",
    "plt.ylabel('Population Activity (spikes/s)')\n",
    "plt.xlabel('Time (s)')\n",
    "plt.grid()\n",
    "\n",
    "plt.legend(bbox_to_anchor=(1.05, 1), loc=2, borderaxespad=0.)\n",
    "\n",
    "plt.show()"
   ]
  }
 ],
 "metadata": {
  "kernelspec": {
   "display_name": "Python 3",
   "language": "python",
   "name": "python3"
  },
  "language_info": {
   "codemirror_mode": {
    "name": "ipython",
    "version": 3
   },
   "file_extension": ".py",
   "mimetype": "text/x-python",
   "name": "python",
   "nbconvert_exporter": "python",
   "pygments_lexer": "ipython3",
   "version": "3.5.2"
  }
 },
 "nbformat": 4,
 "nbformat_minor": 0
}
