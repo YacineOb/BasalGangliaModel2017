{
 "cells": [
  {
   "cell_type": "markdown",
   "metadata": {
    "deletable": true,
    "editable": true
   },
   "source": [
    "# Import modules"
   ]
  },
  {
   "cell_type": "code",
   "execution_count": 1,
   "metadata": {
    "collapsed": true,
    "deletable": true,
    "editable": true
   },
   "outputs": [],
   "source": [
    "#Notes:\n",
    "\n",
    "#1 : MSN-/ proto-/ FSI-/ MSN\n",
    "#2 : MSN-/ proto-/ arky-/ MSN\n",
    "\n",
    "# basal activity:\n",
    "# m_proto: 30\n",
    "# m_arky: 10\n",
    "# m_MSN: 1\n",
    "\n",
    "# we'll seek for the time decay for the time constant:\n",
    "#tau fsi to msn\n",
    "#tau gpe(proto & arky) to fsi\n",
    "#tau gpe(proto & arky) to msn\n",
    "\n",
    "#tau proto to arky\n"
   ]
  },
  {
   "cell_type": "code",
   "execution_count": 2,
   "metadata": {
    "collapsed": false,
    "deletable": true,
    "editable": true
   },
   "outputs": [],
   "source": [
    "# -*- coding: utf-8 -*-\n",
    "import numpy\n",
    "import random\n",
    "from matplotlib import pyplot as plt\n",
    "from math import exp\n",
    "%matplotlib inline"
   ]
  },
  {
   "cell_type": "markdown",
   "metadata": {
    "deletable": true,
    "editable": true
   },
   "source": [
    "# Initial parameters"
   ]
  },
  {
   "cell_type": "code",
   "execution_count": 3,
   "metadata": {
    "collapsed": false,
    "deletable": true,
    "editable": true
   },
   "outputs": [],
   "source": [
    "# Population size\n",
    "n = 1                           \n",
    "\n",
    "# Default Time beginning (second)\n",
    "t=0\n",
    "\n",
    "# Default trial duration (second)\n",
    "duration = 1.00 \n",
    "\n",
    "# Default Time resolution (second)\n",
    "dt = 0.0001\n",
    " \n",
    "# Thresholds(mV?)___________________________________________SEE PAPERS\n",
    "Msn_h = -51.90   # Mahon et al., 2006. RAT          \n",
    "Fsi_h = -47.30   # Koos & Teper, 1999. RAT (slice?)             \n",
    "Gp_h  = -55.10   # Abdi, Mallet et al., 2015. RAT (In Vitro)\n",
    "\n",
    "\n",
    "# Weights\n",
    "GpMsn_G  = 1.00                               \n",
    "MsnFsi_G = 1.00                             \n",
    "FsiGp_G  = 1.00\n",
    "\n",
    "MsnMsn_G = 0.00                               \n",
    "FsiFsi_G = 0.00                             \n",
    "GpGp_G   = 0.00 \n",
    "\n",
    "\n",
    "# Time (decay) constants (second)______________________________SEE PAPERS\n",
    "GpMsn_tau  = 0.0123    #  \n",
    "MsnFsi_tau = 0.0150    # 15.0 ± 2.3 (rest): Koos & Tepper, 1999. RAT (slice?)\n",
    "FsiGp_tau  = 0.0128    #\n",
    "\n",
    "MsnMsn_tau = 0.0070    # decay time constant of 6.7 ms: Damodaran et al, 2015 (model)\n",
    "FsiFsi_tau = 0.0016    # decay time constant of 4 ms: Damodaran et al, 2015 (model)\n",
    "GpGp_tau   = 0.0028    \n",
    "\n",
    "\n",
    "# Delays (second)______________________________________SEE PAPERS\n",
    "GpMsn_D  = 0.0070     # Jaeger & Kita, 2011.(no distinction arky-proto?)\n",
    "MsnFsi_D = 0.0017     # Koos & Tepper, 1999. RAT (=probably on slices:check)-must be faster \n",
    "FsiGp_D  = 0.0010     # Jaeger & Kita, 2011.(no distinction arky-proto?)\n",
    "\n",
    "MsnMsn_D  = 0.00670     \n",
    "FsiFsi_D = 0.0040     \n",
    "GpGp_D  = 0.0010      \n"
   ]
  },
  {
   "cell_type": "code",
   "execution_count": 4,
   "metadata": {
    "collapsed": true,
    "deletable": true,
    "editable": true
   },
   "outputs": [],
   "source": [
    "#Noise level (%)______________________________________SEE PAPERS\n",
    "#GpMsn_N   =   0.030 \n",
    "#MsnFsi_N  =   0.005\n",
    "#FsiGp_N   =   0.002"
   ]
  },
  {
   "cell_type": "code",
   "execution_count": 5,
   "metadata": {
    "collapsed": true,
    "deletable": true,
    "editable": true
   },
   "outputs": [],
   "source": [
    "# inputs\n",
    "Msn_I = 0\n",
    "Fsi_I = 0\n",
    "Gp_I  = 0\n",
    "\n",
    "# Activities at time t:\n",
    "GpMsn_m  = 0\n",
    "MsnFsi_m = 0\n",
    "FsiGp_m  = 0\n",
    "\n",
    "MsnMsn_m  = 0\n",
    "FsiFsi_m = 0\n",
    "GpGp_m  = 0\n",
    "\n",
    "# Activities at dt\n",
    "GpMsn_dm  = 0\n",
    "MsnFsi_dm = 0\n",
    "FsiGp_dm  = 0\n",
    "\n",
    "MsnMsn_dm  = 0\n",
    "FsiFsi_dm = 0\n",
    "GpGp_dm  = 0\n",
    "\n",
    "# Connectivity J\n",
    "GpMsn_J  = 1.0\n",
    "MsnFsi_J = 1.0\n",
    "FsiGp_J  = 1.0\n",
    "\n",
    "MsnMsn_J = 1.0     \n",
    "FsiFsi_J = 1.0    \n",
    "GpGp_J   = 1.0\n",
    "\n",
    "# Initialization of the random generator (reproductibility !)\n",
    "numpy.random.seed(0)"
   ]
  },
  {
   "cell_type": "markdown",
   "metadata": {
    "deletable": true,
    "editable": true
   },
   "source": [
    "# Noise Function @"
   ]
  },
  {
   "cell_type": "code",
   "execution_count": 6,
   "metadata": {
    "collapsed": true,
    "deletable": true,
    "editable": true
   },
   "outputs": [],
   "source": [
    "#White Gaussian Noise\n",
    "def WGnoise():\n",
    "    \"\"\"A gaussian generator: give a number with a mean=0 and sigma=1\"\"\"\n",
    "    \n",
    "    n = numpy.random.normal(0,1)\n",
    "    return n"
   ]
  },
  {
   "cell_type": "code",
   "execution_count": 7,
   "metadata": {
    "collapsed": false,
    "deletable": true,
    "editable": true
   },
   "outputs": [],
   "source": [
    "def noise(Z, level):    #Z = size of the population\n",
    "    Z = (numpy.random.uniform(-level/2,level/2,Z))*Z\n",
    "    return Z"
   ]
  },
  {
   "cell_type": "markdown",
   "metadata": {
    "collapsed": true,
    "deletable": true,
    "editable": true
   },
   "source": [
    "# Corrected Input function @"
   ]
  },
  {
   "cell_type": "code",
   "execution_count": 8,
   "metadata": {
    "collapsed": false,
    "deletable": true,
    "editable": true
   },
   "outputs": [],
   "source": [
    "#Function returning the corrected Input\n",
    "def Ic(Input=0,threshold=0):\n",
    "    \"\"\"Give the corrected input\"\"\"\n",
    "    \n",
    "    if Input - threshold <= 0:\n",
    "        return 0\n",
    "    else:\n",
    "        return (Input - threshold)"
   ]
  },
  {
   "cell_type": "markdown",
   "metadata": {
    "deletable": true,
    "editable": true
   },
   "source": [
    "# Activity at time t-Delta (delay) function @"
   ]
  },
  {
   "cell_type": "code",
   "execution_count": 9,
   "metadata": {
    "collapsed": true,
    "deletable": true,
    "editable": true
   },
   "outputs": [],
   "source": [
    "# function to get the index \"-delay/dt\" in the list representing m(t-Delta) \n",
    "m = 0\n",
    "def mdelta(synapse_value,delay):\n",
    "    \"\"\"give back the value corresponding to the activity at a time t-delay\"\"\"\n",
    "    \n",
    "    if t < delay:                # if the delay is the time is too small, we take m(t-delta)=0\n",
    "        return 0\n",
    "    elif t >= delay:             # if the time is above or equal to the delay, we can find the m(t-delta)\n",
    "        return synapse_value[int(-delay/dt)]   "
   ]
  },
  {
   "cell_type": "markdown",
   "metadata": {
    "deletable": true,
    "editable": true
   },
   "source": [
    "#            ================= Simulation Core ================="
   ]
  },
  {
   "cell_type": "code",
   "execution_count": 10,
   "metadata": {
    "collapsed": false,
    "deletable": true,
    "editable": true
   },
   "outputs": [],
   "source": [
    "it = 0   #Number of iteration (with step dt) : a simple iteration counter\n",
    "\n",
    "time_value = [0] #we put in a list every time to retrieve them in a gradual order\n",
    "\n",
    "#we put in a list every value of activity to retrieve them in a time order; easy way to substract the delay\n",
    "GpMsn_value  = [0] \n",
    "MsnFsi_value = [0]\n",
    "FsiGp_value  = [0]\n",
    "\n",
    "MsnMsn_value  = [0] \n",
    "FsiFsi_value  = [0]\n",
    "GpGp_value    = [0]\n",
    "\n",
    "\n",
    "\n"
   ]
  },
  {
   "cell_type": "code",
   "execution_count": 11,
   "metadata": {
    "collapsed": false,
    "deletable": true,
    "editable": true
   },
   "outputs": [],
   "source": [
    "while t < duration:    # when the time is strictly under 1 seconde\n",
    "    \n",
    "    t = t+dt           #for each iteration, add (the step) dt to the time\n",
    "    it += 1            #for each iteration, add 1 to the iteration counter\n",
    "    \n",
    "# Stock activity & time :for plotting    \n",
    "    \n",
    "    time_value.append(t)     #command to add every time used in a list\n",
    "\n",
    "    GpMsn_value.append(GpMsn_m) #command to add all activities of each population in a list \n",
    "    MsnFsi_value.append(MsnFsi_m) #respectively ; after each iteration\n",
    "    FsiGp_value.append(FsiGp_m)\n",
    "    \n",
    "    MsnMsn_value.append(MsnMsn_m) #command to add all activities of each population in a list \n",
    "    FsiFsi_value.append(FsiFsi_m) #respectively ; after each iteration\n",
    "    GpGp_value.append(GpGp_m)\n",
    "    \n",
    "    \n",
    "    GpMsn_mdelta = mdelta(GpMsn_value,GpMsn_D)\n",
    "    MsnFsi_mdelta = mdelta(MsnFsi_value,MsnFsi_D)\n",
    "    FsiGp_mdelta = mdelta(FsiGp_value,FsiGp_D)\n",
    "    \n",
    "    MsnMsn_mdelta = mdelta(MsnMsn_value,MsnMsn_D)\n",
    "    FsiFsi_mdelta = mdelta(FsiFsi_value,FsiFsi_D)\n",
    "    GpGp_mdelta = mdelta(GpGp_value,GpGp_D)\n",
    "\n",
    "    \n",
    "    GpMsn_m += GpMsn_dm    # we add the activity (dm) to the global activity (m),\n",
    "    MsnFsi_m += MsnFsi_dm    # after a step dt ; for all population\n",
    "    FsiGp_m += FsiGp_dm    #stored in the list (\"PopulationNames\"_value)\n",
    "    \n",
    "    MsnMsn_m += MsnMsn_dm    # we add the activity (dm) to the global activity (m),\n",
    "    FsiFsi_m += FsiFsi_dm    # after a step dt ; for all population\n",
    "    GpGp_m += GpGp_dm    #stored in the list (\"PopulationNames\"_value)\n",
    "    \n",
    "    \n",
    "    \n",
    "    \n",
    "#Update of inputs     \n",
    "\n",
    "        # Pre-Post population Input____________________________________Reccurent (auto)synapse Input\n",
    "    \n",
    "    Msn_I = - MsnFsi_G * MsnFsi_J * MsnFsi_mdelta + WGnoise() - MsnMsn_G * MsnMsn_J * MsnMsn_mdelta + WGnoise()\n",
    "    Fsi_I = - FsiGp_G * FsiGp_J * FsiGp_mdelta + WGnoise() - FsiFsi_G * FsiFsi_J * FsiFsi_mdelta + WGnoise()  \n",
    "    Gp_I  = - GpMsn_G * GpMsn_J * GpMsn_mdelta + WGnoise() - GpGp_G * GpGp_J * GpGp_mdelta + WGnoise()\n",
    "    \n",
    "\n",
    "#Update of activities\n",
    "    GpMsn_dm  = dt * ( -GpMsn_m + Ic(Msn_I,Msn_h) ) / GpMsn_tau # no noise for now \n",
    "    MsnFsi_dm = dt * ( -MsnFsi_m + Ic(Fsi_I,Fsi_h ) ) / MsnFsi_tau  \n",
    "    FsiGp_dm  = dt * ( -FsiGp_m + Ic(Gp_I,Gp_h ) ) / FsiGp_tau  \n",
    "    "
   ]
  },
  {
   "cell_type": "markdown",
   "metadata": {
    "deletable": true,
    "editable": true
   },
   "source": [
    "# Plotting results"
   ]
  },
  {
   "cell_type": "code",
   "execution_count": 12,
   "metadata": {
    "collapsed": false,
    "deletable": true,
    "editable": true
   },
   "outputs": [
    {
     "data": {
      "image/png": "[encoded data removed]",
      "text/plain": [
       "<matplotlib.figure.Figure at 0x7f580e9ff8d0>"
      ]
     },
     "metadata": {},
     "output_type": "display_data"
    }
   ],
   "source": [
    "plt.plot(time_value,GpMsn_value,label='MSN')\n",
    "plt.plot(time_value,MsnFsi_value,label='FSI')\n",
    "plt.plot(time_value,FsiGp_value,label='GP')\n",
    "\n",
    "plt.title('Activity over time')\n",
    "plt.ylabel('Population Activity (spikes/s)')\n",
    "plt.xlabel('Time (s)')\n",
    "plt.grid()\n",
    "\n",
    "plt.legend(bbox_to_anchor=(1.05, 1), loc=2, borderaxespad=0.)\n",
    "\n",
    "plt.show()"
   ]
  }
 ],
 "metadata": {
  "kernelspec": {
   "display_name": "Python 3",
   "language": "python",
   "name": "python3"
  },
  "language_info": {
   "codemirror_mode": {
    "name": "ipython",
    "version": 3
   },
   "file_extension": ".py",
   "mimetype": "text/x-python",
   "name": "python",
   "nbconvert_exporter": "python",
   "pygments_lexer": "ipython3",
   "version": "3.5.2"
  }
 },
 "nbformat": 4,
 "nbformat_minor": 0
}
