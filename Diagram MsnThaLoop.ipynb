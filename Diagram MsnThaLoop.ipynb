{
 "cells": [
  {
   "cell_type": "code",
   "execution_count": 1,
   "metadata": {
    "collapsed": true,
    "deletable": true,
    "editable": true
   },
   "outputs": [],
   "source": [
    "from math import *\n",
    "from matplotlib import pyplot as plt\n",
    "from mpl_toolkits.mplot3d import Axes3D\n",
    "import numpy as np\n",
    "from tqdm import tqdm"
   ]
  },
  {
   "cell_type": "code",
   "execution_count": 2,
   "metadata": {
    "collapsed": true,
    "deletable": true,
    "editable": true
   },
   "outputs": [],
   "source": [
    "t1 =0.020\n",
    "t2 =0.010\n",
    "t3 =0.010    \n",
    "t4 =0.020\n",
    "t5 =0.020\n",
    "\n",
    "tc =0.020\n",
    "\n",
    "DeltaA = 0.0070 + 0.0010 + 0.0008 + 0.0010 + 0.0010\n",
    "DeltaB = 0.0070 + 0.0010 + 0.0008 + 0.0010 + 0.0010\n",
    "\n",
    "G=1"
   ]
  },
  {
   "cell_type": "markdown",
   "metadata": {
    "deletable": true,
    "editable": true
   },
   "source": [
    "# equation resolution: Plot G=f(w) , TAUx=TAU for all x"
   ]
  },
  {
   "cell_type": "raw",
   "metadata": {
    "collapsed": false,
    "deletable": true,
    "editable": true
   },
   "source": [
    "wrlist = []\n",
    "Galist = []\n",
    "Gblist = []\n",
    "\n",
    "\n",
    "for w in tqdm(np.arange(0.001, 100, 0.001)):\n",
    "    for Gb in np.arange(0, 5, 0.1):\n",
    "        Ga = (-(w*tc)**4 - 6*(w*tc)**2 + 1 / cos(w*DeltaA)) + Gb*(1+w*tc*tan(w*DeltaA))\n",
    "        Gblist.append(Gb)\n",
    "        Galist.append(Ga)\n",
    "        wrlist.append(w)\n",
    "        \n",
    "fig = plt.figure(1)\n",
    "ax = plt.axes(projection='3d')\n",
    "\n",
    "ax.plot(Galist, Gblist, wrlist, '-b')\n",
    "ax.set_xlabel('Ga')\n",
    "ax.set_ylabel('Gb')\n",
    "ax.set_zlabel('w')\n",
    "\n",
    "print(len(Galist))\n",
    "print(len(Gblist))\n",
    "print(len(wrlist))\n",
    "\n",
    "plt.show()"
   ]
  },
  {
   "cell_type": "code",
   "execution_count": 3,
   "metadata": {
    "collapsed": false
   },
   "outputs": [
    {
     "name": "stderr",
     "output_type": "stream",
     "text": [
      "100%|██████████| 999999/999999 [00:02<00:00, 423171.54it/s]\n"
     ]
    },
    {
     "data": {
      "image/png": "[encoded data removed]",
      "text/plain": [
       "<matplotlib.figure.Figure at 0x7f19990cdba8>"
      ]
     },
     "metadata": {},
     "output_type": "display_data"
    }
   ],
   "source": [
    "wrilist = []\n",
    "Gailist = []\n",
    "Gbilist = []\n",
    "\n",
    "for wi in tqdm(np.arange(0.001, 100, 0.001)):\n",
    "    for Gbi in np.arange(0, 5, 0.1):\n",
    "        Gai = ((4*wi*tc)*((wi*tc)**2 - 1) / sin(wi*DeltaA)) + Gbi*(1-w*tc*(1/tan(w*DeltaA)))\n",
    "        Gbilist.append(Gbi)\n",
    "        Gailist.append(Gai)\n",
    "        wrilist.append(wi)\n",
    "        \n",
    "fig = plt.figure(2)\n",
    "ax = plt.axes(projection='3d')\n",
    "\n",
    "ax.plot(Gailist, Gbilist, wrilist, '-r')\n",
    "ax.set_xlabel('Ga')\n",
    "ax.set_ylabel('Gb')\n",
    "ax.set_zlabel('w')\n",
    "\n",
    "print(len(Gailist))\n",
    "print(len(Gbilist))\n",
    "print(len(wrilist))\n",
    "\n",
    "plt.show()"
   ]
  },
  {
   "cell_type": "code",
   "execution_count": null,
   "metadata": {
    "collapsed": true
   },
   "outputs": [],
   "source": []
  }
 ],
 "metadata": {
  "kernelspec": {
   "display_name": "Python 3",
   "language": "python",
   "name": "python3"
  },
  "language_info": {
   "codemirror_mode": {
    "name": "ipython",
    "version": 3
   },
   "file_extension": ".py",
   "mimetype": "text/x-python",
   "name": "python",
   "nbconvert_exporter": "python",
   "pygments_lexer": "ipython3",
   "version": "3.5.2"
  }
 },
 "nbformat": 4,
 "nbformat_minor": 2
}
