{
 "cells": [
  {
   "cell_type": "code",
   "execution_count": 1,
   "metadata": {
    "collapsed": true,
    "deletable": true,
    "editable": true
   },
   "outputs": [],
   "source": [
    "from math import *\n",
    "from matplotlib import pyplot as plt\n",
    "from mpl_toolkits.mplot3d import Axes3D\n",
    "import numpy as np\n",
    "from tqdm import tqdm"
   ]
  },
  {
   "cell_type": "code",
   "execution_count": 2,
   "metadata": {
    "collapsed": true,
    "deletable": true,
    "editable": true
   },
   "outputs": [],
   "source": [
    "t1 =0.020\n",
    "t2 =0.010\n",
    "t3 =0.010    \n",
    "t4 =0.020\n",
    "t5 =0.020\n",
    "tc =0.020\n",
    "DeltaA = 0.0070 + 0.0010 + 0.0008 + 0.0010 + 0.0010\n",
    "DeltaB = 0.0070 + 0.0010 + 0.0008 + 0.0010 + 0.0010\n",
    "\n",
    "G=1"
   ]
  },
  {
   "cell_type": "code",
   "execution_count": 3,
   "metadata": {
    "collapsed": false,
    "deletable": true,
    "editable": true
   },
   "outputs": [
    {
     "name": "stderr",
     "output_type": "stream",
     "text": [
      "100%|██████████| 149999/149999 [00:00<00:00, 353460.36it/s]\n"
     ]
    },
    {
     "data": {
      "image/png": "[encoded data removed]",
      "text/plain": [
       "<matplotlib.figure.Figure at 0x7f0c183e83c8>"
      ]
     },
     "metadata": {},
     "output_type": "display_data"
    }
   ],
   "source": [
    "wrlist = []\n",
    "rlist = []\n",
    "grlist = []\n",
    "wrilist = []\n",
    "rilist = []\n",
    "girlist = []\n",
    "\n",
    "for w in tqdm(np.arange(0.001, 150, 0.001)):\n",
    "    r = ((((w**4)*(tc**4) - 6*(w**2)*(tc**2)+1)/cos(w*DeltaA)) - (4*(w**3)*(tc**3)-4*w*tc)/sin(w*DeltaA)) / (((w*tc)/tan(w*DeltaA)) + tan(w*DeltaA)) \n",
    "    rlist.append(r)\n",
    "    wrlist.append(w)\n",
    "\n",
    "plt.plot(rlist, wrlist)\n",
    "plt.plot(rilist, wrilist)\n",
    "plt.title(\"resolution in nothing\")\n",
    "plt.ylabel('wr')\n",
    "plt.xlabel('r')\n",
    "\n",
    "plt.show()"
   ]
  },
  {
   "cell_type": "code",
   "execution_count": null,
   "metadata": {
    "collapsed": false,
    "deletable": true,
    "editable": true
   },
   "outputs": [],
   "source": []
  },
  {
   "cell_type": "code",
   "execution_count": null,
   "metadata": {
    "collapsed": true,
    "deletable": true,
    "editable": true
   },
   "outputs": [],
   "source": []
  }
 ],
 "metadata": {
  "kernelspec": {
   "display_name": "Python 3",
   "language": "python",
   "name": "python3"
  },
  "language_info": {
   "codemirror_mode": {
    "name": "ipython",
    "version": 3
   },
   "file_extension": ".py",
   "mimetype": "text/x-python",
   "name": "python",
   "nbconvert_exporter": "python",
   "pygments_lexer": "ipython3",
   "version": "3.5.2"
  }
 },
 "nbformat": 4,
 "nbformat_minor": 2
}
