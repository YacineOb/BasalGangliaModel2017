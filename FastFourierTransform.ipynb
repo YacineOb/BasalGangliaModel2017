{
 "cells": [
  {
   "cell_type": "code",
   "execution_count": 1,
   "metadata": {
    "collapsed": true,
    "deletable": true,
    "editable": true
   },
   "outputs": [],
   "source": [
    "from __future__ import division\n",
    "from scipy import *\n",
    "from pylab import *\n",
    "from scipy.optimize import *\n",
    "from tqdm import tqdm\n",
    "import time\n",
    "import os\n",
    "from math import *\n",
    "import numpy as np"
   ]
  },
  {
   "cell_type": "code",
   "execution_count": 2,
   "metadata": {
    "collapsed": true,
    "deletable": true,
    "editable": true
   },
   "outputs": [],
   "source": [
    "timestr = time.strftime(\"%Y-%m-%d-%H:%M:%S\") # give the date and time that will be used to tag simulation results\n",
    "\n",
    "def data_dir(dir=\"os.getcwd()\"):   # will create the files needed to store values in CWD/Data\n",
    "    directory = os.path.dirname(dir)\n",
    "    if not os.path.exists('{}/{}'.format(os.getcwd(),'DiagramFsi')):\n",
    "        os.makedirs('{}/{}'.format(os.getcwd(),'DiagramFsi'))\n",
    "    if not os.path.exists('DiagramFsi/{}'.format(timestr)):\n",
    "        os.makedirs('DiagramFsi/{}'.format(timestr))"
   ]
  },
  {
   "cell_type": "code",
   "execution_count": 3,
   "metadata": {
    "collapsed": false,
    "deletable": true,
    "editable": true
   },
   "outputs": [
    {
     "name": "stdout",
     "output_type": "stream",
     "text": [
      "18 Hz\n"
     ]
    },
    {
     "data": {
      "image/png": "[encoded data removed]",
      "text/plain": [
       "<matplotlib.figure.Figure at 0x7f7d4a1f2cf8>"
      ]
     },
     "metadata": {},
     "output_type": "display_data"
    }
   ],
   "source": [
    "puf=np.load('DataFsi/2017-05-16-17:41:41/GpeMsn_Activities.npy')\n",
    "\n",
    "#=========================================================================================\n",
    "four=list()\n",
    "\n",
    "for i in puf:\n",
    "    four.append(i[0])\n",
    "yes0=np.array(four)\n",
    "yes = yes0-np.mean(yes0)\n",
    "\n",
    "#=========================================================================================\n",
    "\n",
    "#Calculating FFT of signal\n",
    "fourier=np.fft.fft(yes)\n",
    "freq=np.fft.fftfreq(fourier.shape[0],d=0.00001)\n",
    "plt.plot(freq,abs(fourier)*2)\n",
    "plt.xlim(0,50)\n",
    "print(np.argmax(abs(fourier)),'Hz')\n",
    "plt.show()\n"
   ]
  },
  {
   "cell_type": "code",
   "execution_count": null,
   "metadata": {
    "collapsed": true,
    "deletable": true,
    "editable": true
   },
   "outputs": [],
   "source": []
  },
  {
   "cell_type": "code",
   "execution_count": null,
   "metadata": {
    "collapsed": true,
    "deletable": true,
    "editable": true
   },
   "outputs": [],
   "source": []
  }
 ],
 "metadata": {
  "kernelspec": {
   "display_name": "Python 3",
   "language": "python",
   "name": "python3"
  },
  "language_info": {
   "codemirror_mode": {
    "name": "ipython",
    "version": 3
   },
   "file_extension": ".py",
   "mimetype": "text/x-python",
   "name": "python",
   "nbconvert_exporter": "python",
   "pygments_lexer": "ipython3",
   "version": "3.5.2"
  }
 },
 "nbformat": 4,
 "nbformat_minor": 2
}
