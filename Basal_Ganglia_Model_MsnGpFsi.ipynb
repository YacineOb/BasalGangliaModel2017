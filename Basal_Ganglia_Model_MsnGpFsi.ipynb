{
 "cells": [
  {
   "cell_type": "markdown",
   "metadata": {
    "collapsed": true,
    "deletable": true,
    "editable": true
   },
   "source": [
    "# ✔\t - Import modules -"
   ]
  },
  {
   "cell_type": "code",
   "execution_count": 1,
   "metadata": {
    "collapsed": false,
    "deletable": true,
    "editable": true
   },
   "outputs": [],
   "source": [
    "import os\n",
    "import time\n",
    "import numpy as np\n",
    "import random\n",
    "from matplotlib import pyplot as plt\n",
    "from math import exp, cos\n",
    "import json\n",
    "from tqdm import tqdm\n",
    "\n",
    "import matplotlib.cm as cm"
   ]
  },
  {
   "cell_type": "markdown",
   "metadata": {
    "deletable": true,
    "editable": true
   },
   "source": [
    "# ✔\t - Function definition -"
   ]
  },
  {
   "cell_type": "markdown",
   "metadata": {
    "collapsed": true,
    "deletable": true,
    "editable": true
   },
   "source": [
    "# ✘ Corrected Input function"
   ]
  },
  {
   "cell_type": "code",
   "execution_count": 2,
   "metadata": {
    "collapsed": true,
    "deletable": true,
    "editable": true
   },
   "outputs": [],
   "source": [
    "# Function returning the corrected Input\n",
    "def Ic(Input=0):\n",
    "    if Input <= 0:\n",
    "        return 0\n",
    "    else:\n",
    "        return (Input)"
   ]
  },
  {
   "cell_type": "markdown",
   "metadata": {
    "collapsed": true,
    "deletable": true,
    "editable": true
   },
   "source": [
    "# ✘ Activity at time t-Delta (delay) function"
   ]
  },
  {
   "cell_type": "code",
   "execution_count": 3,
   "metadata": {
    "collapsed": false,
    "deletable": true,
    "editable": true
   },
   "outputs": [],
   "source": [
    "# function to get the index \"-delay/dt\" in the list representing m(t-Delta)\n",
    "def mdelta(synapse_value, delay, t, dt,i):\n",
    "    if t < delay:  # if the delay is the time is too small, we take m(t-delta)=0\n",
    "        return 0\n",
    "    else:  # if the time is above or equal to the delay, we can find the m(t-delta)\n",
    "        return synapse_value[int(-delay / dt)][i]"
   ]
  },
  {
   "cell_type": "markdown",
   "metadata": {
    "deletable": true,
    "editable": true
   },
   "source": [
    "# ✘ Plotting functions (Inputs & activities) and data folder creation function"
   ]
  },
  {
   "cell_type": "code",
   "execution_count": 4,
   "metadata": {
    "collapsed": false
   },
   "outputs": [],
   "source": [
    "def Inplot(x,data,title):    # plot the external Inputs\n",
    "    ind=np.arange(len(data))\n",
    "    fig = plt.figure()\n",
    "    ax = plt.subplot(111)\n",
    "    ax.barh(ind, data, 0.899,color='g')\n",
    "    ax.set_yticks(ind)\n",
    "    r = ax.set_yticklabels(x, ha = 'left',fontsize = 16)\n",
    "    fig.set_size_inches(15, 2, forward=True)\n",
    "    \n",
    "    plt.draw()\n",
    "    yax = ax.get_yaxis()\n",
    "    pad = max(T.label.get_window_extent().width for T in yax.majorTicks)\n",
    "    yax.set_tick_params(pad=pad,)\n",
    "    \n",
    "    ######################################## Annotations on plot #############################################\n",
    "    bbox_props = dict(boxstyle=\"round4,pad=0.3\", fc=\"white\", ec=\"k\", lw=2)\n",
    "    t = ax.text(H['Gpe'], 1, str(H['Gpe']), ha=\"center\", va=\"center\", rotation=5,\n",
    "            size=12,\n",
    "            bbox=bbox_props) \n",
    "    bbox_props = dict(boxstyle=\"round4,pad=0.3\", fc=\"white\", ec=\"k\", lw=2)\n",
    "    t = ax.text(H['Fsi'], 2, str(H['Fsi']), ha=\"center\", va=\"center\",rotation=5,\n",
    "            size=12,\n",
    "            bbox=bbox_props) \n",
    "    bbox_props = dict(boxstyle=\"round4,pad=0.3\", fc=\"white\", ec=\"k\", lw=2)\n",
    "    t = ax.text(H['Msn'], 0, str(H['Msn']), ha=\"center\", va=\"center\",rotation=5,\n",
    "            size=12,\n",
    "            bbox=bbox_props) \n",
    "    ##########################################################################################################\n",
    "    ax=plt.gca()\n",
    "    col_labels=['Fsi','Msn','Gpe']\n",
    "    row_labels=['G (Weight)','Basal Activity (spk/s)']          \n",
    "    table_vals=[[str(G['MsnFsi']),str(G['GpeMsn']),str(G['FsiGpe'])],\n",
    "                [str(M['MsnFsi']),str(M['GpeMsn']),str(M['FsiGpe'])]]\n",
    "    \n",
    "    table=plt.table(cellText=table_vals,\n",
    "        colWidths = [0.4]*3,\n",
    "        rowLabels=row_labels,\n",
    "        colLabels=col_labels,\n",
    "        loc='bottom',bbox=[0.4, -0.65, 0.2, 0.3])\n",
    "    table.set_fontsize(10)\n",
    "\n",
    "    plt.draw()\n",
    "    plt.grid()\n",
    "    plt.xlabel('spike per second (spk/s)')\n",
    "    plt.ylabel('structures')\n",
    "    plt.title('External Input value for each structure')"
   ]
  },
  {
   "cell_type": "code",
   "execution_count": 5,
   "metadata": {
    "collapsed": false,
    "deletable": true,
    "editable": true
   },
   "outputs": [],
   "source": [
    "def plotting(k,typ, title, xax, yax, element, source,value, v1, v2, v3,On):# plot activity and input dynamics \n",
    "    fig = plt.figure(figsize=(15,10))\n",
    "    ax=fig.add_subplot(111) \n",
    "    \n",
    "    for element in source:\n",
    "        value[element]=np.zeros(n_period)\n",
    "        \n",
    "        for t in range(0,n_period):\n",
    "            if On == 0:\n",
    "                value[element][t] = typ[element][t][k]\n",
    "            else:\n",
    "                value[element][t] = np.mean(typ[element][t])     \n",
    "\n",
    "        ax.plot(time_value, value[element], label= str(element), alpha=0.7)   \n",
    "        ax.set_title((title + ' {}'.format(k+1)))\n",
    "        ax.set_ylabel(yax), ax.set_xlabel(xax), ax.grid()\n",
    "        ax.legend(bbox_to_anchor=(1.05, 1), loc=2, borderaxespad=0,prop={'size':15})\n",
    "    \n",
    "    ax=plt.gca()\n",
    "    col_labels=['Fsi','Msn','Gpe']\n",
    "    row_labels=['G (Weight)','Min','Mean','Max','Var','Stand.Dev']          \n",
    "    table_vals=[[str(G['MsnFsi']),str(G['GpeMsn']),str(G['FsiGpe'])],\n",
    "                [np.amin(value[v1]),np.amin(value[v2]),np.amin(value[v3])],\n",
    "                [np.mean(value[v1]),np.mean(value[v2]),np.mean(value[v3])],\n",
    "                [np.amax(value[v1]),np.amax(value[v2]),np.amax(value[v3])],\n",
    "                [np.var(value[v1]),np.var(value[v2]),np.var(value[v3])],\n",
    "                [np.std(value[v1]),np.std(value[v2]),np.std(value[v3])]]\n",
    "    \n",
    "    table=plt.table(cellText=table_vals,\n",
    "        colWidths = [0.8]*5,\n",
    "        rowLabels=row_labels,\n",
    "        colLabels=col_labels,\n",
    "        loc='bottom',bbox=[0.27, -0.4, 0.6, 0.3])\n",
    "    table.set_fontsize(20)"
   ]
  },
  {
   "cell_type": "code",
   "execution_count": 6,
   "metadata": {
    "collapsed": false,
    "deletable": true,
    "editable": true
   },
   "outputs": [],
   "source": [
    "def data_dir(dir=\"os.getcwd()\"):            # will create the files needed to store values in CWD/Data\n",
    "    if not os.path.exists('{}/{}'.format(os.getcwd(),'DataFsi')): # will be used to tag simulation results\n",
    "        directory = os.path.dirname(dir)\n",
    "        os.makedirs('{}/{}'.format(os.getcwd(),'DataFsi'))\n",
    "    if not os.path.exists('DataFsi/{}'.format(timestr)):\n",
    "        os.makedirs('DataFsi/{}'.format(timestr))"
   ]
  },
  {
   "cell_type": "markdown",
   "metadata": {
    "collapsed": true,
    "deletable": true,
    "editable": true
   },
   "source": [
    "# ✔\t - Initial parameters - "
   ]
  },
  {
   "cell_type": "code",
   "execution_count": 7,
   "metadata": {
    "collapsed": false,
    "deletable": true,
    "editable": true
   },
   "outputs": [],
   "source": [
    "## Population size (number of neuron)\n",
    "n = 1\n",
    "\n",
    "## Default Time beginning (second)\n",
    "t = 0\n",
    "\n",
    "## Default trial duration (second)\n",
    "duration = 1.00   \n",
    "\n",
    "## Default Time resolution (second)\n",
    "dt = 0.00001  # 0.00001\n",
    "\n",
    "## Period occuring \n",
    "n_period = int(duration // dt) + 1\n",
    "\n",
    "## Initialization of the random generator (reproductibility)\n",
    "np.random.seed(0)"
   ]
  },
  {
   "cell_type": "code",
   "execution_count": 8,
   "metadata": {
    "collapsed": false,
    "deletable": true,
    "editable": true
   },
   "outputs": [],
   "source": [
    "time_value = np.arange(0, duration, dt) # creat the timescale, depending on the duration and step dt, for plotting"
   ]
  },
  {
   "cell_type": "code",
   "execution_count": 9,
   "metadata": {
    "collapsed": false
   },
   "outputs": [],
   "source": [
    "## creation of dict to store m, dm, J, H and input I values\n",
    "Mean, m, dm, J, H, y,value,I = dict(),dict(), dict(), dict(), dict(), dict(), dict(), dict()"
   ]
  },
  {
   "cell_type": "code",
   "execution_count": 10,
   "metadata": {
    "collapsed": true,
    "deletable": true,
    "editable": true
   },
   "outputs": [],
   "source": [
    "connections = [\"GpeMsn\", \"FsiGpe\", \"MsnFsi\"] #\"MsnMsn\", \"FsiFsi\", \"GpeGpe\"]\n",
    "structures = [\"Msn\", \"Fsi\", \"Gpe\"]"
   ]
  },
  {
   "cell_type": "code",
   "execution_count": 11,
   "metadata": {
    "collapsed": false,
    "deletable": true,
    "editable": true
   },
   "outputs": [],
   "source": [
    " ## Fixed point activity: (IN VIVO Values needed)\n",
    "M = {                     \n",
    "    \"GpeMsn\": 2,   # spikes/s\n",
    "    \"MsnFsi\": 3,   # spikes/s\n",
    "    \"FsiGpe\": 20   # spikes/s\n",
    "}\n",
    "\n",
    " ## Weights (connextions pre->post ; notation: PostPre):\n",
    "G = {\n",
    "    \"GpeMsn\": 1.00,\n",
    "    \"FsiGpe\": 1.00,\n",
    "    \"MsnFsi\": 1.00,\n",
    "    #\"MsnMsn\": 1.00,\n",
    "    #\"FsiFsi\": 1.00,\n",
    "    #\"GpeGpe\": 1.00\n",
    "}\n",
    "\n",
    " ## Tau:\n",
    "tau = {\n",
    "    \"GpeMsn\": 0.0200,\n",
    "    \"FsiGpe\": 0.0050, #0.005\n",
    "    \"MsnFsi\": 0.0050, #0.005\n",
    "    # \"MsnMsn\": 1.00,\n",
    "    #\"FsiFsi\": 1.00,\n",
    "   # \"GpeGpe\": 1.00\n",
    "}\n",
    "\n",
    " ## Delays:\n",
    "D = {\n",
    "    \"GpeMsn\": 0.0070, # 7ms: Jaeger & Kita, 2011 ; (in vivo-rat & monkey)\n",
    "    \"FsiGpe\": 0.0010, # 1ms: Jaeger & Kita, 2011 ; (in vivo-rat & monkey)\n",
    "    \"MsnFsi\": 0.0008, # 0.8ms: Gittis et al., 2010 ; (in vitro - mice)\n",
    "    #\"MsnMsn\": 1.00,\n",
    "    #\"FsiFsi\": 1.00,\n",
    "   # \"GpeGpe\": 1.00  # 1ms: Jaeger & Kita, 2011 ; (in vivo-rat & monkey)\n",
    "}\n",
    "\n",
    "\n",
    " ## Noise (sigma):\n",
    "N = {\n",
    "    \"Msn\": 0.00,   \n",
    "    \"Fsi\": 0.00,   \n",
    "    \"Gpe\": 0.00\n",
    "}\n",
    "\n",
    "\n",
    " ## Connection probability:\n",
    "C = {\n",
    "    \"GpeMsn\": 1.00,\n",
    "    \"FsiGpe\": 1.00,\n",
    "    \"MsnFsi\": 1.00,\n",
    "}\n",
    "\n",
    " ## External Input, calculated and constant all over the simulation\n",
    "H = {\n",
    "    \"Msn\": M['GpeMsn']+G['MsnFsi']*M['MsnFsi'],   \n",
    "    \"Fsi\": M['MsnFsi']+G['FsiGpe']*M['FsiGpe'],   \n",
    "    \"Gpe\": M['FsiGpe']+G['GpeMsn']*M['GpeMsn']\n",
    "}"
   ]
  },
  {
   "cell_type": "code",
   "execution_count": 12,
   "metadata": {
    "collapsed": true,
    "deletable": true,
    "editable": true
   },
   "outputs": [],
   "source": [
    "input_mapping = {\n",
    "    \"Msn\": \"MsnFsi\",\n",
    "    \"Gpe\": \"GpeMsn\",\n",
    "    \"Fsi\": \"FsiGpe\"\n",
    "}\n",
    "\n",
    "activities_mapping = {\n",
    "    \"GpeMsn\": \"Msn\",\n",
    "    \"FsiGpe\": \"Gpe\",\n",
    "    \"MsnFsi\": \"Fsi\"\n",
    "}"
   ]
  },
  {
   "cell_type": "code",
   "execution_count": 13,
   "metadata": {
    "collapsed": false,
    "deletable": true,
    "editable": true
   },
   "outputs": [],
   "source": [
    "## create an array of 'nperiod' array (store value trought time) with n zeroes in\n",
    "for con in connections:   \n",
    "    m[con] = np.zeros((n_period, n))\n",
    "   \n",
    "    y[con]=int(D[con]//dt)\n",
    "    m[con][0:y[con]]= M[con] #    m[con][0:y[con]:n]?\n",
    "## create an array composed of     \n",
    "    dm[con] = np.zeros((n_period, n))\n",
    "## create an array composed of 0 & 1 depending on the probability \"Co\"(max=1=100%)\n",
    "    J[con] = np.random.choice(2, size=(n, n), p=[(1-C[con]),C[con]])"
   ]
  },
  {
   "cell_type": "code",
   "execution_count": null,
   "metadata": {
    "collapsed": false,
    "deletable": true,
    "editable": true
   },
   "outputs": [],
   "source": [
    "## inputs array generation: \n",
    "for stc in structures:                                                              # noises picked (N=sigma)\n",
    "    I[stc] = np.random.normal(0, N[stc], size=(n_period, n)) + H[stc]               # add H, external Inputs"
   ]
  },
  {
   "cell_type": "markdown",
   "metadata": {
    "collapsed": true,
    "deletable": true,
    "editable": true
   },
   "source": [
    "# ✔\t - Simulation Core -"
   ]
  },
  {
   "cell_type": "code",
   "execution_count": null,
   "metadata": {
    "collapsed": true
   },
   "outputs": [],
   "source": [
    "## add current for a time t\n"
   ]
  },
  {
   "cell_type": "code",
   "execution_count": null,
   "metadata": {
    "collapsed": false,
    "deletable": true,
    "editable": true
   },
   "outputs": [
    {
     "name": "stderr",
     "output_type": "stream",
     "text": [
      " 64%|██████▍   | 64138/99999 [29:35<16:16, 36.73it/s]"
     ]
    }
   ],
   "source": [
    "for t in tqdm(range(1, n_period)):    ## Update of Inputs\n",
    "    \n",
    "    for stc in structures:\n",
    "        for i in range(n):\n",
    "            if stc == \"Msn\" or \"Gpe\" or \"Fsi\":\n",
    "                con = input_mapping[stc] #multiplication by the probability of connexion below with n\n",
    "                I[stc][t][i] += - np.sum(G[con]* mdelta(m[con][:t + 1], D[con], time_value[t], dt,i) *J[con][i])/n     \n",
    "            else: \n",
    "                continue\n",
    "\n",
    "    for con in connections:          ## Update of activities\n",
    "        \n",
    "        for i in range(n):\n",
    "            stc = activities_mapping[con]\n",
    "            dm[con][t][i] = dt * (- m[con][t][i] + Ic(I[stc][t][i])) / tau[con]\n",
    "            \n",
    "        if t < n_period-1: # we can't add last value of dm to the last value of m\n",
    "            m[con][t+1]=m[con][t]+dm[con][t]\n",
    "        else:\n",
    "            continue"
   ]
  },
  {
   "cell_type": "markdown",
   "metadata": {
    "collapsed": true,
    "deletable": true,
    "editable": true
   },
   "source": [
    "# ✔\t - Result Plots & Save data -"
   ]
  },
  {
   "cell_type": "code",
   "execution_count": null,
   "metadata": {
    "collapsed": false,
    "deletable": true,
    "editable": true
   },
   "outputs": [],
   "source": [
    "timestr = time.strftime(\"%Y-%m-%d-%H:%M:%S\") # give the date and time used to tag simulation results\n",
    "data_dir()  # creating the 'Data' directory on CWD and the directory (with date & time) to store the results\n",
    "\n",
    "for stc in structures:  # save the Input array (npy format) for each neuron population in \"structures\"\n",
    "    np.save('DataFsi/{}/{}_Inputs'.format(timestr, stc), I[stc])\n",
    "    \n",
    "for con in connections: # save the Activity array (npy format) for each neuron population in \"connections\"\n",
    "    np.save('DataFsi/{}/{}_Activities'.format(timestr, con), m[con])\n",
    "      \n",
    "    g = np.floor(J[con])\n",
    "    plt.subplot(212)\n",
    "    plt.xlabel('{} neurons'.format(con))\n",
    "    plt.ylabel('{} neurons'.format(con))\n",
    "    plt.title('{} network connextivity'.format(con))\n",
    "    plt.imshow(g, cmap='Greys',  interpolation='nearest')\n",
    "    plt.savefig('DataFsi/{}/C{}.png'.format(timestr,con),dpi=300,bbox_inches='tight')\n",
    "\n",
    "datax={'Weight':G,'Delay':D,'tau':tau,'Noise':N,'BasalActivity':M,'ConnexProba':C,  # make one dict with all parameters used \n",
    "       'ExternalInput':H,'Neuron_number':n,'time_trial':t,'duration':duration,'step':dt}\n",
    "\n",
    "with open('DataFsi/{}/0_Parameters.json'.format(timestr),'w') as f: # save the parameters used during the simulation\n",
    "            json.dump(datax, f) "
   ]
  },
  {
   "cell_type": "code",
   "execution_count": null,
   "metadata": {
    "collapsed": false
   },
   "outputs": [],
   "source": [
    "## Plotting EXTERNAL INPUTS\n",
    "Inplot(structures,[H['Msn'],H['Gpe'],H['Fsi']],'External Input value for each structure')\n",
    "plt.savefig('DataFsi/{}/0_H.png'.format(timestr),dpi=300,bbox_inches='tight')\n",
    "plt.show()"
   ]
  },
  {
   "cell_type": "code",
   "execution_count": null,
   "metadata": {
    "collapsed": false,
    "deletable": true,
    "editable": true
   },
   "outputs": [],
   "source": [
    "## Plotting INPUTS over time\n",
    "for k in range(0,n):\n",
    "    plotting(k,I,'Input over time: Neuron','Time (s)','Input (spk/s)',stc,structures,value,'Fsi','Msn','Gpe',On=0)\n",
    "    plt.savefig('DataFsi/{}/In{}.png'.format(timestr,k+1),dpi=300,bbox_inches='tight')\n",
    "    plt.show()"
   ]
  },
  {
   "cell_type": "code",
   "execution_count": null,
   "metadata": {
    "collapsed": false,
    "deletable": true,
    "editable": true
   },
   "outputs": [],
   "source": [
    "## Plotting ACTIVITIES over time\n",
    "for k in range(0,n):\n",
    "    plotting(k,m,'Activity over time: Neuron','Time (s)','Activity (spk/s)',con,connections,value,'MsnFsi','GpeMsn','FsiGpe',On=0)\n",
    "    plt.savefig('DataFsi/{}/Mn{}.png'.format(timestr,k+1),dpi=300,bbox_inches='tight')\n",
    "    plt.show()"
   ]
  },
  {
   "cell_type": "markdown",
   "metadata": {
    "deletable": true,
    "editable": true
   },
   "source": [
    "# ✔\t - Mean firing rate plotting - "
   ]
  },
  {
   "cell_type": "code",
   "execution_count": null,
   "metadata": {
    "collapsed": false,
    "deletable": true,
    "editable": true
   },
   "outputs": [],
   "source": [
    "## Ploting the mean activity of the n neuron\n",
    "plotting(n-1, m, 'Mean activities of all neuron(s) :  ', 'Time (s)','Activity (spk/s)', con, connections,Mean, 'MsnFsi', 'GpeMsn','FsiGpe',On=1)\n",
    "plt.savefig('DataFsi/{}/{}_Mean_Activities.png'.format(timestr,'0'),dpi=300,bbox_inches='tight')\n",
    "plt.show()"
   ]
  },
  {
   "cell_type": "markdown",
   "metadata": {
    "deletable": true,
    "editable": true
   },
   "source": [
    "# Fourrier transform"
   ]
  },
  {
   "cell_type": "code",
   "execution_count": null,
   "metadata": {
    "collapsed": false,
    "deletable": true,
    "editable": true
   },
   "outputs": [],
   "source": []
  }
 ],
 "metadata": {
  "kernelspec": {
   "display_name": "Python 3",
   "language": "python",
   "name": "python3"
  },
  "language_info": {
   "codemirror_mode": {
    "name": "ipython",
    "version": 3
   },
   "file_extension": ".py",
   "mimetype": "text/x-python",
   "name": "python",
   "nbconvert_exporter": "python",
   "pygments_lexer": "ipython3",
   "version": "3.5.2"
  }
 },
 "nbformat": 4,
 "nbformat_minor": 2
}
