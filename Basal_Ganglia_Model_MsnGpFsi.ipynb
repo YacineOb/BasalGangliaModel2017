{
 "cells": [
  {
   "cell_type": "markdown",
   "metadata": {
    "collapsed": true,
    "deletable": true,
    "editable": true
   },
   "source": [
    "# ✔\t - Import modules -"
   ]
  },
  {
   "cell_type": "code",
   "execution_count": 1,
   "metadata": {
    "collapsed": false,
    "deletable": true,
    "editable": true
   },
   "outputs": [],
   "source": [
    "import os\n",
    "import time\n",
    "import numpy as np\n",
    "import random\n",
    "from matplotlib import pyplot as plt\n",
    "from math import exp, cos\n",
    "import json\n",
    "from tqdm import tqdm"
   ]
  },
  {
   "cell_type": "markdown",
   "metadata": {
    "deletable": true,
    "editable": true
   },
   "source": [
    "# ✔\t - Function definition -"
   ]
  },
  {
   "cell_type": "markdown",
   "metadata": {
    "collapsed": true,
    "deletable": true,
    "editable": true
   },
   "source": [
    "# ✘ Corrected Input function"
   ]
  },
  {
   "cell_type": "code",
   "execution_count": 2,
   "metadata": {
    "collapsed": true,
    "deletable": true,
    "editable": true
   },
   "outputs": [],
   "source": [
    "# Function returning the corrected Input\n",
    "def Ic(Input=0):\n",
    "    if Input <= 0:\n",
    "        return 0\n",
    "    else:\n",
    "        return (Input)"
   ]
  },
  {
   "cell_type": "markdown",
   "metadata": {
    "collapsed": true,
    "deletable": true,
    "editable": true
   },
   "source": [
    "# ✘ Activity at time t-Delta (delay) function"
   ]
  },
  {
   "cell_type": "code",
   "execution_count": 3,
   "metadata": {
    "collapsed": false,
    "deletable": true,
    "editable": true
   },
   "outputs": [],
   "source": [
    "# function to get the index \"-delay/dt\" in the list representing m(t-Delta)\n",
    "def mdelta(synapse_value, delay, t, dt,i):\n",
    "    if t < delay:  # if the delay is the time is too small, we take m(t-delta)=0\n",
    "        return 0\n",
    "    else:  # if the time is above or equal to the delay, we can find the m(t-delta)\n",
    "        return synapse_value[int(-delay / dt)][i]"
   ]
  },
  {
   "cell_type": "markdown",
   "metadata": {
    "deletable": true,
    "editable": true
   },
   "source": [
    "# ✘ Plotting functions (Inputs & activities) and save data function"
   ]
  },
  {
   "cell_type": "code",
   "execution_count": 4,
   "metadata": {
    "collapsed": false,
    "deletable": true,
    "editable": true
   },
   "outputs": [],
   "source": [
    "def plottingI(k):\n",
    "    valueGpe=[0]*n_period\n",
    "    valueFsi=[0]*n_period\n",
    "    valueMsn=[0]*n_period\n",
    "    for stc in structures:\n",
    "        for t in range(0,n_period):\n",
    "        \n",
    "            valueGpe[t]=I['Gpe'][t][k]\n",
    "            valueFsi[t]=I['Fsi'][t][k]\n",
    "            valueMsn[t]=I['Msn'][t][k]\n",
    "        \n",
    "    fig = plt.figure(figsize=(9,5))\n",
    "    ax=fig.add_subplot(111)\n",
    "    ax.plot(time_value, valueGpe, label='Msn')\n",
    "    ax.plot(time_value, valueFsi, label='Gpe')\n",
    "    ax.plot(time_value, valueMsn, label='Fsi')\n",
    "    ax.set_title('Input over time: Neuron {}'.format(k+1))\n",
    "    ax.set_ylabel('Input')\n",
    "    ax.set_xlabel('time')\n",
    "    ax.grid()\n",
    "    ax.legend(bbox_to_anchor=(1.05, 1), loc=2, borderaxespad=0)"
   ]
  },
  {
   "cell_type": "code",
   "execution_count": 5,
   "metadata": {
    "collapsed": false,
    "deletable": true,
    "editable": true
   },
   "outputs": [],
   "source": [
    "def plottingA(k):    # better define that function? with choice name etc\n",
    "    valueGpeMsn=[0]*n_period\n",
    "    valueFsiGpe=[0]*n_period\n",
    "    valueMsnFsi=[0]*n_period\n",
    "    for con in connections:\n",
    "        for t in range(0,n_period):\n",
    "        \n",
    "            valueGpeMsn[t]=m['GpeMsn'][t][k]\n",
    "            valueFsiGpe[t]=m['FsiGpe'][t][k]\n",
    "            valueMsnFsi[t]=m['MsnFsi'][t][k]\n",
    "        \n",
    "    fig = plt.figure(figsize=(9,5))\n",
    "    ax=fig.add_subplot(111)\n",
    "    ax.plot(time_value, valueGpeMsn, label='Msn')\n",
    "    ax.plot(time_value, valueFsiGpe, label='Gpe')\n",
    "    ax.plot(time_value, valueMsnFsi, label='Fsi')\n",
    "    ax.set_title('Activities over time: Neuron {}'.format(k+1))\n",
    "    ax.set_ylabel('Activity')\n",
    "    ax.set_xlabel('time')\n",
    "    ax.grid()\n",
    "    ax.legend(bbox_to_anchor=(1.05, 1), loc=2, borderaxespad=0) "
   ]
  },
  {
   "cell_type": "code",
   "execution_count": 6,
   "metadata": {
    "collapsed": false,
    "deletable": true,
    "editable": true
   },
   "outputs": [],
   "source": [
    "def data_dir(dir=\"os.getcwd()\"):   # will create the files needed to store values in CWD/Data\n",
    "    directory = os.path.dirname(dir)\n",
    "    if not os.path.exists('{}/{}'.format(os.getcwd(),'Data')):\n",
    "        os.makedirs('{}/{}'.format(os.getcwd(),'Data'))\n",
    "    if not os.path.exists('Data/{}'.format(timestr)):\n",
    "        os.makedirs('Data/{}'.format(timestr))"
   ]
  },
  {
   "cell_type": "markdown",
   "metadata": {
    "collapsed": true,
    "deletable": true,
    "editable": true
   },
   "source": [
    "# ✔\t - Initial parameters - "
   ]
  },
  {
   "cell_type": "code",
   "execution_count": 7,
   "metadata": {
    "collapsed": true,
    "deletable": true,
    "editable": true
   },
   "outputs": [],
   "source": [
    "## Population size (number of neuron)\n",
    "n = 1\n",
    "\n",
    "## Default Time beginning (second)\n",
    "t = 0\n",
    "\n",
    "## Default trial duration (second)\n",
    "duration = 1.00   \n",
    "\n",
    "## Default Time resolution (second)\n",
    "dt = 0.0001  # 0.0001\n",
    "\n",
    "## Period occuring \n",
    "n_period = int(duration // dt) + 1\n",
    "\n",
    "## Initialization of the random generator (reproductibility)\n",
    "np.random.seed(0)"
   ]
  },
  {
   "cell_type": "code",
   "execution_count": 8,
   "metadata": {
    "collapsed": false,
    "deletable": true,
    "editable": true
   },
   "outputs": [],
   "source": [
    "time_value = np.arange(0, duration, dt) # creat the timescale, depending on the duration and step dt, for plotting"
   ]
  },
  {
   "cell_type": "code",
   "execution_count": 9,
   "metadata": {
    "collapsed": true,
    "deletable": true,
    "editable": true
   },
   "outputs": [],
   "source": [
    "connections = [\"GpeMsn\", \"FsiGpe\", \"MsnFsi\"] #\"MsnMsn\", \"FsiFsi\", \"GpeGpe\"]\n",
    "structures = [\"Msn\", \"Fsi\", \"Gpe\"]"
   ]
  },
  {
   "cell_type": "code",
   "execution_count": 10,
   "metadata": {
    "collapsed": false,
    "deletable": true,
    "editable": true
   },
   "outputs": [],
   "source": [
    " ## Fixed point activity: IN VIVO Values needed\n",
    "M = {                     \n",
    "    \"Msn\": 2,   # spikes/s\n",
    "    \"Fsi\": 3,   # spikes/s\n",
    "    \"Gpe\": 10   # spikes/s\n",
    "}\n",
    "\n",
    " ## Weights (connextions pre->post ; notation: PostPre)\n",
    "G = {\n",
    "    \"GpeMsn\": 1.00,\n",
    "    \"FsiGpe\": 1.00,\n",
    "    \"MsnFsi\": 1.00,\n",
    "    #\"MsnMsn\": 1.00,\n",
    "    #\"FsiFsi\": 1.00,\n",
    "    #\"GpeGpe\": 1.00\n",
    "}\n",
    "\n",
    " ## Tau:\n",
    "tau = {\n",
    "    \"GpeMsn\": 0.0200,\n",
    "    \"FsiGpe\": 0.0100,\n",
    "    \"MsnFsi\": 0.0100,\n",
    "    # \"MsnMsn\": 1.00,\n",
    "    #\"FsiFsi\": 1.00,\n",
    "   # \"GpeGpe\": 1.00\n",
    "}\n",
    "\n",
    " ## Delays:\n",
    "D = {\n",
    "    \"GpeMsn\": 0.0070, # 7ms: Jaeger & Kita, 2011 ; (in vivo-rat & monkey)\n",
    "    \"FsiGpe\": 0.0010, # 1ms: Jaeger & Kita, 2011 ; (in vivo-rat & monkey)\n",
    "    \"MsnFsi\": 0.0008, # 0.8ms: Gittis et al., 2010 ; (in vitro - mice)\n",
    "    #\"MsnMsn\": 1.00,\n",
    "    #\"FsiFsi\": 1.00,\n",
    "   # \"GpeGpe\": 1.00  # 1ms: Jaeger & Kita, 2011 ; (in vivo-rat & monkey)\n",
    "}\n",
    "\n",
    "\n",
    " ## Noise level (sigma)\n",
    "N = {\n",
    "    \"Msn\": 0.00,   \n",
    "    \"Fsi\": 0.00,   \n",
    "    \"Gpe\": 0.00\n",
    "}"
   ]
  },
  {
   "cell_type": "code",
   "execution_count": 11,
   "metadata": {
    "collapsed": true,
    "deletable": true,
    "editable": true
   },
   "outputs": [],
   "source": [
    "input_mapping = {\n",
    "    \"Msn\": \"MsnFsi\",\n",
    "    \"Gpe\": \"GpeMsn\",\n",
    "    \"Fsi\": \"FsiGpe\"\n",
    "}\n",
    "\n",
    "activities_mapping = {\n",
    "    \"GpeMsn\": \"Msn\",\n",
    "    \"FsiGpe\": \"Gpe\",\n",
    "    \"MsnFsi\": \"Fsi\"\n",
    "}"
   ]
  },
  {
   "cell_type": "code",
   "execution_count": 12,
   "metadata": {
    "collapsed": false,
    "deletable": true,
    "editable": true
   },
   "outputs": [],
   "source": [
    "## creation of array of n neurons to store m, dm and connectivity probability(0 or 1)\n",
    "m, dm, J, H, y = dict(), dict(), dict(), dict(), dict()\n",
    "\n",
    "for con in connections:   # create an array of 'nperiod' array(to store the value trought the time) with n zeroes\n",
    "\n",
    "    m[con] = np.zeros((n_period, n))\n",
    "   \n",
    "    y[con]=int(D[con]/dt)\n",
    "\n",
    "    stc = activities_mapping[con]\n",
    "    m[con][0:(y[con])]= M[stc]\n",
    "    \n",
    "    dm[con] = np.zeros((n_period, n))\n",
    "    \n",
    "    if con  == 'GpeMsn':         # create an array composed of 0 & 1 depending on the probability \"Co\"(max=1=100%)\n",
    "        Co=1.000\n",
    "    elif con == 'FsiGpe':\n",
    "        Co=1.000\n",
    "    elif con == 'MsnFsi':\n",
    "        Co=1.000\n",
    "        \n",
    "    J[con] = np.random.choice(2, size=(n, n), p=[(1-Co),Co])"
   ]
  },
  {
   "cell_type": "code",
   "execution_count": 13,
   "metadata": {
    "collapsed": false,
    "deletable": true,
    "editable": true
   },
   "outputs": [
    {
     "name": "stdout",
     "output_type": "stream",
     "text": [
      " HGpe: 12.0 spk/s \n",
      " HFsi: 13.0 spk/s \n",
      " HMsn: 5.0 spk/s\n"
     ]
    }
   ],
   "source": [
    "for stc in structures: \n",
    "    if stc  == 'Gpe':         \n",
    "        H[stc]= M[stc]+G['GpeMsn']*M['Msn']\n",
    "    elif stc == 'Fsi':\n",
    "        H[stc]= M[stc]+G['FsiGpe']*M['Gpe']\n",
    "    elif stc == 'Msn':\n",
    "        H[stc]= M[stc]+G['MsnFsi']*M['Fsi']\n",
    "\n",
    "\n",
    "print(' HGpe:',H['Gpe'], 'spk/s','\\n','HFsi:',H['Fsi'], 'spk/s','\\n','HMsn:',H['Msn'], 'spk/s')"
   ]
  },
  {
   "cell_type": "code",
   "execution_count": 14,
   "metadata": {
    "collapsed": false,
    "deletable": true,
    "editable": true
   },
   "outputs": [],
   "source": [
    "## inputs: pick noise value before iteration for calculation optimisation (sigma is different for structures)\n",
    "I = dict()\n",
    "for stc in structures: # create an array of 'nperiod' line & n column(to store value trought the time) with noise\n",
    "    if stc  == 'Gpe':         # create an array composed of 0 & 1 depending on the probability \"Co\"(max=1=100%)\n",
    "        sigma = 1.000 # sigma is the standard deviation of the white gausian noise. Here , different for all populat\n",
    "    elif stc == 'Fsi':\n",
    "        sigma = 1.000 \n",
    "    elif stc == 'Msn':\n",
    "        sigma = 1.000 \n",
    "    \n",
    "    #I[stc] = np.random.normal(0, sigma, size=(n_period, n)) + H[stc] # add H, external Inputs calculated above\n",
    "    I[stc] = np.zeros((n_period,n)) + H[stc]  # same as above but WITHOUT NOISE"
   ]
  },
  {
   "cell_type": "markdown",
   "metadata": {
    "collapsed": true,
    "deletable": true,
    "editable": true
   },
   "source": [
    "# ✔\t - Simulation Core -"
   ]
  },
  {
   "cell_type": "code",
   "execution_count": 15,
   "metadata": {
    "collapsed": false,
    "deletable": true,
    "editable": true
   },
   "outputs": [
    {
     "name": "stderr",
     "output_type": "stream",
     "text": [
      "100%|██████████| 9999/9999 [00:00<00:00, 25606.58it/s]\n"
     ]
    }
   ],
   "source": [
    "for t in tqdm(range(1, n_period)):    ## Update of Inputs\n",
    "    \n",
    "    for stc in structures:\n",
    "        for i in range(n):\n",
    "            if stc == \"Msn\" or \"Gpe\" or \"Fsi\":\n",
    "                con = input_mapping[stc] #multiplication by the probability of connexion below with n\n",
    "                I[stc][t][i] += - np.sum(G[con]* mdelta(m[con][:t + 1], D[con], time_value[t], dt,i) *J[con][i]) /n\n",
    "            else: \n",
    "                continue\n",
    "\n",
    "    for con in connections:          ## Update of activities : METTRE  NIVEAU BASAL : FREQUENCE UP\n",
    "        \n",
    "        for i in range(n):\n",
    "            stc = activities_mapping[con]\n",
    "            dm[con][t][i] = dt * (- m[con][t][i] + Ic(I[stc][t][i])) / tau[con]\n",
    "            \n",
    "        if t < n_period-1: # we can't add last value of dm to the last value of m\n",
    "            m[con][t+1]=m[con][t]+dm[con][t]\n",
    "        else:\n",
    "            continue"
   ]
  },
  {
   "cell_type": "markdown",
   "metadata": {
    "collapsed": true,
    "deletable": true,
    "editable": true
   },
   "source": [
    "# ✔\t - Result Plots & Save data -"
   ]
  },
  {
   "cell_type": "code",
   "execution_count": 16,
   "metadata": {
    "collapsed": false,
    "deletable": true,
    "editable": true
   },
   "outputs": [],
   "source": [
    "timestr = time.strftime(\"%Y-%m-%d-%H:%M:%S\") # give the date and time that will be used to tag simulation results\n",
    "data_dir()  # creating the 'Data' directory on CWD and the directory (with date & time) to store the results\n",
    "\n",
    "for stc in structures:  # save the Input array (npy format) for each neuron population in \"structures\"\n",
    "    np.save('Data/{}/{}_Inputs'.format(timestr, stc), I[stc])\n",
    "    \n",
    "for con in connections: # save the Activity array (npy format) for each neuron population in \"connections\"\n",
    "    np.save('Data/{}/{}_Activities'.format(timestr, con), m[con])\n",
    "\n",
    "datax={'Weight':G,'Delay':D,'tau':tau,'Noise':N,  # make one dict with all parameters used \n",
    "       'Neuron_number':n,'time_trial':t,'duration':duration,'step':dt}\n",
    "\n",
    "with open('Data/{}/0_Parameters.json'.format(timestr),'w') as f: # save the parameters used during the simulation\n",
    "            json.dump(datax, f) "
   ]
  },
  {
   "cell_type": "code",
   "execution_count": 17,
   "metadata": {
    "collapsed": false,
    "deletable": true,
    "editable": true
   },
   "outputs": [
    {
     "data": {
      "image/png": "[encoded data removed]",
      "text/plain": [
       "<matplotlib.figure.Figure at 0x7f1e77fc0f60>"
      ]
     },
     "metadata": {},
     "output_type": "display_data"
    }
   ],
   "source": [
    "## Plotting INPUTS\n",
    "for k in range(0,n):\n",
    "    plottingI(k)\n",
    "    plt.savefig('Data/{}/In{}.png'.format(timestr,k+1),dpi=300,bbox_inches='tight')\n",
    "    plt.show()"
   ]
  },
  {
   "cell_type": "code",
   "execution_count": 18,
   "metadata": {
    "collapsed": false,
    "deletable": true,
    "editable": true
   },
   "outputs": [
    {
     "data": {
      "image/png": "[encoded data removed]",
      "text/plain": [
       "<matplotlib.figure.Figure at 0x7f1e77e9de10>"
      ]
     },
     "metadata": {},
     "output_type": "display_data"
    }
   ],
   "source": [
    "## Plotting ACTIVITIES\n",
    "for k in range(0,n):\n",
    "    plottingA(k)\n",
    "    plt.savefig('Data/{}/Mn{}.png'.format(timestr,k+1),dpi=300,bbox_inches='tight')\n",
    "    plt.show()"
   ]
  },
  {
   "cell_type": "markdown",
   "metadata": {
    "deletable": true,
    "editable": true
   },
   "source": [
    "# ✔\t - Mean firing rate plotting - "
   ]
  },
  {
   "cell_type": "code",
   "execution_count": 19,
   "metadata": {
    "collapsed": false,
    "deletable": true,
    "editable": true
   },
   "outputs": [
    {
     "data": {
      "image/png": "[encoded data removed]",
      "text/plain": [
       "<matplotlib.figure.Figure at 0x7f1e77ddd9b0>"
      ]
     },
     "metadata": {},
     "output_type": "display_data"
    }
   ],
   "source": [
    "MeaniGM=list()\n",
    "MeaniMF=list()\n",
    "MeaniFG=list()\n",
    "for con in connections:\n",
    "    for t in range(0,n_period):\n",
    "        if con  == 'GpeMsn':\n",
    "            MeaniGM.append(np.mean(m['GpeMsn'][t]))\n",
    "        elif con == 'MsnFsi':\n",
    "            MeaniMF.append(np.mean(m['MsnFsi'][t]))\n",
    "        elif con == 'FsiGpe':\n",
    "            MeaniFG.append(np.mean(m['FsiGpe'][t]))  \n",
    "\n",
    "plt.plot(time_value,MeaniGM,label='Msn')\n",
    "plt.plot(time_value,MeaniFG,label='Gpe')\n",
    "plt.plot(time_value,MeaniMF,label='Fsi')\n",
    "plt.legend(bbox_to_anchor=(1.05, 1), loc=2, borderaxespad=0.)\n",
    "plt.grid()\n",
    "plt.show()"
   ]
  }
 ],
 "metadata": {
  "kernelspec": {
   "display_name": "Python 3",
   "language": "python",
   "name": "python3"
  },
  "language_info": {
   "codemirror_mode": {
    "name": "ipython",
    "version": 3
   },
   "file_extension": ".py",
   "mimetype": "text/x-python",
   "name": "python",
   "nbconvert_exporter": "python",
   "pygments_lexer": "ipython3",
   "version": "3.5.2"
  }
 },
 "nbformat": 4,
 "nbformat_minor": 2
}
