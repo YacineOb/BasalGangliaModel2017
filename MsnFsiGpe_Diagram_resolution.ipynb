{
 "cells": [
  {
   "cell_type": "code",
   "execution_count": 1,
   "metadata": {
    "collapsed": false,
    "deletable": true,
    "editable": true
   },
   "outputs": [],
   "source": [
    "from __future__ import division\n",
    "from scipy import *\n",
    "from pylab import *\n",
    "from scipy.optimize import *\n",
    "from tqdm import tqdm\n",
    "import time\n",
    "import os\n",
    "from math import *"
   ]
  },
  {
   "cell_type": "markdown",
   "metadata": {},
   "source": [
    "# Function definition"
   ]
  },
  {
   "cell_type": "code",
   "execution_count": 2,
   "metadata": {
    "collapsed": true
   },
   "outputs": [],
   "source": [
    "timestr = time.strftime(\"%Y-%m-%d-%H:%M:%S\") # give the date and time that will be used to tag simulation results\n",
    "\n",
    "def data_dir(dir=\"os.getcwd()\"):   # will create the files needed to store values in CWD/Data\n",
    "    directory = os.path.dirname(dir)\n",
    "    if not os.path.exists('{}/{}'.format(os.getcwd(),'DiagramFsi')):\n",
    "        os.makedirs('{}/{}'.format(os.getcwd(),'DiagramFsi'))\n",
    "    if not os.path.exists('DiagramFsi/{}'.format(timestr)):\n",
    "        os.makedirs('DiagramFsi/{}'.format(timestr))"
   ]
  },
  {
   "cell_type": "code",
   "execution_count": 3,
   "metadata": {
    "collapsed": true
   },
   "outputs": [],
   "source": [
    "def syst(var): # définition du système\n",
    "    w, y = var[0], var[1] # définition des variables\n",
    "    eq1 = y*sin(w*DeltaFSI) - w*((t1+t2+t3) - ((w**2)*t1*t2*t3))\n",
    "    eq2 = y*cos(w*DeltaFSI) - ((w**2)*(t1*t2+t2*t3+t1*t3) - 1)\n",
    "    res = [eq1, eq2]\n",
    "    return res"
   ]
  },
  {
   "cell_type": "markdown",
   "metadata": {},
   "source": [
    "# Parameters needed"
   ]
  },
  {
   "cell_type": "code",
   "execution_count": 4,
   "metadata": {
    "collapsed": true,
    "deletable": true,
    "editable": true
   },
   "outputs": [],
   "source": [
    "## ====================================== MSNFSIGPe ===========================================\n",
    "t1 =0.050   # time constant\n",
    "t2 =0.005\n",
    "t3 =0.005 \n",
    "\n",
    "DeltaFSI = 0.0070 + 0.0010 + 0.0008 # delay"
   ]
  },
  {
   "cell_type": "markdown",
   "metadata": {},
   "source": [
    "# Resolution process"
   ]
  },
  {
   "cell_type": "code",
   "execution_count": 6,
   "metadata": {
    "collapsed": true
   },
   "outputs": [],
   "source": [
    "w0, y0 = 200, 3 # Initialisation de la recherche des solutions numériques\n",
    "sol_ini = [w0, y0]\n",
    "\n",
    "lowlim=0\n",
    "highlim=0.100\n",
    "step=0.001"
   ]
  },
  {
   "cell_type": "code",
   "execution_count": 7,
   "metadata": {
    "collapsed": true
   },
   "outputs": [],
   "source": [
    "Dl=np.arange(lowlim,highlim,step)\n",
    "wl=np.zeros(int(highlim/step))\n",
    "fl=np.zeros(int(highlim/step))\n",
    "Gl=np.zeros(int(highlim/step))"
   ]
  },
  {
   "cell_type": "code",
   "execution_count": 8,
   "metadata": {
    "collapsed": false
   },
   "outputs": [
    {
     "name": "stderr",
     "output_type": "stream",
     "text": [
      "100%|██████████| 100/100 [00:00<00:00, 2908.21it/s]"
     ]
    },
    {
     "name": "stdout",
     "output_type": "stream",
     "text": [
      "[ 219.089023   24.2     ]\n",
      "[ 185.08220159   17.27920557]\n",
      "[ 162.9136514    13.65224641]\n",
      "[ 146.74601892   11.39175831]\n",
      "[ 134.19545478    9.83805641]\n",
      "[ 124.05322543    8.69991937]\n",
      "[ 115.62267635    7.82781933]\n",
      "[ 108.46629731    7.13675276]\n",
      "[ 102.2917874     6.57469188]\n",
      "[ 96.89449972   6.10794738]\n",
      "[ 92.12580028   5.71371222]\n",
      "[ 87.87449926   5.37597881]\n",
      "[ 84.05537111   5.08317058]\n",
      "[ 80.60174853   4.82670146]\n",
      "[ 77.46057186   4.6000644 ]\n",
      "[ 74.58897893   4.39823497]\n",
      "[ 71.95189465   4.21726966]\n",
      "[ 69.52028871   4.05402844]\n",
      "[ 67.26989129   3.90597886]\n",
      "[ 65.18023      3.77105492]\n",
      "[ 63.2338963    3.64755375]\n",
      "[ 61.41597927   3.53405864]\n",
      "[ 59.71362283   3.42938088]\n",
      "[ 58.11567584   3.33251539]\n",
      "[ 56.61241258   3.24260625]\n",
      "[ 55.19530752   3.15891985]\n",
      "[ 53.8568522    3.08082359]\n",
      "[ 52.59040517   3.00776894]\n",
      "[ 51.39006818   2.93927781]\n",
      "[ 50.25058335   2.87493149]\n",
      "[ 49.16724715   2.81436163]\n",
      "[ 48.1358381    2.75724283]\n",
      "[ 47.15255567   2.7032865 ]\n",
      "[ 46.21396832   2.65223574]\n",
      "[ 45.31696919   2.60386109]\n",
      "[ 44.4587381   2.5579569]\n",
      "[ 43.63670875   2.51433832]\n",
      "[ 42.84854051   2.47283871]\n",
      "[ 42.0920938    2.43330739]\n",
      "[ 41.36540872   2.39560783]\n",
      "[ 40.66668637   2.35961593]\n",
      "[ 39.99427246   2.3252187 ]\n",
      "[ 39.34664294   2.29231298]\n",
      "[ 38.72239125   2.2608044 ]\n",
      "[ 38.12021715   2.23060648]\n",
      "[ 37.53891672   2.20163977]\n",
      "[ 36.97737351   2.17383119]\n",
      "[ 36.43455072   2.14711335]\n",
      "[ 35.90948407   2.12142406]\n",
      "[ 35.40127559   2.09670578]\n",
      "[ 34.90908791   2.07290522]\n",
      "[ 34.43213919   2.04997295]\n",
      "[ 33.96969859   2.02786304]\n",
      "[ 33.52108208   2.00653277]\n",
      "[ 33.08564878   1.98594234]\n",
      "[ 32.66279753   1.96605463]\n",
      "[ 32.25196386   1.94683497]\n",
      "[ 31.85261721   1.92825094]\n",
      "[ 31.46425837   1.91027221]\n",
      "[ 31.08641721   1.89287033]\n",
      "[ 30.71865055   1.87601864]\n",
      "[ 30.36054027   1.85969207]\n",
      "[ 30.0116915    1.84386709]\n",
      "[ 29.67173107   1.82852153]\n",
      "[ 29.34030596   1.81363451]\n",
      "[ 29.01708202   1.79918637]\n",
      "[ 28.70174265   1.78515853]\n",
      "[ 28.39398767   1.77153347]\n",
      "[ 28.0935323    1.75829462]\n",
      "[ 27.80010611   1.7454263 ]\n",
      "[ 27.51345217   1.73291367]\n",
      "[ 27.23332619   1.72074268]\n",
      "[ 26.95949573   1.7089    ]\n",
      "[ 26.69173953   1.69737299]\n",
      "[ 26.42984678   1.68614964]\n",
      "[ 26.17361656   1.67521854]\n",
      "[ 25.9228572    1.66456887]\n",
      "[ 25.67738583   1.65419029]\n",
      "[ 25.43702777   1.64407299]\n",
      "[ 25.20161619   1.63420762]\n",
      "[ 24.97099157   1.62458527]\n",
      "[ 24.74500135   1.61519743]\n",
      "[ 24.52349955   1.60603601]\n",
      "[ 24.3063464    1.59709324]\n",
      "[ 24.093408     1.58836175]\n",
      "[ 23.88455606   1.57983446]\n",
      "[ 23.67966754   1.57150461]\n",
      "[ 23.47862444   1.56336574]\n",
      "[ 23.28131349   1.55541166]\n",
      "[ 23.08762597   1.54763645]\n",
      "[ 22.89745743   1.54003442]\n",
      "[ 22.7107075    1.53260014]\n",
      "[ 22.5272797    1.52532839]\n",
      "[ 22.34708123   1.51821416]\n",
      "[ 22.17002281   1.51125264]\n",
      "[ 21.99601852   1.50443923]\n",
      "[ 21.82498562   1.49776949]\n",
      "[ 21.65684441   1.49123917]\n",
      "[ 21.49151809   1.48484417]\n",
      "[ 21.32893265   1.47858055]\n"
     ]
    },
    {
     "name": "stderr",
     "output_type": "stream",
     "text": [
      "\n"
     ]
    },
    {
     "data": {
      "image/png": "[encoded data removed]",
      "text/plain": [
       "<matplotlib.figure.Figure at 0x7fa6b4339ac8>"
      ]
     },
     "metadata": {},
     "output_type": "display_data"
    },
    {
     "data": {
      "image/png": "[encoded data removed]",
      "text/plain": [
       "<matplotlib.figure.Figure at 0x7fa6be7c82b0>"
      ]
     },
     "metadata": {},
     "output_type": "display_data"
    },
    {
     "data": {
      "image/png": "[encoded data removed]",
      "text/plain": [
       "<matplotlib.figure.Figure at 0x7fa6ad0b49b0>"
      ]
     },
     "metadata": {},
     "output_type": "display_data"
    }
   ],
   "source": [
    "data_dir()\n",
    "\n",
    "i=0\n",
    "for DeltaFSI in tqdm(np.arange(lowlim,highlim,step)):\n",
    "    sol=fsolve(syst, sol_ini)\n",
    "    print(sol)\n",
    "\n",
    "    sol2=sol[0]/(2*pi)\n",
    "    \n",
    "    wl[i]=sol[0]\n",
    "    fl[i]=sol2\n",
    "    Gl[i]=sol[1]\n",
    "    \n",
    "    i+=1\n",
    "    sol_ini =[sol[0],y0]\n",
    "\n",
    "plt.plot(Dl,fl)\n",
    "plt.xlabel('D')\n",
    "plt.ylabel('f')\n",
    "plt.show()\n",
    "\n",
    "plt.plot(Dl,Gl)\n",
    "plt.xlabel('D')\n",
    "plt.ylabel('G')\n",
    "plt.show()\n",
    "\n",
    "plt.plot(Gl,fl)\n",
    "plt.xlabel('G')\n",
    "plt.ylabel('f')\n",
    "plt.show()\n",
    "\n",
    "np.save('DiagramFsi/{}/{}_omega'.format(timestr,t1),wl)\n",
    "np.save('DiagramFsi/{}/{}_frequency'.format(timestr,t1),fl)\n",
    "np.save('DiagramFsi/{}/{}_weight'.format(timestr,t1),Gl)\n",
    "np.save('DiagramFsi/{}/{}_delta'.format(timestr,t1),Dl)"
   ]
  }
 ],
 "metadata": {
  "kernelspec": {
   "display_name": "Python 3",
   "language": "python",
   "name": "python3"
  },
  "language_info": {
   "codemirror_mode": {
    "name": "ipython",
    "version": 3
   },
   "file_extension": ".py",
   "mimetype": "text/x-python",
   "name": "python",
   "nbconvert_exporter": "python",
   "pygments_lexer": "ipython3",
   "version": "3.5.2"
  }
 },
 "nbformat": 4,
 "nbformat_minor": 2
}
